{
 "cells": [
  {
   "cell_type": "markdown",
   "id": "462871c3",
   "metadata": {},
   "source": [
    "# Fine-Tuning distilgpt2 on Synthetic Banking Data\n",
    "\n",
    "This notebook demonstrates how to fine-tune the small language model `distilgpt2` using a synthetic banking Q&A dataset. The workflow includes data loading, preprocessing, model setup, training, evaluation, and documentation of each step."
   ]
  },
  {
   "cell_type": "markdown",
   "id": "961eb382",
   "metadata": {},
   "source": [
    "## 1. Load and Prepare Dataset\n",
    "\n",
    "We will load the synthetic banking Q&A dataset and prepare it for training. The dataset consists of instruction-response pairs suitable for conversational fine-tuning."
   ]
  },
  {
   "cell_type": "code",
   "execution_count": 1,
   "id": "f2aff502",
   "metadata": {},
   "outputs": [
    {
     "name": "stdout",
     "output_type": "stream",
     "text": [
      "Training samples: 31\n",
      "Test samples: 8\n"
     ]
    }
   ],
   "source": [
    "import json\n",
    "import pandas as pd\n",
    "from sklearn.model_selection import train_test_split\n",
    "\n",
    "# Load synthetic banking dataset\n",
    "with open('banking_synthetic.json', 'r') as f:\n",
    "    data = json.load(f)\n",
    "\n",
    "# Convert to DataFrame\n",
    "df = pd.DataFrame(data)\n",
    "\n",
    "# Combine instruction and response for conversational fine-tuning\n",
    "# For distilgpt2, we concatenate instruction and response as a single text\n",
    "texts = [f\"Instruction: {row['instruction']}\\nResponse: {row['response']}\" for row in data]\n",
    "\n",
    "# Split into train and test sets\n",
    "train_texts, test_texts = train_test_split(texts, test_size=0.2, random_state=42)\n",
    "\n",
    "print(f\"Training samples: {len(train_texts)}\")\n",
    "print(f\"Test samples: {len(test_texts)}\")"
   ]
  },
  {
   "cell_type": "markdown",
   "id": "975f5b73",
   "metadata": {},
   "source": [
    "## 2. Define Model Architecture\n",
    "\n",
    "We will use the Hugging Face `transformers` library to load the pre-trained `distilgpt2` model and tokenizer. This model is suitable for conversational and text generation tasks."
   ]
  },
  {
   "cell_type": "code",
   "execution_count": 2,
   "id": "dbc63f96",
   "metadata": {},
   "outputs": [
    {
     "name": "stdout",
     "output_type": "stream",
     "text": [
      "torch.Size([1, 38])\n"
     ]
    }
   ],
   "source": [
    "from transformers import AutoTokenizer, AutoModelForCausalLM\n",
    "\n",
    "model_name = \"distilgpt2\"\n",
    "tokenizer = AutoTokenizer.from_pretrained(model_name)\n",
    "model = AutoModelForCausalLM.from_pretrained(model_name)\n",
    "\n",
    "# Example tokenization\n",
    "inputs = tokenizer(train_texts[0], return_tensors=\"pt\")\n",
    "print(inputs.input_ids.shape)"
   ]
  },
  {
   "cell_type": "markdown",
   "id": "de3b933d",
   "metadata": {},
   "source": [
    "## 3. Configure Training Parameters\n",
    "\n",
    "Set up training parameters such as learning rate, batch size, number of epochs, and optimizer. We will use the `Trainer` API from Hugging Face for simplicity."
   ]
  },
  {
   "cell_type": "code",
   "execution_count": null,
   "id": "268f14a4",
   "metadata": {},
   "outputs": [
    {
     "name": "stderr",
     "output_type": "stream",
     "text": [
      "/usr/local/python/3.12.1/lib/python3.12/site-packages/transformers/data/datasets/language_modeling.py:53: FutureWarning: This dataset will be removed from the library soon, preprocessing should be handled with the 🤗 Datasets library. You can have a look at this example script for pointers: https://github.com/huggingface/transformers/blob/main/examples/pytorch/language-modeling/run_mlm.py\n",
      "  warnings.warn(\n"
     ]
    },
    {
     "ename": "",
     "evalue": "",
     "output_type": "error",
     "traceback": [
      "\u001b[1;31mThe Kernel crashed while executing code in the current cell or a previous cell. \n",
      "\u001b[1;31mPlease review the code in the cell(s) to identify a possible cause of the failure. \n",
      "\u001b[1;31mClick <a href='https://aka.ms/vscodeJupyterKernelCrash'>here</a> for more info. \n",
      "\u001b[1;31mView Jupyter <a href='command:jupyter.viewOutput'>log</a> for further details."
     ]
    }
   ],
   "source": [
    "from transformers import Trainer, TrainingArguments, TextDataset, DataCollatorForLanguageModeling\n",
    "import torch\n",
    "\n",
    "# Save train and test texts to files for TextDataset\n",
    "with open(\"train.txt\", \"w\") as f:\n",
    "    for line in train_texts:\n",
    "        f.write(line + \"\\n\")\n",
    "with open(\"test.txt\", \"w\") as f:\n",
    "    for line in test_texts:\n",
    "        f.write(line + \"\\n\")\n",
    "\n",
    "train_dataset = TextDataset(\n",
    "    tokenizer=tokenizer,\n",
    "    file_path=\"train.txt\",\n",
    "    block_size=128\n",
    ")\n",
    "test_dataset = TextDataset(\n",
    "    tokenizer=tokenizer,\n",
    "    file_path=\"test.txt\",\n",
    "    block_size=128\n",
    ")\n",
    "data_collator = DataCollatorForLanguageModeling(\n",
    "    tokenizer=tokenizer,\n",
    "    mlm=False\n",
    ")\n",
    "\n",
    "training_args = TrainingArguments(\n",
    "    output_dir=\"./output\",\n",
    "    overwrite_output_dir=True,\n",
    "    num_train_epochs=3,\n",
    "    per_device_train_batch_size=8,\n",
    "    per_device_eval_batch_size=8,\n",
    "    do_eval=True,\n",
    "    learning_rate=5e-5,\n",
    "    logging_dir=\"./logs\",\n",
    "    logging_steps=10,\n",
    "    save_steps=500,\n",
    "    save_total_limit=2\n",
    ")"
   ]
  },
  {
   "cell_type": "markdown",
   "id": "c10ba364",
   "metadata": {},
   "source": [
    "## 4. Train the Model\n",
    "\n",
    "We will use the Hugging Face `Trainer` to fine-tune the model on our dataset. Training progress and evaluation will be logged."
   ]
  },
  {
   "cell_type": "code",
   "execution_count": null,
   "id": "da53e2e8",
   "metadata": {},
   "outputs": [
    {
     "name": "stderr",
     "output_type": "stream",
     "text": [
      "/home/codespace/.local/lib/python3.12/site-packages/torch/utils/data/dataloader.py:665: UserWarning: 'pin_memory' argument is set as true but no accelerator is found, then device pinned memory won't be used.\n",
      "  warnings.warn(warn_msg)\n",
      "`loss_type=None` was set in the config but it is unrecognized. Using the default loss: `ForCausalLMLoss`.\n",
      "`loss_type=None` was set in the config but it is unrecognized. Using the default loss: `ForCausalLMLoss`.\n"
     ]
    }
   ],
   "source": [
    "trainer = Trainer(\n",
    "    model=model,\n",
    "    args=training_args,\n",
    "    train_dataset=train_dataset,\n",
    "    eval_dataset=test_dataset,\n",
    "    data_collator=data_collator,\n",
    ")\n",
    "\n",
    "trainer.train()\n",
    "\n",
    "# Save the trained model\n",
    "trainer.save_model(\"./output/distilgpt2-banking-finetuned\")"
   ]
  },
  {
   "cell_type": "markdown",
   "id": "6125138b",
   "metadata": {},
   "source": [
    "## 5. Evaluate Model Performance\n",
    "\n",
    "After training, we evaluate the model on the test set. We can generate sample outputs and compare them to expected responses."
   ]
  },
  {
   "cell_type": "code",
   "execution_count": null,
   "id": "f14d01e2",
   "metadata": {},
   "outputs": [],
   "source": [
    "# Generate sample outputs from the fine-tuned model\n",
    "for i in range(3):\n",
    "    input_text = test_texts[i].split('Response:')[0] + 'Response:'\n",
    "    input_ids = tokenizer.encode(input_text, return_tensors=\"pt\")\n",
    "    output_ids = model.generate(input_ids, max_length=100, num_beams=5, early_stopping=True)\n",
    "    print(f\"Input: {input_text}\")\n",
    "    print(f\"Generated: {tokenizer.decode(output_ids[0], skip_special_tokens=True)}\\n\")"
   ]
  },
  {
   "cell_type": "markdown",
   "id": "03153149",
   "metadata": {},
   "source": [
    "## 6. Document the Training Process\n",
    "\n",
    "This notebook walks through the workflow for fine-tuning a small LLM (`distilgpt2`) on a synthetic banking dataset. Each section is documented with explanations and code comments. You can adjust hyperparameters, dataset, and model as needed for your own experiments.\n",
    "\n",
    "**Workflow Summary:**\n",
    "- Load and preprocess data\n",
    "- Define and load model architecture\n",
    "- Configure training parameters\n",
    "- Train the model using Hugging Face Trainer\n",
    "- Evaluate model performance with sample outputs\n",
    "- Document each step for reproducibility and understanding"
   ]
  }
 ],
 "metadata": {
  "kernelspec": {
   "display_name": "Python 3",
   "language": "python",
   "name": "python3"
  },
  "language_info": {
   "codemirror_mode": {
    "name": "ipython",
    "version": 3
   },
   "file_extension": ".py",
   "mimetype": "text/x-python",
   "name": "python",
   "nbconvert_exporter": "python",
   "pygments_lexer": "ipython3",
   "version": "3.12.1"
  }
 },
 "nbformat": 4,
 "nbformat_minor": 5
}
