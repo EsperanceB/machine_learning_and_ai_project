{
 "cells": [
  {
   "cell_type": "markdown",
   "metadata": {},
   "source": [
    "# Part 1: Packaging and Uploading your Algorithm for use with Amazon SageMaker\n",
    "\n",
    "### An overview of Docker\n",
    "\n",
    "If you're familiar with Docker already, you can skip ahead to the next section.\n",
    "\n",
    "For many data scientists, Docker containers are a new concept, but they are not difficult, as you'll see here. \n",
    "\n",
    "Docker provides a simple way to package arbitrary code into an _image_ that is totally self-contained. Once you have an image, you can use Docker to run a _container_ based on that image. Running a container is just like running a program on the machine except that the container creates a fully self-contained environment for the program to run. Containers are isolated from each other and from the host environment, so the way you set up your program is the way it runs, no matter where you run it.\n",
    "\n",
    "Docker is more powerful than environment managers like conda or virtualenv because (a) it is completely language independent and (b) it comprises your whole operating environment, including startup commands, environment variable, etc.\n",
    "\n",
    "In some ways, a Docker container is like a virtual machine, but it is much lighter weight. For example, a program running in a container can start in less than a second and many containers can run on the same physical machine or virtual machine instance.\n",
    "\n",
    "Docker uses a simple file called a `Dockerfile` to specify how the image is assembled. We'll see an example of that below. You can build your Docker images based on Docker images built by yourself or others, which can simplify things quite a bit.\n",
    "\n",
    "Docker has become very popular in the programming and devops communities for its flexibility and well-defined specification of the code to be run. It is the underpinning of many services built in the past few years, such as [Amazon ECS].\n",
    "\n",
    "Amazon SageMaker uses Docker to allow users to train and deploy arbitrary algorithms.\n",
    "\n",
    "In Amazon SageMaker, Docker containers are invoked in a certain way for training and a slightly different way for hosting. The following sections outline how to build containers for the SageMaker environment.\n",
    "\n",
    "Some helpful links:\n",
    "\n",
    "* [Docker home page](http://www.docker.com)\n",
    "* [Getting started with Docker](https://docs.docker.com/get-started/)\n",
    "* [Dockerfile reference](https://docs.docker.com/engine/reference/builder/)\n",
    "* [`docker run` reference](https://docs.docker.com/engine/reference/run/)\n",
    "\n",
    "[Amazon ECS]: https://aws.amazon.com/ecs/\n",
    "\n",
    "### How Amazon SageMaker runs your Docker container\n",
    "\n",
    "Because you can run the same image in training or hosting, Amazon SageMaker runs your container with the argument `train` or `serve`. How your container processes this argument depends on the container:\n",
    "\n",
    "* In the example here, we don't define an `ENTRYPOINT` in the Dockerfile so Docker will run the command `train` at training time and `serve` at serving time. In this example, we define these as executable Python scripts, but they could be any program that we want to start in that environment.\n",
    "* If you specify a program as an `ENTRYPOINT` in the Dockerfile, that program will be run at startup and its first argument will be `train` or `serve`. The program can then look at that argument and decide what to do.\n",
    "* If you are building separate containers for training and hosting (or building only for one or the other), you can define a program as an `ENTRYPOINT` in the Dockerfile and ignore (or verify) the first argument passed in. \n",
    "\n",
    "#### Running your container during training\n",
    "\n",
    "When Amazon SageMaker runs training, your `train` script is run just like a regular Python program. A number of files are laid out for your use, under the `/opt/ml` directory:\n",
    "\n",
    "    /opt/ml\n",
    "    |-- input\n",
    "    |   |-- config\n",
    "    |   |   |-- hyperparameters.json\n",
    "    |   |   `-- resourceConfig.json\n",
    "    |   `-- data\n",
    "    |       `-- <channel_name>\n",
    "    |           `-- <input data>\n",
    "    |-- model\n",
    "    |   `-- <model files>\n",
    "    `-- output\n",
    "        `-- failure\n",
    "\n",
    "##### The input\n",
    "\n",
    "* `/opt/ml/input/config` contains information to control how your program runs. `hyperparameters.json` is a JSON-formatted dictionary of hyperparameter names to values. These values will always be strings, so you may need to convert them. `resourceConfig.json` is a JSON-formatted file that describes the network layout used for distributed training. Since scikit-learn doesn't support distributed training, we'll ignore it here.\n",
    "* `/opt/ml/input/data/<channel_name>/` (for File mode) contains the input data for that channel. The channels are created based on the call to CreateTrainingJob but it's generally important that channels match what the algorithm expects. The files for each channel will be copied from S3 to this directory, preserving the tree structure indicated by the S3 key structure. \n",
    "* `/opt/ml/input/data/<channel_name>_<epoch_number>` (for Pipe mode) is the pipe for a given epoch. Epochs start at zero and go up by one each time you read them. There is no limit to the number of epochs that you can run, but you must close each pipe before reading the next epoch.\n",
    "\n",
    "##### The output\n",
    "\n",
    "* `/opt/ml/model/` is the directory where you write the model that your algorithm generates. Your model can be in any format that you want. It can be a single file or a whole directory tree. SageMaker will package any files in this directory into a compressed tar archive file. This file will be available at the S3 location returned in the `DescribeTrainingJob` result.\n",
    "* `/opt/ml/output` is a directory where the algorithm can write a file `failure` that describes why the job failed. The contents of this file will be returned in the `FailureReason` field of the `DescribeTrainingJob` result. For jobs that succeed, there is no reason to write this file as it will be ignored.\n",
    "\n",
    "#### Running your container during hosting\n",
    "\n",
    "Hosting has a very different model than training because hosting is responding to inference requests that come in via HTTP. In this example, we use our recommended Python serving stack to provide robust and scalable serving of inference requests:\n",
    "\n",
    "![Request serving stack](stack.png)\n",
    "\n",
    "This stack is implemented in the sample code here and you can mostly just leave it alone. \n",
    "\n",
    "Amazon SageMaker uses two URLs in the container:\n",
    "\n",
    "* `/ping` will receive `GET` requests from the infrastructure. Your program returns 200 if the container is up and accepting requests.\n",
    "* `/invocations` is the endpoint that receives client inference `POST` requests. The format of the request and the response is up to the algorithm. If the client supplied `ContentType` and `Accept` headers, these will be passed in as well. \n",
    "\n",
    "The container will have the model files in the same place they were written during training:\n",
    "\n",
    "    /opt/ml\n",
    "    `-- model\n",
    "        `-- <model files>\n",
    "\n"
   ]
  },
  {
   "cell_type": "markdown",
   "metadata": {},
   "source": [
    "### The parts of the sample container\n",
    "\n",
    "In the `container` directory are all the components you need to package the sample algorithm for Amazon SageMager:\n",
    "\n",
    "    .\n",
    "    |-- Dockerfile\n",
    "    |-- build_and_push.sh\n",
    "    `-- decision_trees\n",
    "        |-- nginx.conf\n",
    "        |-- predictor.py\n",
    "        |-- serve\n",
    "        |-- train\n",
    "        `-- wsgi.py\n",
    "\n",
    "Let's discuss each of these in turn:\n",
    "\n",
    "* __`Dockerfile`__ describes how to build your Docker container image. More details below.\n",
    "* __`build_and_push.sh`__ is a script that uses the Dockerfile to build your container images and then pushes it to ECR. We'll invoke the commands directly later in this notebook, but you can just copy and run the script for your own algorithms.\n",
    "* __`decision_trees`__ is the directory which contains the files that will be installed in the container.\n",
    "* __`local_test`__ is a directory that shows how to test your new container on any computer that can run Docker, including an Amazon SageMaker notebook instance. Using this method, you can quickly iterate using small datasets to eliminate any structural bugs before you use the container with Amazon SageMaker. We'll walk through local testing later in this notebook.\n",
    "\n",
    "In this simple application, we only install five files in the container. You may only need that many or, if you have many supporting routines, you may wish to install more. These five show the standard structure of our Python containers, although you are free to choose a different toolset and therefore could have a different layout. If you're writing in a different programming language, you'll certainly have a different layout depending on the frameworks and tools you choose.\n",
    "\n",
    "The files that we'll put in the container are:\n",
    "\n",
    "* __`nginx.conf`__ is the configuration file for the nginx front-end. Generally, you should be able to take this file as-is.\n",
    "* __`predictor.py`__ is the program that actually implements the Flask web server and the decision tree predictions for this app. You'll want to customize the actual prediction parts to your application. Since this algorithm is simple, we do all the processing here in this file, but you may choose to have separate files for implementing your custom logic.\n",
    "* __`serve`__ is the program started when the container is started for hosting. It simply launches the gunicorn server which runs multiple instances of the Flask app defined in `predictor.py`. You should be able to take this file as-is.\n",
    "* __`train`__ is the program that is invoked when the container is run for training. You will modify this program to implement your training algorithm.\n",
    "* __`wsgi.py`__ is a small wrapper used to invoke the Flask app. You should be able to take this file as-is.\n",
    "\n",
    "In summary, the two files you will probably want to change for your application are `train` and `predictor.py`."
   ]
  },
  {
   "cell_type": "markdown",
   "metadata": {},
   "source": [
    "### The Dockerfile\n",
    "\n",
    "The Dockerfile describes the image that we want to build. You can think of it as describing the complete operating system installation of the system that you want to run. A Docker container running is quite a bit lighter than a full operating system, however, because it takes advantage of Linux on the host machine for the basic operations. \n",
    "\n",
    "For the Python science stack, we will start from a standard Ubuntu installation and run the normal tools to install the things needed by scikit-learn. Finally, we add the code that implements our specific algorithm to the container and set up the right environment to run under.\n",
    "\n",
    "Along the way, we clean up extra space. This makes the container smaller and faster to start.\n",
    "\n",
    "Let's look at the Dockerfile for the example:"
   ]
  },
  {
   "cell_type": "markdown",
   "metadata": {},
   "source": [
    "## Code Cell 1"
   ]
  },
  {
   "cell_type": "code",
   "execution_count": 1,
   "metadata": {
    "tags": []
   },
   "outputs": [
    {
     "name": "stdout",
     "output_type": "stream",
     "text": [
      "# Build an image that can do training and inference in SageMaker\n",
      "# This is a Python 3 image that uses the nginx, gunicorn, flask stack\n",
      "# for serving inferences in a stable way.\n",
      "\n",
      "FROM public.ecr.aws/bitnami/python:3.7\n",
      "\n",
      "MAINTAINER Amazon AI <sage-learner@amazon.com>\n",
      "\n",
      "\n",
      "RUN apt-get -y update && apt-get install -y --no-install-recommends \\\n",
      "         wget \\\n",
      "         python3-pip \\\n",
      "         python3-setuptools \\\n",
      "         nginx \\\n",
      "         ca-certificates \\\n",
      "    && rm -rf /var/lib/apt/lists/*\n",
      "\n",
      "RUN ln -s /usr/bin/python3 /usr/bin/python\n",
      "RUN ln -sf /usr/bin/pip3 /usr/bin/pip\n",
      "\n",
      "# Here we get all python packages.\n",
      "# There's substantial overlap between scipy and numpy that we eliminate by\n",
      "# linking them together. Likewise, pip leaves the install caches populated which uses\n",
      "# a significant amount of space. These optimizations save a fair amount of space in the\n",
      "# image, which reduces start up time.\n",
      "RUN pip --no-cache-dir install numpy==1.16.2 scipy==1.2.1 scikit-learn==0.20.2 pandas flask gunicorn\n",
      "\n",
      "# Set some environment variables. PYTHONUNBUFFERED keeps Python from buffering our standard\n",
      "# output stream, which means that logs can be delivered to the user quickly. PYTHONDONTWRITEBYTECODE\n",
      "# keeps Python from writing the .pyc files which are unnecessary in this case. We also update\n",
      "# PATH so that the train and serve programs are found when the container is invoked.\n",
      "\n",
      "ENV PYTHONUNBUFFERED=TRUE\n",
      "ENV PYTHONDONTWRITEBYTECODE=TRUE\n",
      "ENV PATH=\"/opt/program:${PATH}\"\n",
      "\n",
      "# Set up the program in the image\n",
      "COPY linear_regression /opt/program\n",
      "WORKDIR /opt/program\n",
      "\n"
     ]
    }
   ],
   "source": [
    "!cat container/Dockerfile"
   ]
  },
  {
   "cell_type": "markdown",
   "metadata": {},
   "source": [
    "### Building and registering the container\n",
    "\n",
    "The following shell code shows how to build the container image using `docker build` and push the container image to ECR using `docker push`. This code is also available as the shell script `container/build-and-push.sh`, which you can run as `build-and-push.sh linear-regression_sample` to build the image `linear-regression_sample`. \n",
    "\n",
    "This code looks for an ECR repository in the account you're using and the current default region (if you're using a SageMaker notebook instance, this will be the region where the notebook instance was created). If the repository doesn't exist, the script will create it."
   ]
  },
  {
   "cell_type": "markdown",
   "metadata": {},
   "source": [
    "## Code Cell 2"
   ]
  },
  {
   "cell_type": "code",
   "execution_count": 2,
   "metadata": {
    "tags": []
   },
   "outputs": [
    {
     "name": "stdout",
     "output_type": "stream",
     "text": [
      "Requirement already satisfied: setuptools in /opt/conda/lib/python3.12/site-packages (80.1.0)\n",
      "Collecting sagemaker-studio-image-build\n",
      "  Downloading sagemaker_studio_image_build-0.6.0.tar.gz (13 kB)\n",
      "  Preparing metadata (setup.py) ... \u001b[?25ldone\n",
      "\u001b[?25hRequirement already satisfied: boto3<2.0,>=1.10.44 in /opt/conda/lib/python3.12/site-packages (from sagemaker-studio-image-build) (1.37.1)\n",
      "Requirement already satisfied: sagemaker<3.0 in /opt/conda/lib/python3.12/site-packages (from sagemaker-studio-image-build) (2.242.0)\n",
      "Requirement already satisfied: botocore<1.38.0,>=1.37.1 in /opt/conda/lib/python3.12/site-packages (from boto3<2.0,>=1.10.44->sagemaker-studio-image-build) (1.37.1)\n",
      "Requirement already satisfied: jmespath<2.0.0,>=0.7.1 in /opt/conda/lib/python3.12/site-packages (from boto3<2.0,>=1.10.44->sagemaker-studio-image-build) (1.0.1)\n",
      "Requirement already satisfied: s3transfer<0.12.0,>=0.11.0 in /opt/conda/lib/python3.12/site-packages (from boto3<2.0,>=1.10.44->sagemaker-studio-image-build) (0.11.3)\n",
      "Requirement already satisfied: attrs<24,>=23.1.0 in /opt/conda/lib/python3.12/site-packages (from sagemaker<3.0->sagemaker-studio-image-build) (23.2.0)\n",
      "Requirement already satisfied: cloudpickle>=2.2.1 in /opt/conda/lib/python3.12/site-packages (from sagemaker<3.0->sagemaker-studio-image-build) (3.1.1)\n",
      "Requirement already satisfied: docker in /opt/conda/lib/python3.12/site-packages (from sagemaker<3.0->sagemaker-studio-image-build) (7.1.0)\n",
      "Requirement already satisfied: fastapi in /opt/conda/lib/python3.12/site-packages (from sagemaker<3.0->sagemaker-studio-image-build) (0.115.12)\n",
      "Requirement already satisfied: google-pasta in /opt/conda/lib/python3.12/site-packages (from sagemaker<3.0->sagemaker-studio-image-build) (0.2.0)\n",
      "Requirement already satisfied: importlib-metadata<7.0,>=1.4.0 in /opt/conda/lib/python3.12/site-packages (from sagemaker<3.0->sagemaker-studio-image-build) (6.10.0)\n",
      "Requirement already satisfied: jsonschema in /opt/conda/lib/python3.12/site-packages (from sagemaker<3.0->sagemaker-studio-image-build) (4.23.0)\n",
      "Requirement already satisfied: numpy<2.0,>=1.9.0 in /opt/conda/lib/python3.12/site-packages (from sagemaker<3.0->sagemaker-studio-image-build) (1.26.4)\n",
      "Requirement already satisfied: omegaconf<=2.3,>=2.2 in /opt/conda/lib/python3.12/site-packages (from sagemaker<3.0->sagemaker-studio-image-build) (2.3.0)\n",
      "Requirement already satisfied: packaging>=20.0 in /opt/conda/lib/python3.12/site-packages (from sagemaker<3.0->sagemaker-studio-image-build) (24.2)\n",
      "Requirement already satisfied: pandas in /opt/conda/lib/python3.12/site-packages (from sagemaker<3.0->sagemaker-studio-image-build) (2.2.3)\n",
      "Requirement already satisfied: pathos in /opt/conda/lib/python3.12/site-packages (from sagemaker<3.0->sagemaker-studio-image-build) (0.3.4)\n",
      "Requirement already satisfied: platformdirs in /opt/conda/lib/python3.12/site-packages (from sagemaker<3.0->sagemaker-studio-image-build) (4.3.7)\n",
      "Requirement already satisfied: protobuf<6.0,>=3.12 in /opt/conda/lib/python3.12/site-packages (from sagemaker<3.0->sagemaker-studio-image-build) (5.28.3)\n",
      "Requirement already satisfied: psutil in /opt/conda/lib/python3.12/site-packages (from sagemaker<3.0->sagemaker-studio-image-build) (5.9.8)\n",
      "Requirement already satisfied: pyyaml~=6.0 in /opt/conda/lib/python3.12/site-packages (from sagemaker<3.0->sagemaker-studio-image-build) (6.0.2)\n",
      "Requirement already satisfied: requests in /opt/conda/lib/python3.12/site-packages (from sagemaker<3.0->sagemaker-studio-image-build) (2.32.3)\n",
      "Requirement already satisfied: sagemaker-core<2.0.0,>=1.0.17 in /opt/conda/lib/python3.12/site-packages (from sagemaker<3.0->sagemaker-studio-image-build) (1.0.31)\n",
      "Requirement already satisfied: schema in /opt/conda/lib/python3.12/site-packages (from sagemaker<3.0->sagemaker-studio-image-build) (0.7.7)\n",
      "Requirement already satisfied: smdebug-rulesconfig==1.0.1 in /opt/conda/lib/python3.12/site-packages (from sagemaker<3.0->sagemaker-studio-image-build) (1.0.1)\n",
      "Requirement already satisfied: tblib<4,>=1.7.0 in /opt/conda/lib/python3.12/site-packages (from sagemaker<3.0->sagemaker-studio-image-build) (3.1.0)\n",
      "Requirement already satisfied: tqdm in /opt/conda/lib/python3.12/site-packages (from sagemaker<3.0->sagemaker-studio-image-build) (4.67.1)\n",
      "Requirement already satisfied: urllib3<3.0.0,>=1.26.8 in /opt/conda/lib/python3.12/site-packages (from sagemaker<3.0->sagemaker-studio-image-build) (2.4.0)\n",
      "Requirement already satisfied: uvicorn in /opt/conda/lib/python3.12/site-packages (from sagemaker<3.0->sagemaker-studio-image-build) (0.34.2)\n",
      "Requirement already satisfied: python-dateutil<3.0.0,>=2.1 in /opt/conda/lib/python3.12/site-packages (from botocore<1.38.0,>=1.37.1->boto3<2.0,>=1.10.44->sagemaker-studio-image-build) (2.9.0.post0)\n",
      "Requirement already satisfied: zipp>=0.5 in /opt/conda/lib/python3.12/site-packages (from importlib-metadata<7.0,>=1.4.0->sagemaker<3.0->sagemaker-studio-image-build) (3.21.0)\n",
      "Requirement already satisfied: antlr4-python3-runtime==4.9.* in /opt/conda/lib/python3.12/site-packages (from omegaconf<=2.3,>=2.2->sagemaker<3.0->sagemaker-studio-image-build) (4.9.3)\n",
      "Requirement already satisfied: pydantic<3.0.0,>=2.0.0 in /opt/conda/lib/python3.12/site-packages (from sagemaker-core<2.0.0,>=1.0.17->sagemaker<3.0->sagemaker-studio-image-build) (2.11.3)\n",
      "Requirement already satisfied: rich<14.0.0,>=13.0.0 in /opt/conda/lib/python3.12/site-packages (from sagemaker-core<2.0.0,>=1.0.17->sagemaker<3.0->sagemaker-studio-image-build) (13.9.4)\n",
      "Requirement already satisfied: mock<5.0,>4.0 in /opt/conda/lib/python3.12/site-packages (from sagemaker-core<2.0.0,>=1.0.17->sagemaker<3.0->sagemaker-studio-image-build) (4.0.3)\n",
      "Requirement already satisfied: jsonschema-specifications>=2023.03.6 in /opt/conda/lib/python3.12/site-packages (from jsonschema->sagemaker<3.0->sagemaker-studio-image-build) (2025.4.1)\n",
      "Requirement already satisfied: referencing>=0.28.4 in /opt/conda/lib/python3.12/site-packages (from jsonschema->sagemaker<3.0->sagemaker-studio-image-build) (0.36.2)\n",
      "Requirement already satisfied: rpds-py>=0.7.1 in /opt/conda/lib/python3.12/site-packages (from jsonschema->sagemaker<3.0->sagemaker-studio-image-build) (0.24.0)\n",
      "Requirement already satisfied: charset_normalizer<4,>=2 in /opt/conda/lib/python3.12/site-packages (from requests->sagemaker<3.0->sagemaker-studio-image-build) (3.4.2)\n",
      "Requirement already satisfied: idna<4,>=2.5 in /opt/conda/lib/python3.12/site-packages (from requests->sagemaker<3.0->sagemaker-studio-image-build) (3.10)\n",
      "Requirement already satisfied: certifi>=2017.4.17 in /opt/conda/lib/python3.12/site-packages (from requests->sagemaker<3.0->sagemaker-studio-image-build) (2025.1.31)\n",
      "Requirement already satisfied: starlette<0.47.0,>=0.40.0 in /opt/conda/lib/python3.12/site-packages (from fastapi->sagemaker<3.0->sagemaker-studio-image-build) (0.46.2)\n",
      "Requirement already satisfied: typing-extensions>=4.8.0 in /opt/conda/lib/python3.12/site-packages (from fastapi->sagemaker<3.0->sagemaker-studio-image-build) (4.13.2)\n",
      "Requirement already satisfied: six in /opt/conda/lib/python3.12/site-packages (from google-pasta->sagemaker<3.0->sagemaker-studio-image-build) (1.17.0)\n",
      "Requirement already satisfied: pytz>=2020.1 in /opt/conda/lib/python3.12/site-packages (from pandas->sagemaker<3.0->sagemaker-studio-image-build) (2024.2)\n",
      "Requirement already satisfied: tzdata>=2022.7 in /opt/conda/lib/python3.12/site-packages (from pandas->sagemaker<3.0->sagemaker-studio-image-build) (2025.2)\n",
      "Requirement already satisfied: ppft>=1.7.7 in /opt/conda/lib/python3.12/site-packages (from pathos->sagemaker<3.0->sagemaker-studio-image-build) (1.7.7)\n",
      "Requirement already satisfied: dill>=0.4.0 in /opt/conda/lib/python3.12/site-packages (from pathos->sagemaker<3.0->sagemaker-studio-image-build) (0.4.0)\n",
      "Requirement already satisfied: pox>=0.3.6 in /opt/conda/lib/python3.12/site-packages (from pathos->sagemaker<3.0->sagemaker-studio-image-build) (0.3.6)\n",
      "Requirement already satisfied: multiprocess>=0.70.18 in /opt/conda/lib/python3.12/site-packages (from pathos->sagemaker<3.0->sagemaker-studio-image-build) (0.70.18)\n",
      "Requirement already satisfied: click>=7.0 in /opt/conda/lib/python3.12/site-packages (from uvicorn->sagemaker<3.0->sagemaker-studio-image-build) (8.1.8)\n",
      "Requirement already satisfied: h11>=0.8 in /opt/conda/lib/python3.12/site-packages (from uvicorn->sagemaker<3.0->sagemaker-studio-image-build) (0.16.0)\n",
      "Requirement already satisfied: annotated-types>=0.6.0 in /opt/conda/lib/python3.12/site-packages (from pydantic<3.0.0,>=2.0.0->sagemaker-core<2.0.0,>=1.0.17->sagemaker<3.0->sagemaker-studio-image-build) (0.7.0)\n",
      "Requirement already satisfied: pydantic-core==2.33.1 in /opt/conda/lib/python3.12/site-packages (from pydantic<3.0.0,>=2.0.0->sagemaker-core<2.0.0,>=1.0.17->sagemaker<3.0->sagemaker-studio-image-build) (2.33.1)\n",
      "Requirement already satisfied: typing-inspection>=0.4.0 in /opt/conda/lib/python3.12/site-packages (from pydantic<3.0.0,>=2.0.0->sagemaker-core<2.0.0,>=1.0.17->sagemaker<3.0->sagemaker-studio-image-build) (0.4.0)\n",
      "Requirement already satisfied: markdown-it-py>=2.2.0 in /opt/conda/lib/python3.12/site-packages (from rich<14.0.0,>=13.0.0->sagemaker-core<2.0.0,>=1.0.17->sagemaker<3.0->sagemaker-studio-image-build) (3.0.0)\n",
      "Requirement already satisfied: pygments<3.0.0,>=2.13.0 in /opt/conda/lib/python3.12/site-packages (from rich<14.0.0,>=13.0.0->sagemaker-core<2.0.0,>=1.0.17->sagemaker<3.0->sagemaker-studio-image-build) (2.19.1)\n",
      "Requirement already satisfied: anyio<5,>=3.6.2 in /opt/conda/lib/python3.12/site-packages (from starlette<0.47.0,>=0.40.0->fastapi->sagemaker<3.0->sagemaker-studio-image-build) (4.9.0)\n",
      "Requirement already satisfied: sniffio>=1.1 in /opt/conda/lib/python3.12/site-packages (from anyio<5,>=3.6.2->starlette<0.47.0,>=0.40.0->fastapi->sagemaker<3.0->sagemaker-studio-image-build) (1.3.1)\n",
      "Requirement already satisfied: mdurl~=0.1 in /opt/conda/lib/python3.12/site-packages (from markdown-it-py>=2.2.0->rich<14.0.0,>=13.0.0->sagemaker-core<2.0.0,>=1.0.17->sagemaker<3.0->sagemaker-studio-image-build) (0.1.2)\n",
      "Building wheels for collected packages: sagemaker-studio-image-build\n",
      "  Building wheel for sagemaker-studio-image-build (setup.py) ... \u001b[?25ldone\n",
      "\u001b[?25h  Created wheel for sagemaker-studio-image-build: filename=sagemaker_studio_image_build-0.6.0-py3-none-any.whl size=13558 sha256=37a773b1aa829ee952d8717ce756a771b11662b7651e1cba241b94052438d62a\n",
      "  Stored in directory: /home/sagemaker-user/.cache/pip/wheels/b1/21/e2/17c1b6b9d114c0c0fe2e0e1c51a4bbfb3e96e5c2205396be8b\n",
      "Successfully built sagemaker-studio-image-build\n",
      "Installing collected packages: sagemaker-studio-image-build\n",
      "Successfully installed sagemaker-studio-image-build-0.6.0\n",
      "Requirement already satisfied: matplotlib in /opt/conda/lib/python3.12/site-packages (3.10.1)\n",
      "Requirement already satisfied: contourpy>=1.0.1 in /opt/conda/lib/python3.12/site-packages (from matplotlib) (1.3.2)\n",
      "Requirement already satisfied: cycler>=0.10 in /opt/conda/lib/python3.12/site-packages (from matplotlib) (0.12.1)\n",
      "Requirement already satisfied: fonttools>=4.22.0 in /opt/conda/lib/python3.12/site-packages (from matplotlib) (4.57.0)\n",
      "Requirement already satisfied: kiwisolver>=1.3.1 in /opt/conda/lib/python3.12/site-packages (from matplotlib) (1.4.8)\n",
      "Requirement already satisfied: numpy>=1.23 in /opt/conda/lib/python3.12/site-packages (from matplotlib) (1.26.4)\n",
      "Requirement already satisfied: packaging>=20.0 in /opt/conda/lib/python3.12/site-packages (from matplotlib) (24.2)\n",
      "Requirement already satisfied: pillow>=8 in /opt/conda/lib/python3.12/site-packages (from matplotlib) (11.1.0)\n",
      "Requirement already satisfied: pyparsing>=2.3.1 in /opt/conda/lib/python3.12/site-packages (from matplotlib) (3.2.3)\n",
      "Requirement already satisfied: python-dateutil>=2.7 in /opt/conda/lib/python3.12/site-packages (from matplotlib) (2.9.0.post0)\n",
      "Requirement already satisfied: six>=1.5 in /opt/conda/lib/python3.12/site-packages (from python-dateutil>=2.7->matplotlib) (1.17.0)\n"
     ]
    }
   ],
   "source": [
    "# Install sm-docker and other necessary tools. \n",
    "# To install, simply use pip install within your notebook environment\n",
    "!pip install setuptools\n",
    "!pip install sagemaker-studio-image-build\n",
    "!pip install matplotlib\n",
    "\n",
    "lab_bucket='lab-data-bucket-5f7289d0'"
   ]
  },
  {
   "cell_type": "markdown",
   "metadata": {},
   "source": [
    "## Code Cell 3"
   ]
  },
  {
   "cell_type": "code",
   "execution_count": 4,
   "metadata": {
    "tags": []
   },
   "outputs": [
    {
     "name": "stdout",
     "output_type": "stream",
     "text": [
      "Created ECR repository sagemaker-linear-regression\n",
      "....................[Container] 2025/05/25 23:26:24.486981 Running on CodeBuild On-demand\n",
      "\n",
      "[Container] 2025/05/25 23:26:24.486990 Waiting for agent ping\n",
      "[Container] 2025/05/25 23:26:24.587868 Waiting for DOWNLOAD_SOURCE\n",
      "[Container] 2025/05/25 23:26:25.170327 Phase is DOWNLOAD_SOURCE\n",
      "[Container] 2025/05/25 23:26:25.171794 CODEBUILD_SRC_DIR=/codebuild/output/src2178525970/src\n",
      "[Container] 2025/05/25 23:26:25.172421 YAML location is /codebuild/output/src2178525970/src/buildspec.yml\n",
      "[Container] 2025/05/25 23:26:25.176287 Setting HTTP client timeout to higher timeout for S3 source\n",
      "[Container] 2025/05/25 23:26:25.176437 Processing environment variables\n",
      "[Container] 2025/05/25 23:26:25.258313 No runtime version selected in buildspec.\n",
      "[Container] 2025/05/25 23:26:25.273882 Moving to directory /codebuild/output/src2178525970/src\n",
      "[Container] 2025/05/25 23:26:25.273906 Cache is not defined in the buildspec\n",
      "[Container] 2025/05/25 23:26:25.324666 Skip cache due to: no paths specified to be cached\n",
      "[Container] 2025/05/25 23:26:25.324994 Registering with agent\n",
      "[Container] 2025/05/25 23:26:25.371810 Phases found in YAML: 3\n",
      "[Container] 2025/05/25 23:26:25.371831  BUILD: 4 commands\n",
      "[Container] 2025/05/25 23:26:25.371836  POST_BUILD: 3 commands\n",
      "[Container] 2025/05/25 23:26:25.371918  PRE_BUILD: 9 commands\n",
      "[Container] 2025/05/25 23:26:25.372291 Phase complete: DOWNLOAD_SOURCE State: SUCCEEDED\n",
      "[Container] 2025/05/25 23:26:25.372306 Phase context status code:  Message:\n",
      "[Container] 2025/05/25 23:26:25.447801 Entering phase INSTALL\n",
      "[Container] 2025/05/25 23:26:25.486725 Phase complete: INSTALL State: SUCCEEDED\n",
      "[Container] 2025/05/25 23:26:25.486747 Phase context status code:  Message:\n",
      "[Container] 2025/05/25 23:26:25.526174 Entering phase PRE_BUILD\n",
      "[Container] 2025/05/25 23:26:25.565137 Running command echo Logging in to Amazon ECR...\n",
      "Logging in to Amazon ECR...\n",
      "\n",
      "[Container] 2025/05/25 23:26:25.568936 Running command $(aws ecr get-login --no-include-email --region $AWS_DEFAULT_REGION)\n",
      "WARNING! Using --password via the CLI is insecure. Use --password-stdin.\n",
      "WARNING! Your password will be stored unencrypted in /root/.docker/config.json.\n",
      "Configure a credential helper to remove this warning. See\n",
      "https://docs.docker.com/engine/reference/commandline/login/#credentials-store\n",
      "\n",
      "Login Succeeded\n",
      "\n",
      "[Container] 2025/05/25 23:26:27.595100 Running command $(aws ecr get-login --no-include-email --region $AWS_DEFAULT_REGION --registry-ids 763104351884)\n",
      "WARNING! Using --password via the CLI is insecure. Use --password-stdin.\n",
      "WARNING! Your password will be stored unencrypted in /root/.docker/config.json.\n",
      "Configure a credential helper to remove this warning. See\n",
      "https://docs.docker.com/engine/reference/commandline/login/#credentials-store\n",
      "\n",
      "Login Succeeded\n",
      "\n",
      "[Container] 2025/05/25 23:26:28.234112 Running command $(aws ecr get-login --no-include-email --region $AWS_DEFAULT_REGION --registry-ids 217643126080)\n",
      "WARNING! Using --password via the CLI is insecure. Use --password-stdin.\n",
      "WARNING! Your password will be stored unencrypted in /root/.docker/config.json.\n",
      "Configure a credential helper to remove this warning. See\n",
      "https://docs.docker.com/engine/reference/commandline/login/#credentials-store\n",
      "\n",
      "Login Succeeded\n",
      "\n",
      "[Container] 2025/05/25 23:26:28.883498 Running command $(aws ecr get-login --no-include-email --region $AWS_DEFAULT_REGION --registry-ids 727897471807)\n",
      "WARNING! Using --password via the CLI is insecure. Use --password-stdin.\n",
      "WARNING! Your password will be stored unencrypted in /root/.docker/config.json.\n",
      "Configure a credential helper to remove this warning. See\n",
      "https://docs.docker.com/engine/reference/commandline/login/#credentials-store\n",
      "\n",
      "Login Succeeded\n",
      "\n",
      "[Container] 2025/05/25 23:26:29.506088 Running command $(aws ecr get-login --no-include-email --region $AWS_DEFAULT_REGION --registry-ids 626614931356)\n",
      "WARNING! Using --password via the CLI is insecure. Use --password-stdin.\n",
      "WARNING! Your password will be stored unencrypted in /root/.docker/config.json.\n",
      "Configure a credential helper to remove this warning. See\n",
      "https://docs.docker.com/engine/reference/commandline/login/#credentials-store\n",
      "\n",
      "Login Succeeded\n",
      "\n",
      "[Container] 2025/05/25 23:26:30.187059 Running command $(aws ecr get-login --no-include-email --region $AWS_DEFAULT_REGION --registry-ids 683313688378)\n",
      "WARNING! Using --password via the CLI is insecure. Use --password-stdin.\n",
      "WARNING! Your password will be stored unencrypted in /root/.docker/config.json.\n",
      "Configure a credential helper to remove this warning. See\n",
      "https://docs.docker.com/engine/reference/commandline/login/#credentials-store\n",
      "\n",
      "Login Succeeded\n",
      "\n",
      "[Container] 2025/05/25 23:26:30.857274 Running command $(aws ecr get-login --no-include-email --region $AWS_DEFAULT_REGION --registry-ids 520713654638)\n",
      "WARNING! Using --password via the CLI is insecure. Use --password-stdin.\n",
      "WARNING! Your password will be stored unencrypted in /root/.docker/config.json.\n",
      "Configure a credential helper to remove this warning. See\n",
      "https://docs.docker.com/engine/reference/commandline/login/#credentials-store\n",
      "\n",
      "Login Succeeded\n",
      "\n",
      "[Container] 2025/05/25 23:26:31.458039 Running command $(aws ecr get-login --no-include-email --region $AWS_DEFAULT_REGION --registry-ids 462105765813)\n",
      "WARNING! Using --password via the CLI is insecure. Use --password-stdin.\n",
      "WARNING! Your password will be stored unencrypted in /root/.docker/config.json.\n",
      "Configure a credential helper to remove this warning. See\n",
      "https://docs.docker.com/engine/reference/commandline/login/#credentials-store\n",
      "\n",
      "Login Succeeded\n",
      "\n",
      "[Container] 2025/05/25 23:26:32.038410 Phase complete: PRE_BUILD State: SUCCEEDED\n",
      "[Container] 2025/05/25 23:26:32.038427 Phase context status code:  Message:\n",
      "[Container] 2025/05/25 23:26:32.076835 Entering phase BUILD\n",
      "[Container] 2025/05/25 23:26:32.078020 Running command echo Build started on `date`\n",
      "Build started on Sun May 25 23:26:32 UTC 2025\n",
      "\n",
      "[Container] 2025/05/25 23:26:32.082391 Running command echo Building the Docker image...\n",
      "Building the Docker image...\n",
      "\n",
      "[Container] 2025/05/25 23:26:32.085809 Running command docker build -t $IMAGE_REPO_NAME:$IMAGE_TAG .\n",
      "Sending build context to Docker daemon  200.7kB\n",
      "Step 1/11 : FROM public.ecr.aws/bitnami/python:3.7\n",
      "3.7: Pulling from bitnami/python\n",
      "49b4d6fd2324: Pulling fs layer\n",
      "49b4d6fd2324: Verifying Checksum\n",
      "49b4d6fd2324: Download complete\n",
      "49b4d6fd2324: Pull complete\n",
      "Digest: sha256:3c5cab90e8c2f5b2291a3ce875609fb7b05c3bbde54857f37138789c64a444ff\n",
      "Status: Downloaded newer image for public.ecr.aws/bitnami/python:3.7\n",
      " ---> 848719dcfe62\n",
      "Step 2/11 : MAINTAINER Amazon AI <sage-learner@amazon.com>\n",
      " ---> Running in 49e92ccbca98\n",
      "Removing intermediate container 49e92ccbca98\n",
      " ---> 14589a42195b\n",
      "Step 3/11 : RUN apt-get -y update && apt-get install -y --no-install-recommends          wget          python3-pip          python3-setuptools          nginx          ca-certificates     && rm -rf /var/lib/apt/lists/*\n",
      " ---> Running in 3d7f4e39f8d6\n",
      "Get:1 http://security.debian.org/debian-security bullseye-security InRelease [27.2 kB]\n",
      "Get:2 http://deb.debian.org/debian bullseye InRelease [116 kB]\n",
      "Get:3 http://deb.debian.org/debian bullseye-updates InRelease [44.1 kB]\n",
      "Get:4 http://security.debian.org/debian-security bullseye-security/main amd64 Packages [481 kB]\n",
      "Get:5 http://deb.debian.org/debian bullseye/main amd64 Packages [11.1 MB]\n",
      "Get:6 http://deb.debian.org/debian bullseye-updates/main amd64 Packages [18.8 kB]\n",
      "Fetched 11.8 MB in 1s (16.7 MB/s)\n",
      "Reading package lists...\n",
      "Reading package lists...\n",
      "Building dependency tree...\n",
      "Reading state information...\n",
      "ca-certificates is already the newest version (20210119).\n",
      "The following additional packages will be installed:\n",
      "  fontconfig-config fonts-dejavu-core iproute2 libbpf0 libbsd0 libcap2\n",
      "  libcap2-bin libdeflate0 libelf1 libfontconfig1 libfreetype6 libgd3 libgeoip1\n",
      "  libicu67 libjbig0 libjpeg62-turbo libmd0 libmnl0 libmpdec3\n",
      "  libnginx-mod-http-geoip libnginx-mod-http-image-filter\n",
      "  libnginx-mod-http-xslt-filter libnginx-mod-mail libnginx-mod-stream\n",
      "  libnginx-mod-stream-geoip libpng16-16 libpython3-stdlib libpython3.9-minimal\n",
      "  libpython3.9-stdlib libtiff5 libwebp6 libx11-6 libx11-data libxau6 libxcb1\n",
      "  libxdmcp6 libxml2 libxpm4 libxslt1.1 libxtables12 media-types nginx-common\n",
      "  nginx-core python-pip-whl python3 python3-distutils python3-lib2to3\n",
      "  python3-minimal python3-pkg-resources python3-wheel python3.9\n",
      "  python3.9-minimal sensible-utils ucf\n",
      "Suggested packages:\n",
      "  iproute2-doc libgd-tools geoip-bin fcgiwrap nginx-doc ssl-cert python3-doc\n",
      "  python3-tk python3-venv python-setuptools-doc python3.9-venv python3.9-doc\n",
      "  binfmt-support\n",
      "Recommended packages:\n",
      "  libatm1 libpam-cap geoip-database python3-dev\n",
      "The following NEW packages will be installed:\n",
      "  fontconfig-config fonts-dejavu-core iproute2 libbpf0 libbsd0 libcap2\n",
      "  libcap2-bin libdeflate0 libelf1 libfontconfig1 libfreetype6 libgd3 libgeoip1\n",
      "  libicu67 libjbig0 libjpeg62-turbo libmd0 libmnl0 libmpdec3\n",
      "  libnginx-mod-http-geoip libnginx-mod-http-image-filter\n",
      "  libnginx-mod-http-xslt-filter libnginx-mod-mail libnginx-mod-stream\n",
      "  libnginx-mod-stream-geoip libpng16-16 libpython3-stdlib libpython3.9-minimal\n",
      "  libpython3.9-stdlib libtiff5 libwebp6 libx11-6 libx11-data libxau6 libxcb1\n",
      "  libxdmcp6 libxml2 libxpm4 libxslt1.1 libxtables12 media-types nginx\n",
      "  nginx-common nginx-core python-pip-whl python3 python3-distutils\n",
      "  python3-lib2to3 python3-minimal python3-pip python3-pkg-resources\n",
      "  python3-setuptools python3-wheel python3.9 python3.9-minimal sensible-utils\n",
      "  ucf\n",
      "The following packages will be upgraded:\n",
      "  wget\n",
      "1 upgraded, 57 newly installed, 0 to remove and 53 not upgraded.\n",
      "Need to get 26.4 MB of archives.\n",
      "After this operation, 83.3 MB of additional disk space will be used.\n",
      "Get:1 http://security.debian.org/debian-security bullseye-security/main amd64 libpython3.9-minimal amd64 3.9.2-1+deb11u3 [805 kB]\n",
      "Get:2 http://deb.debian.org/debian bullseye/main amd64 python3-minimal amd64 3.9.2-3 [38.2 kB]\n",
      "Get:3 http://deb.debian.org/debian bullseye/main amd64 media-types all 4.0.0 [30.3 kB]\n",
      "Get:4 http://deb.debian.org/debian bullseye/main amd64 libmpdec3 amd64 2.5.1-1 [87.7 kB]\n",
      "Get:5 http://deb.debian.org/debian bullseye/main amd64 libpython3-stdlib amd64 3.9.2-3 [21.4 kB]\n",
      "Get:6 http://deb.debian.org/debian bullseye/main amd64 python3 amd64 3.9.2-3 [37.9 kB]\n",
      "Get:7 http://deb.debian.org/debian bullseye/main amd64 libelf1 amd64 0.183-1 [165 kB]\n",
      "Get:8 http://security.debian.org/debian-security bullseye-security/main amd64 python3.9-minimal amd64 3.9.2-1+deb11u3 [1963 kB]\n",
      "Get:9 http://deb.debian.org/debian bullseye/main amd64 libmd0 amd64 1.0.3-3 [28.0 kB]\n",
      "Get:10 http://deb.debian.org/debian bullseye/main amd64 libbsd0 amd64 0.11.3-1+deb11u1 [108 kB]\n",
      "Get:11 http://deb.debian.org/debian bullseye/main amd64 libmnl0 amd64 1.0.4-3 [12.5 kB]\n",
      "Get:12 http://security.debian.org/debian-security bullseye-security/main amd64 libpython3.9-stdlib amd64 3.9.2-1+deb11u3 [1684 kB]\n",
      "Get:13 http://deb.debian.org/debian bullseye/main amd64 libxtables12 amd64 1.8.7-1 [45.1 kB]\n",
      "Get:14 http://deb.debian.org/debian bullseye/main amd64 iproute2 amd64 5.10.0-4 [930 kB]\n",
      "Get:15 http://security.debian.org/debian-security bullseye-security/main amd64 python3.9 amd64 3.9.2-1+deb11u3 [467 kB]\n",
      "Get:16 http://deb.debian.org/debian bullseye/main amd64 sensible-utils all 0.0.14 [14.8 kB]\n",
      "Get:17 http://deb.debian.org/debian bullseye/main amd64 fonts-dejavu-core all 2.37-2 [1069 kB]\n",
      "Get:18 http://security.debian.org/debian-security bullseye-security/main amd64 libbpf0 amd64 1:0.3-2+deb11u1 [98.5 kB]\n",
      "Get:19 http://security.debian.org/debian-security bullseye-security/main amd64 libcap2 amd64 1:2.44-1+deb11u1 [24.2 kB]\n",
      "Get:20 http://security.debian.org/debian-security bullseye-security/main amd64 libcap2-bin amd64 1:2.44-1+deb11u1 [33.2 kB]\n",
      "Get:21 http://deb.debian.org/debian bullseye/main amd64 fontconfig-config all 2.13.1-4.2 [281 kB]\n",
      "Get:22 http://security.debian.org/debian-security bullseye-security/main amd64 ucf all 3.0043+deb11u2 [74.3 kB]\n",
      "Get:23 http://deb.debian.org/debian bullseye/main amd64 libdeflate0 amd64 1.7-1 [53.1 kB]\n",
      "Get:24 http://deb.debian.org/debian bullseye/main amd64 libpng16-16 amd64 1.6.37-3 [294 kB]\n",
      "Get:25 http://deb.debian.org/debian bullseye/main amd64 libfontconfig1 amd64 2.13.1-4.2 [347 kB]\n",
      "Get:26 http://deb.debian.org/debian bullseye/main amd64 libjpeg62-turbo amd64 1:2.0.6-4 [151 kB]\n",
      "Get:27 http://deb.debian.org/debian bullseye/main amd64 libjbig0 amd64 2.1-3.1+b2 [31.0 kB]\n",
      "Get:28 http://deb.debian.org/debian bullseye/main amd64 libwebp6 amd64 0.6.1-2.1+deb11u2 [259 kB]\n",
      "Get:29 http://deb.debian.org/debian bullseye/main amd64 libxau6 amd64 1:1.0.9-1 [19.7 kB]\n",
      "Get:30 http://deb.debian.org/debian bullseye/main amd64 libxdmcp6 amd64 1:1.1.2-3 [26.3 kB]\n",
      "Get:31 http://deb.debian.org/debian bullseye/main amd64 libxcb1 amd64 1.14-3 [140 kB]\n",
      "Get:32 http://deb.debian.org/debian bullseye/main amd64 libx11-data all 2:1.7.2-1+deb11u2 [311 kB]\n",
      "Get:33 http://deb.debian.org/debian bullseye/main amd64 libx11-6 amd64 2:1.7.2-1+deb11u2 [772 kB]\n",
      "Get:34 http://security.debian.org/debian-security bullseye-security/main amd64 wget amd64 1.21-1+deb11u2 [964 kB]\n",
      "Get:35 http://security.debian.org/debian-security bullseye-security/main amd64 libfreetype6 amd64 2.10.4+dfsg-1+deb11u2 [418 kB]\n",
      "Get:36 http://deb.debian.org/debian bullseye/main amd64 libxpm4 amd64 1:3.5.12-1.1+deb11u1 [50.0 kB]\n",
      "Get:37 http://deb.debian.org/debian bullseye/main amd64 libgd3 amd64 2.3.0-2 [137 kB]\n",
      "Get:38 http://security.debian.org/debian-security bullseye-security/main amd64 libtiff5 amd64 4.2.0-1+deb11u6 [291 kB]\n",
      "Get:39 http://deb.debian.org/debian bullseye/main amd64 libgeoip1 amd64 1.6.12-7 [92.5 kB]\n",
      "Get:40 http://deb.debian.org/debian bullseye/main amd64 libicu67 amd64 67.1-7 [8622 kB]\n",
      "Get:41 http://security.debian.org/debian-security bullseye-security/main amd64 nginx-common all 1.18.0-6.1+deb11u4 [126 kB]\n",
      "Get:42 http://security.debian.org/debian-security bullseye-security/main amd64 libnginx-mod-http-geoip amd64 1.18.0-6.1+deb11u4 [98.6 kB]\n",
      "Get:43 http://security.debian.org/debian-security bullseye-security/main amd64 libnginx-mod-http-image-filter amd64 1.18.0-6.1+deb11u4 [102 kB]\n",
      "Get:44 http://security.debian.org/debian-security bullseye-security/main amd64 libxml2 amd64 2.9.10+dfsg-6.7+deb11u7 [693 kB]\n",
      "Get:45 http://security.debian.org/debian-security bullseye-security/main amd64 libxslt1.1 amd64 1.1.34-4+deb11u2 [240 kB]\n",
      "Get:46 http://security.debian.org/debian-security bullseye-security/main amd64 libnginx-mod-http-xslt-filter amd64 1.18.0-6.1+deb11u4 [101 kB]\n",
      "Get:47 http://security.debian.org/debian-security bullseye-security/main amd64 libnginx-mod-mail amd64 1.18.0-6.1+deb11u4 [130 kB]\n",
      "Get:48 http://security.debian.org/debian-security bullseye-security/main amd64 libnginx-mod-stream amd64 1.18.0-6.1+deb11u4 [155 kB]\n",
      "Get:49 http://security.debian.org/debian-security bullseye-security/main amd64 libnginx-mod-stream-geoip amd64 1.18.0-6.1+deb11u4 [97.8 kB]\n",
      "Get:50 http://security.debian.org/debian-security bullseye-security/main amd64 nginx-core amd64 1.18.0-6.1+deb11u4 [516 kB]\n",
      "Get:51 http://security.debian.org/debian-security bullseye-security/main amd64 nginx all 1.18.0-6.1+deb11u4 [93.1 kB]\n",
      "Get:52 http://security.debian.org/debian-security bullseye-security/main amd64 python3-pkg-resources all 52.0.0-4+deb11u1 [190 kB]\n",
      "Get:53 http://security.debian.org/debian-security bullseye-security/main amd64 python3-setuptools all 52.0.0-4+deb11u1 [367 kB]\n",
      "Get:54 http://deb.debian.org/debian bullseye/main amd64 python-pip-whl all 20.3.4-4+deb11u1 [1948 kB]\n",
      "Get:55 http://deb.debian.org/debian bullseye/main amd64 python3-lib2to3 all 3.9.2-1 [77.8 kB]\n",
      "Get:56 http://deb.debian.org/debian bullseye/main amd64 python3-distutils all 3.9.2-1 [143 kB]\n",
      "Get:57 http://deb.debian.org/debian bullseye/main amd64 python3-wheel all 0.34.2-1 [24.0 kB]\n",
      "Get:58 http://deb.debian.org/debian bullseye/main amd64 python3-pip all 20.3.4-4+deb11u1 [337 kB]\n",
      "\u001b[91mdebconf: delaying package configuration, since apt-utils is not installed\n",
      "\u001b[0mFetched 26.4 MB in 0s (178 MB/s)\n",
      "Selecting previously unselected package libpython3.9-minimal:amd64.\n",
      "(Reading database ... 14184 files and directories currently installed.)\n",
      "Preparing to unpack .../libpython3.9-minimal_3.9.2-1+deb11u3_amd64.deb ...\n",
      "Unpacking libpython3.9-minimal:amd64 (3.9.2-1+deb11u3) ...\n",
      "Selecting previously unselected package python3.9-minimal.\n",
      "Preparing to unpack .../python3.9-minimal_3.9.2-1+deb11u3_amd64.deb ...\n",
      "Unpacking python3.9-minimal (3.9.2-1+deb11u3) ...\n",
      "Setting up libpython3.9-minimal:amd64 (3.9.2-1+deb11u3) ...\n",
      "Setting up python3.9-minimal (3.9.2-1+deb11u3) ...\n",
      "Selecting previously unselected package python3-minimal.\n",
      "(Reading database ... 14469 files and directories currently installed.)\n",
      "Preparing to unpack .../0-python3-minimal_3.9.2-3_amd64.deb ...\n",
      "Unpacking python3-minimal (3.9.2-3) ...\n",
      "Selecting previously unselected package media-types.\n",
      "Preparing to unpack .../1-media-types_4.0.0_all.deb ...\n",
      "Unpacking media-types (4.0.0) ...\n",
      "Selecting previously unselected package libmpdec3:amd64.\n",
      "Preparing to unpack .../2-libmpdec3_2.5.1-1_amd64.deb ...\n",
      "Unpacking libmpdec3:amd64 (2.5.1-1) ...\n",
      "Selecting previously unselected package libpython3.9-stdlib:amd64.\n",
      "Preparing to unpack .../3-libpython3.9-stdlib_3.9.2-1+deb11u3_amd64.deb ...\n",
      "Unpacking libpython3.9-stdlib:amd64 (3.9.2-1+deb11u3) ...\n",
      "Selecting previously unselected package python3.9.\n",
      "Preparing to unpack .../4-python3.9_3.9.2-1+deb11u3_amd64.deb ...\n",
      "Unpacking python3.9 (3.9.2-1+deb11u3) ...\n",
      "Selecting previously unselected package libpython3-stdlib:amd64.\n",
      "Preparing to unpack .../5-libpython3-stdlib_3.9.2-3_amd64.deb ...\n",
      "Unpacking libpython3-stdlib:amd64 (3.9.2-3) ...\n",
      "Setting up python3-minimal (3.9.2-3) ...\n",
      "Selecting previously unselected package python3.\n",
      "(Reading database ... 14866 files and directories currently installed.)\n",
      "Preparing to unpack .../00-python3_3.9.2-3_amd64.deb ...\n",
      "Unpacking python3 (3.9.2-3) ...\n",
      "Selecting previously unselected package libelf1:amd64.\n",
      "Preparing to unpack .../01-libelf1_0.183-1_amd64.deb ...\n",
      "Unpacking libelf1:amd64 (0.183-1) ...\n",
      "Selecting previously unselected package libbpf0:amd64.\n",
      "Preparing to unpack .../02-libbpf0_1%3a0.3-2+deb11u1_amd64.deb ...\n",
      "Unpacking libbpf0:amd64 (1:0.3-2+deb11u1) ...\n",
      "Selecting previously unselected package libmd0:amd64.\n",
      "Preparing to unpack .../03-libmd0_1.0.3-3_amd64.deb ...\n",
      "Unpacking libmd0:amd64 (1.0.3-3) ...\n",
      "Selecting previously unselected package libbsd0:amd64.\n",
      "Preparing to unpack .../04-libbsd0_0.11.3-1+deb11u1_amd64.deb ...\n",
      "Unpacking libbsd0:amd64 (0.11.3-1+deb11u1) ...\n",
      "Selecting previously unselected package libcap2:amd64.\n",
      "Preparing to unpack .../05-libcap2_1%3a2.44-1+deb11u1_amd64.deb ...\n",
      "Unpacking libcap2:amd64 (1:2.44-1+deb11u1) ...\n",
      "Selecting previously unselected package libmnl0:amd64.\n",
      "Preparing to unpack .../06-libmnl0_1.0.4-3_amd64.deb ...\n",
      "Unpacking libmnl0:amd64 (1.0.4-3) ...\n",
      "Selecting previously unselected package libxtables12:amd64.\n",
      "Preparing to unpack .../07-libxtables12_1.8.7-1_amd64.deb ...\n",
      "Unpacking libxtables12:amd64 (1.8.7-1) ...\n",
      "Selecting previously unselected package libcap2-bin.\n",
      "Preparing to unpack .../08-libcap2-bin_1%3a2.44-1+deb11u1_amd64.deb ...\n",
      "Unpacking libcap2-bin (1:2.44-1+deb11u1) ...\n",
      "Selecting previously unselected package iproute2.\n",
      "Preparing to unpack .../09-iproute2_5.10.0-4_amd64.deb ...\n",
      "Unpacking iproute2 (5.10.0-4) ...\n",
      "Selecting previously unselected package sensible-utils.\n",
      "Preparing to unpack .../10-sensible-utils_0.0.14_all.deb ...\n",
      "Unpacking sensible-utils (0.0.14) ...\n",
      "Selecting previously unselected package ucf.\n",
      "Preparing to unpack .../11-ucf_3.0043+deb11u2_all.deb ...\n",
      "Moving old data out of the way\n",
      "Unpacking ucf (3.0043+deb11u2) ...\n",
      "Preparing to unpack .../12-wget_1.21-1+deb11u2_amd64.deb ...\n",
      "Unpacking wget (1.21-1+deb11u2) over (1.21-1+deb11u1) ...\n",
      "Selecting previously unselected package fonts-dejavu-core.\n",
      "Preparing to unpack .../13-fonts-dejavu-core_2.37-2_all.deb ...\n",
      "Unpacking fonts-dejavu-core (2.37-2) ...\n",
      "Selecting previously unselected package fontconfig-config.\n",
      "Preparing to unpack .../14-fontconfig-config_2.13.1-4.2_all.deb ...\n",
      "Unpacking fontconfig-config (2.13.1-4.2) ...\n",
      "Selecting previously unselected package libdeflate0:amd64.\n",
      "Preparing to unpack .../15-libdeflate0_1.7-1_amd64.deb ...\n",
      "Unpacking libdeflate0:amd64 (1.7-1) ...\n",
      "Selecting previously unselected package libpng16-16:amd64.\n",
      "Preparing to unpack .../16-libpng16-16_1.6.37-3_amd64.deb ...\n",
      "Unpacking libpng16-16:amd64 (1.6.37-3) ...\n",
      "Selecting previously unselected package libfreetype6:amd64.\n",
      "Preparing to unpack .../17-libfreetype6_2.10.4+dfsg-1+deb11u2_amd64.deb ...\n",
      "Unpacking libfreetype6:amd64 (2.10.4+dfsg-1+deb11u2) ...\n",
      "Selecting previously unselected package libfontconfig1:amd64.\n",
      "Preparing to unpack .../18-libfontconfig1_2.13.1-4.2_amd64.deb ...\n",
      "Unpacking libfontconfig1:amd64 (2.13.1-4.2) ...\n",
      "Selecting previously unselected package libjpeg62-turbo:amd64.\n",
      "Preparing to unpack .../19-libjpeg62-turbo_1%3a2.0.6-4_amd64.deb ...\n",
      "Unpacking libjpeg62-turbo:amd64 (1:2.0.6-4) ...\n",
      "Selecting previously unselected package libjbig0:amd64.\n",
      "Preparing to unpack .../20-libjbig0_2.1-3.1+b2_amd64.deb ...\n",
      "Unpacking libjbig0:amd64 (2.1-3.1+b2) ...\n",
      "Selecting previously unselected package libwebp6:amd64.\n",
      "Preparing to unpack .../21-libwebp6_0.6.1-2.1+deb11u2_amd64.deb ...\n",
      "Unpacking libwebp6:amd64 (0.6.1-2.1+deb11u2) ...\n",
      "Selecting previously unselected package libtiff5:amd64.\n",
      "Preparing to unpack .../22-libtiff5_4.2.0-1+deb11u6_amd64.deb ...\n",
      "Unpacking libtiff5:amd64 (4.2.0-1+deb11u6) ...\n",
      "Selecting previously unselected package libxau6:amd64.\n",
      "Preparing to unpack .../23-libxau6_1%3a1.0.9-1_amd64.deb ...\n",
      "Unpacking libxau6:amd64 (1:1.0.9-1) ...\n",
      "Selecting previously unselected package libxdmcp6:amd64.\n",
      "Preparing to unpack .../24-libxdmcp6_1%3a1.1.2-3_amd64.deb ...\n",
      "Unpacking libxdmcp6:amd64 (1:1.1.2-3) ...\n",
      "Selecting previously unselected package libxcb1:amd64.\n",
      "Preparing to unpack .../25-libxcb1_1.14-3_amd64.deb ...\n",
      "Unpacking libxcb1:amd64 (1.14-3) ...\n",
      "Selecting previously unselected package libx11-data.\n",
      "Preparing to unpack .../26-libx11-data_2%3a1.7.2-1+deb11u2_all.deb ...\n",
      "Unpacking libx11-data (2:1.7.2-1+deb11u2) ...\n",
      "Selecting previously unselected package libx11-6:amd64.\n",
      "Preparing to unpack .../27-libx11-6_2%3a1.7.2-1+deb11u2_amd64.deb ...\n",
      "Unpacking libx11-6:amd64 (2:1.7.2-1+deb11u2) ...\n",
      "Selecting previously unselected package libxpm4:amd64.\n",
      "Preparing to unpack .../28-libxpm4_1%3a3.5.12-1.1+deb11u1_amd64.deb ...\n",
      "Unpacking libxpm4:amd64 (1:3.5.12-1.1+deb11u1) ...\n",
      "Selecting previously unselected package libgd3:amd64.\n",
      "Preparing to unpack .../29-libgd3_2.3.0-2_amd64.deb ...\n",
      "Unpacking libgd3:amd64 (2.3.0-2) ...\n",
      "Selecting previously unselected package libgeoip1:amd64.\n",
      "Preparing to unpack .../30-libgeoip1_1.6.12-7_amd64.deb ...\n",
      "Unpacking libgeoip1:amd64 (1.6.12-7) ...\n",
      "Selecting previously unselected package libicu67:amd64.\n",
      "Preparing to unpack .../31-libicu67_67.1-7_amd64.deb ...\n",
      "Unpacking libicu67:amd64 (67.1-7) ...\n",
      "Selecting previously unselected package nginx-common.\n",
      "Preparing to unpack .../32-nginx-common_1.18.0-6.1+deb11u4_all.deb ...\n",
      "Unpacking nginx-common (1.18.0-6.1+deb11u4) ...\n",
      "Selecting previously unselected package libnginx-mod-http-geoip.\n",
      "Preparing to unpack .../33-libnginx-mod-http-geoip_1.18.0-6.1+deb11u4_amd64.deb ...\n",
      "Unpacking libnginx-mod-http-geoip (1.18.0-6.1+deb11u4) ...\n",
      "Selecting previously unselected package libnginx-mod-http-image-filter.\n",
      "Preparing to unpack .../34-libnginx-mod-http-image-filter_1.18.0-6.1+deb11u4_amd64.deb ...\n",
      "Unpacking libnginx-mod-http-image-filter (1.18.0-6.1+deb11u4) ...\n",
      "Selecting previously unselected package libxml2:amd64.\n",
      "Preparing to unpack .../35-libxml2_2.9.10+dfsg-6.7+deb11u7_amd64.deb ...\n",
      "Unpacking libxml2:amd64 (2.9.10+dfsg-6.7+deb11u7) ...\n",
      "Selecting previously unselected package libxslt1.1:amd64.\n",
      "Preparing to unpack .../36-libxslt1.1_1.1.34-4+deb11u2_amd64.deb ...\n",
      "Unpacking libxslt1.1:amd64 (1.1.34-4+deb11u2) ...\n",
      "Selecting previously unselected package libnginx-mod-http-xslt-filter.\n",
      "Preparing to unpack .../37-libnginx-mod-http-xslt-filter_1.18.0-6.1+deb11u4_amd64.deb ...\n",
      "Unpacking libnginx-mod-http-xslt-filter (1.18.0-6.1+deb11u4) ...\n",
      "Selecting previously unselected package libnginx-mod-mail.\n",
      "Preparing to unpack .../38-libnginx-mod-mail_1.18.0-6.1+deb11u4_amd64.deb ...\n",
      "Unpacking libnginx-mod-mail (1.18.0-6.1+deb11u4) ...\n",
      "Selecting previously unselected package libnginx-mod-stream.\n",
      "Preparing to unpack .../39-libnginx-mod-stream_1.18.0-6.1+deb11u4_amd64.deb ...\n",
      "Unpacking libnginx-mod-stream (1.18.0-6.1+deb11u4) ...\n",
      "Selecting previously unselected package libnginx-mod-stream-geoip.\n",
      "Preparing to unpack .../40-libnginx-mod-stream-geoip_1.18.0-6.1+deb11u4_amd64.deb ...\n",
      "Unpacking libnginx-mod-stream-geoip (1.18.0-6.1+deb11u4) ...\n",
      "Selecting previously unselected package nginx-core.\n",
      "Preparing to unpack .../41-nginx-core_1.18.0-6.1+deb11u4_amd64.deb ...\n",
      "Unpacking nginx-core (1.18.0-6.1+deb11u4) ...\n",
      "Selecting previously unselected package nginx.\n",
      "Preparing to unpack .../42-nginx_1.18.0-6.1+deb11u4_all.deb ...\n",
      "Unpacking nginx (1.18.0-6.1+deb11u4) ...\n",
      "Selecting previously unselected package python-pip-whl.\n",
      "Preparing to unpack .../43-python-pip-whl_20.3.4-4+deb11u1_all.deb ...\n",
      "Unpacking python-pip-whl (20.3.4-4+deb11u1) ...\n",
      "Selecting previously unselected package python3-lib2to3.\n",
      "Preparing to unpack .../44-python3-lib2to3_3.9.2-1_all.deb ...\n",
      "Unpacking python3-lib2to3 (3.9.2-1) ...\n",
      "Selecting previously unselected package python3-distutils.\n",
      "Preparing to unpack .../45-python3-distutils_3.9.2-1_all.deb ...\n",
      "Unpacking python3-distutils (3.9.2-1) ...\n",
      "Selecting previously unselected package python3-pkg-resources.\n",
      "Preparing to unpack .../46-python3-pkg-resources_52.0.0-4+deb11u1_all.deb ...\n",
      "Unpacking python3-pkg-resources (52.0.0-4+deb11u1) ...\n",
      "Selecting previously unselected package python3-setuptools.\n",
      "Preparing to unpack .../47-python3-setuptools_52.0.0-4+deb11u1_all.deb ...\n",
      "Unpacking python3-setuptools (52.0.0-4+deb11u1) ...\n",
      "Selecting previously unselected package python3-wheel.\n",
      "Preparing to unpack .../48-python3-wheel_0.34.2-1_all.deb ...\n",
      "Unpacking python3-wheel (0.34.2-1) ...\n",
      "Selecting previously unselected package python3-pip.\n",
      "Preparing to unpack .../49-python3-pip_20.3.4-4+deb11u1_all.deb ...\n",
      "Unpacking python3-pip (20.3.4-4+deb11u1) ...\n",
      "Setting up media-types (4.0.0) ...\n",
      "Setting up libxau6:amd64 (1:1.0.9-1) ...\n",
      "Setting up wget (1.21-1+deb11u2) ...\n",
      "Setting up libicu67:amd64 (67.1-7) ...\n",
      "Setting up libdeflate0:amd64 (1.7-1) ...\n",
      "Setting up nginx-common (1.18.0-6.1+deb11u4) ...\n",
      "debconf: unable to initialize frontend: Dialog\n",
      "debconf: (TERM is not set, so the dialog frontend is not usable.)\n",
      "debconf: falling back to frontend: Readline\n",
      "Setting up libjbig0:amd64 (2.1-3.1+b2) ...\n",
      "Setting up libcap2:amd64 (1:2.44-1+deb11u1) ...\n",
      "Setting up libcap2-bin (1:2.44-1+deb11u1) ...\n",
      "Setting up libjpeg62-turbo:amd64 (1:2.0.6-4) ...\n",
      "Setting up libx11-data (2:1.7.2-1+deb11u2) ...\n",
      "Setting up libpng16-16:amd64 (1.6.37-3) ...\n",
      "Setting up libmnl0:amd64 (1.0.4-3) ...\n",
      "Setting up libwebp6:amd64 (0.6.1-2.1+deb11u2) ...\n",
      "Setting up fonts-dejavu-core (2.37-2) ...\n",
      "Setting up libxtables12:amd64 (1.8.7-1) ...\n",
      "Setting up libmd0:amd64 (1.0.3-3) ...\n",
      "Setting up sensible-utils (0.0.14) ...\n",
      "Setting up libmpdec3:amd64 (2.5.1-1) ...\n",
      "Setting up libgeoip1:amd64 (1.6.12-7) ...\n",
      "Setting up python-pip-whl (20.3.4-4+deb11u1) ...\n",
      "Setting up libtiff5:amd64 (4.2.0-1+deb11u6) ...\n",
      "Setting up libbsd0:amd64 (0.11.3-1+deb11u1) ...\n",
      "Setting up libelf1:amd64 (0.183-1) ...\n",
      "Setting up libxml2:amd64 (2.9.10+dfsg-6.7+deb11u7) ...\n",
      "Setting up libpython3.9-stdlib:amd64 (3.9.2-1+deb11u3) ...\n",
      "Setting up libpython3-stdlib:amd64 (3.9.2-3) ...\n",
      "Setting up libnginx-mod-mail (1.18.0-6.1+deb11u4) ...\n",
      "Setting up libxdmcp6:amd64 (1:1.1.2-3) ...\n",
      "Setting up libxcb1:amd64 (1.14-3) ...\n",
      "Setting up libnginx-mod-stream (1.18.0-6.1+deb11u4) ...\n",
      "Setting up libnginx-mod-stream-geoip (1.18.0-6.1+deb11u4) ...\n",
      "Setting up libnginx-mod-http-geoip (1.18.0-6.1+deb11u4) ...\n",
      "Setting up libfreetype6:amd64 (2.10.4+dfsg-1+deb11u2) ...\n",
      "Setting up ucf (3.0043+deb11u2) ...\n",
      "debconf: unable to initialize frontend: Dialog\n",
      "debconf: (TERM is not set, so the dialog frontend is not usable.)\n",
      "debconf: falling back to frontend: Readline\n",
      "Setting up libxslt1.1:amd64 (1.1.34-4+deb11u2) ...\n",
      "Setting up libx11-6:amd64 (2:1.7.2-1+deb11u2) ...\n",
      "Setting up libbpf0:amd64 (1:0.3-2+deb11u1) ...\n",
      "Setting up python3.9 (3.9.2-1+deb11u3) ...\n",
      "Setting up libxpm4:amd64 (1:3.5.12-1.1+deb11u1) ...\n",
      "Setting up fontconfig-config (2.13.1-4.2) ...\n",
      "debconf: unable to initialize frontend: Dialog\n",
      "debconf: (TERM is not set, so the dialog frontend is not usable.)\n",
      "debconf: falling back to frontend: Readline\n",
      "Setting up iproute2 (5.10.0-4) ...\n",
      "debconf: unable to initialize frontend: Dialog\n",
      "debconf: (TERM is not set, so the dialog frontend is not usable.)\n",
      "debconf: falling back to frontend: Readline\n",
      "Setting up python3 (3.9.2-3) ...\n",
      "running python rtupdate hooks for python3.9...\n",
      "running python post-rtupdate hooks for python3.9...\n",
      "Setting up python3-wheel (0.34.2-1) ...\n",
      "Setting up libnginx-mod-http-xslt-filter (1.18.0-6.1+deb11u4) ...\n",
      "Setting up libfontconfig1:amd64 (2.13.1-4.2) ...\n",
      "Setting up python3-lib2to3 (3.9.2-1) ...\n",
      "Setting up python3-pkg-resources (52.0.0-4+deb11u1) ...\n",
      "Setting up python3-distutils (3.9.2-1) ...\n",
      "Setting up python3-setuptools (52.0.0-4+deb11u1) ...\n",
      "Setting up libgd3:amd64 (2.3.0-2) ...\n",
      "Setting up python3-pip (20.3.4-4+deb11u1) ...\n",
      "Setting up libnginx-mod-http-image-filter (1.18.0-6.1+deb11u4) ...\n",
      "Setting up nginx-core (1.18.0-6.1+deb11u4) ...\n",
      "invoke-rc.d: could not determine current runlevel\n",
      "invoke-rc.d: policy-rc.d denied execution of start.\n",
      "Setting up nginx (1.18.0-6.1+deb11u4) ...\n",
      "Processing triggers for libc-bin (2.31-13+deb11u6) ...\n",
      "Removing intermediate container 3d7f4e39f8d6\n",
      " ---> 0864736bf678\n",
      "Step 4/11 : RUN ln -s /usr/bin/python3 /usr/bin/python\n",
      " ---> Running in 51466fdf4e2d\n",
      "Removing intermediate container 51466fdf4e2d\n",
      " ---> f18c6dfaee77\n",
      "Step 5/11 : RUN ln -sf /usr/bin/pip3 /usr/bin/pip\n",
      " ---> Running in 212ae52b2e93\n",
      "Removing intermediate container 212ae52b2e93\n",
      " ---> a5adbd7ec796\n",
      "Step 6/11 : RUN pip --no-cache-dir install numpy==1.16.2 scipy==1.2.1 scikit-learn==0.20.2 pandas flask gunicorn\n",
      " ---> Running in 86cd2403206f\n",
      "Collecting numpy==1.16.2\n",
      "  Downloading numpy-1.16.2-cp37-cp37m-manylinux1_x86_64.whl (17.3 MB)\n",
      "Collecting scipy==1.2.1\n",
      "  Downloading scipy-1.2.1-cp37-cp37m-manylinux1_x86_64.whl (24.8 MB)\n",
      "Collecting scikit-learn==0.20.2\n",
      "  Downloading scikit_learn-0.20.2-cp37-cp37m-manylinux1_x86_64.whl (5.4 MB)\n",
      "Collecting pandas\n",
      "  Downloading pandas-1.3.5-cp37-cp37m-manylinux_2_17_x86_64.manylinux2014_x86_64.whl (11.3 MB)\n",
      "Collecting flask\n",
      "  Downloading Flask-2.2.5-py3-none-any.whl (101 kB)\n",
      "Collecting gunicorn\n",
      "  Downloading gunicorn-23.0.0-py3-none-any.whl (85 kB)\n",
      "Collecting python-dateutil>=2.7.3\n",
      "  Downloading python_dateutil-2.9.0.post0-py2.py3-none-any.whl (229 kB)\n",
      "Collecting pytz>=2017.3\n",
      "  Downloading pytz-2025.2-py2.py3-none-any.whl (509 kB)\n",
      "Collecting pandas\n",
      "  Downloading pandas-1.3.4-cp37-cp37m-manylinux_2_17_x86_64.manylinux2014_x86_64.whl (11.3 MB)\n",
      "  Downloading pandas-1.3.3-cp37-cp37m-manylinux_2_17_x86_64.manylinux2014_x86_64.whl (11.3 MB)\n",
      "  Downloading pandas-1.3.2-cp37-cp37m-manylinux_2_17_x86_64.manylinux2014_x86_64.whl (11.3 MB)\n",
      "  Downloading pandas-1.3.1-cp37-cp37m-manylinux_2_17_x86_64.manylinux2014_x86_64.whl (11.5 MB)\n",
      "  Downloading pandas-1.3.0-cp37-cp37m-manylinux_2_5_x86_64.manylinux1_x86_64.whl (10.8 MB)\n",
      "  Downloading pandas-1.2.5-cp37-cp37m-manylinux_2_5_x86_64.manylinux1_x86_64.whl (9.9 MB)\n",
      "  Downloading pandas-1.2.4-cp37-cp37m-manylinux1_x86_64.whl (9.9 MB)\n",
      "  Downloading pandas-1.2.3-cp37-cp37m-manylinux1_x86_64.whl (9.9 MB)\n",
      "  Downloading pandas-1.2.2-cp37-cp37m-manylinux1_x86_64.whl (9.9 MB)\n",
      "  Downloading pandas-1.2.1-cp37-cp37m-manylinux1_x86_64.whl (9.9 MB)\n",
      "  Downloading pandas-1.2.0-cp37-cp37m-manylinux1_x86_64.whl (9.9 MB)\n",
      "  Downloading pandas-1.1.5-cp37-cp37m-manylinux1_x86_64.whl (9.5 MB)\n",
      "Collecting itsdangerous>=2.0\n",
      "  Downloading itsdangerous-2.1.2-py3-none-any.whl (15 kB)\n",
      "Requirement already satisfied: importlib-metadata>=3.6.0 in /opt/bitnami/python/lib/python3.7/site-packages (from flask) (6.6.0)\n",
      "Collecting click>=8.0\n",
      "  Downloading click-8.1.8-py3-none-any.whl (98 kB)\n",
      "Collecting Jinja2>=3.0\n",
      "  Downloading jinja2-3.1.6-py3-none-any.whl (134 kB)\n",
      "Collecting Werkzeug>=2.2.2\n",
      "  Downloading Werkzeug-2.2.3-py3-none-any.whl (233 kB)\n",
      "Collecting packaging\n",
      "  Downloading packaging-24.0-py3-none-any.whl (53 kB)\n",
      "Requirement already satisfied: zipp>=0.5 in /opt/bitnami/python/lib/python3.7/site-packages (from importlib-metadata>=3.6.0->flask) (3.15.0)\n",
      "Requirement already satisfied: typing-extensions>=3.6.4 in /opt/bitnami/python/lib/python3.7/site-packages (from importlib-metadata>=3.6.0->flask) (4.6.3)\n",
      "Collecting MarkupSafe>=2.0\n",
      "  Downloading MarkupSafe-2.1.5-cp37-cp37m-manylinux_2_17_x86_64.manylinux2014_x86_64.whl (25 kB)\n",
      "Collecting six>=1.5\n",
      "  Downloading six-1.17.0-py2.py3-none-any.whl (11 kB)\n",
      "Installing collected packages: six, numpy, MarkupSafe, Werkzeug, scipy, pytz, python-dateutil, packaging, Jinja2, itsdangerous, click, scikit-learn, pandas, gunicorn, flask\n",
      "Successfully installed Jinja2-3.1.6 MarkupSafe-2.1.5 Werkzeug-2.2.3 click-8.1.8 flask-2.2.5 gunicorn-23.0.0 itsdangerous-2.1.2 numpy-1.16.2 packaging-24.0 pandas-1.1.5 python-dateutil-2.9.0.post0 pytz-2025.2 scikit-learn-0.20.2 scipy-1.2.1 six-1.17.0\n",
      "\u001b[91mWARNING: Running pip as the 'root' user can result in broken permissions and conflicting behaviour with the system package manager. It is recommended to use a virtual environment instead: https://pip.pypa.io/warnings/venv\n",
      "\u001b[0mRemoving intermediate container 86cd2403206f\n",
      " ---> 7bd614f23ae5\n",
      "Step 7/11 : ENV PYTHONUNBUFFERED=TRUE\n",
      " ---> Running in 6a122283fcf2\n",
      "Removing intermediate container 6a122283fcf2\n",
      " ---> 63f2fa740faf\n",
      "Step 8/11 : ENV PYTHONDONTWRITEBYTECODE=TRUE\n",
      " ---> Running in ab270787210c\n",
      "Removing intermediate container ab270787210c\n",
      " ---> 41f0c3d76cd8\n",
      "Step 9/11 : ENV PATH=\"/opt/program:${PATH}\"\n",
      " ---> Running in 31c0fe06b825\n",
      "Removing intermediate container 31c0fe06b825\n",
      " ---> 2f741c013c79\n",
      "Step 10/11 : COPY linear_regression /opt/program\n",
      " ---> 79f90c0fc598\n",
      "Step 11/11 : WORKDIR /opt/program\n",
      " ---> Running in 3722e3094b0d\n",
      "Removing intermediate container 3722e3094b0d\n",
      " ---> 5f34125c82be\n",
      "Successfully built 5f34125c82be\n",
      "Successfully tagged sagemaker-linear-regression:latest\n",
      "\n",
      "[Container] 2025/05/25 23:27:20.193005 Running command docker tag $IMAGE_REPO_NAME:$IMAGE_TAG $AWS_ACCOUNT_ID.dkr.ecr.$AWS_DEFAULT_REGION.amazonaws.com/$IMAGE_REPO_NAME:$IMAGE_TAG\n",
      "\n",
      "[Container] 2025/05/25 23:27:20.219983 Phase complete: BUILD State: SUCCEEDED\n",
      "[Container] 2025/05/25 23:27:20.220039 Phase context status code:  Message:\n",
      "[Container] 2025/05/25 23:27:20.255222 Entering phase POST_BUILD\n",
      "[Container] 2025/05/25 23:27:20.256341 Running command echo Build completed on `date`\n",
      "Build completed on Sun May 25 23:27:20 UTC 2025\n",
      "\n",
      "[Container] 2025/05/25 23:27:20.262582 Running command echo Pushing the Docker image...\n",
      "Pushing the Docker image...\n",
      "\n",
      "[Container] 2025/05/25 23:27:20.267948 Running command docker push $AWS_ACCOUNT_ID.dkr.ecr.$AWS_DEFAULT_REGION.amazonaws.com/$IMAGE_REPO_NAME:$IMAGE_TAG\n",
      "The push refers to repository [336362130621.dkr.ecr.us-east-1.amazonaws.com/sagemaker-linear-regression]\n",
      "57b7871ea20e: Preparing\n",
      "90476c1ebc62: Preparing\n",
      "1f61866a6c80: Preparing\n",
      "5fcf0f35ecff: Preparing\n",
      "1a4bfc58f714: Preparing\n",
      "d71cf8bf87fd: Preparing\n",
      "d71cf8bf87fd: Waiting\n",
      "1f61866a6c80: Pushed\n",
      "5fcf0f35ecff: Pushed\n",
      "57b7871ea20e: Pushed\n",
      "1a4bfc58f714: Pushed\n",
      "90476c1ebc62: Pushed\n",
      "d71cf8bf87fd: Pushed\n",
      "latest: digest: sha256:e218c89926ba5a6a4f34f15784d2dd4eb52612444ddc3453ee258f3b35db8de2 size: 1576\n",
      "\n",
      "[Container] 2025/05/25 23:27:50.514218 Phase complete: POST_BUILD State: SUCCEEDED\n",
      "[Container] 2025/05/25 23:27:50.514249 Phase context status code:  Message:\n",
      "[Container] 2025/05/25 23:27:50.560150 Set report auto-discover timeout to 5 seconds\n",
      "[Container] 2025/05/25 23:27:50.560232 Expanding base directory path:  .\n",
      "[Container] 2025/05/25 23:27:50.561707 Assembling file list\n",
      "[Container] 2025/05/25 23:27:50.561717 Expanding .\n",
      "[Container] 2025/05/25 23:27:50.563205 Expanding file paths for base directory .\n",
      "[Container] 2025/05/25 23:27:50.563216 Assembling file list\n",
      "[Container] 2025/05/25 23:27:50.563221 Expanding **/*\n",
      "[Container] 2025/05/25 23:27:50.566613 No matching auto-discover report paths found\n",
      "[Container] 2025/05/25 23:27:50.566631 Report auto-discover file discovery took 0.006482 seconds\n",
      "[Container] 2025/05/25 23:27:50.566667 Phase complete: UPLOAD_ARTIFACTS State: SUCCEEDED\n",
      "[Container] 2025/05/25 23:27:50.566673 Phase context status code:  Message:\n",
      "\n",
      "Image URI: 336362130621.dkr.ecr.us-east-1.amazonaws.com/sagemaker-linear-regression:latest\n"
     ]
    }
   ],
   "source": [
    "%%sh\n",
    "\n",
    "\n",
    "# The name of our algorithm\n",
    "algorithm_name=sagemaker-linear-regression\n",
    "cd container\n",
    "\n",
    "chmod +x linear_regression/train\n",
    "chmod +x linear_regression/serve\n",
    "\n",
    "# The name of the image\n",
    "fullname=\"${algorithm_name}:latest\"\n",
    "\n",
    "# Use in build sagemaker docker and codebuild to create image\n",
    "sm-docker build . --role sagemaker_studio_role --repository ${fullname} --bucket lab-data-bucket-8f952830"
   ]
  },
  {
   "cell_type": "markdown",
   "metadata": {},
   "source": [
    "# Part 2: Review and prepare your data\n",
    "\n",
    "Your data is loaded in the data/ folder. Review the data and split them into training and test sets.\n"
   ]
  },
  {
   "cell_type": "markdown",
   "metadata": {},
   "source": [
    "## Code Cell 4"
   ]
  },
  {
   "cell_type": "code",
   "execution_count": 5,
   "metadata": {
    "tags": []
   },
   "outputs": [],
   "source": [
    "# Import Pandas and Numpy\n",
    "# To learn more about Pandas, go to: https://pandas.pydata.org\n",
    "# To learn more about Numpy, go to https://numpy.org/\n",
    "import os\n",
    "import pandas as pd\n",
    "import numpy as np"
   ]
  },
  {
   "cell_type": "markdown",
   "metadata": {},
   "source": [
    "This dataset has five cloumns. This datasets were created for the demostration purpose only.\n",
    "\n",
    "* `book_id` - Unique id number of the book\n",
    "* `customer_ratings` - In the scale of 1-5, received customer ratings.\n",
    "* `helpful_votes` - The ratings that were postive to the product.\n",
    "* `total_votes` - Total number of ratings\n",
    "* `price` - Listed price"
   ]
  },
  {
   "cell_type": "markdown",
   "metadata": {},
   "source": [
    "## Code Cell 5"
   ]
  },
  {
   "cell_type": "code",
   "execution_count": 6,
   "metadata": {
    "tags": []
   },
   "outputs": [
    {
     "data": {
      "text/html": [
       "<div>\n",
       "<style scoped>\n",
       "    .dataframe tbody tr th:only-of-type {\n",
       "        vertical-align: middle;\n",
       "    }\n",
       "\n",
       "    .dataframe tbody tr th {\n",
       "        vertical-align: top;\n",
       "    }\n",
       "\n",
       "    .dataframe thead th {\n",
       "        text-align: right;\n",
       "    }\n",
       "</style>\n",
       "<table border=\"1\" class=\"dataframe\">\n",
       "  <thead>\n",
       "    <tr style=\"text-align: right;\">\n",
       "      <th></th>\n",
       "      <th>book_id</th>\n",
       "      <th>customer_ratings</th>\n",
       "      <th>helpful_votes</th>\n",
       "      <th>total_votes</th>\n",
       "      <th>price</th>\n",
       "    </tr>\n",
       "  </thead>\n",
       "  <tbody>\n",
       "    <tr>\n",
       "      <th>0</th>\n",
       "      <td>48541186</td>\n",
       "      <td>5</td>\n",
       "      <td>16</td>\n",
       "      <td>20</td>\n",
       "      <td>2.638007</td>\n",
       "    </tr>\n",
       "    <tr>\n",
       "      <th>1</th>\n",
       "      <td>52253037</td>\n",
       "      <td>5</td>\n",
       "      <td>1</td>\n",
       "      <td>1</td>\n",
       "      <td>2.662567</td>\n",
       "    </tr>\n",
       "    <tr>\n",
       "      <th>2</th>\n",
       "      <td>52534781</td>\n",
       "      <td>4</td>\n",
       "      <td>16</td>\n",
       "      <td>19</td>\n",
       "      <td>2.531479</td>\n",
       "    </tr>\n",
       "    <tr>\n",
       "      <th>3</th>\n",
       "      <td>25947084</td>\n",
       "      <td>5</td>\n",
       "      <td>2</td>\n",
       "      <td>2</td>\n",
       "      <td>2.572494</td>\n",
       "    </tr>\n",
       "    <tr>\n",
       "      <th>4</th>\n",
       "      <td>37527885</td>\n",
       "      <td>5</td>\n",
       "      <td>1</td>\n",
       "      <td>1</td>\n",
       "      <td>2.662567</td>\n",
       "    </tr>\n",
       "  </tbody>\n",
       "</table>\n",
       "</div>"
      ],
      "text/plain": [
       "    book_id  customer_ratings  helpful_votes  total_votes     price\n",
       "0  48541186                 5             16           20  2.638007\n",
       "1  52253037                 5              1            1  2.662567\n",
       "2  52534781                 4             16           19  2.531479\n",
       "3  25947084                 5              2            2  2.572494\n",
       "4  37527885                 5              1            1  2.662567"
      ]
     },
     "execution_count": 6,
     "metadata": {},
     "output_type": "execute_result"
    }
   ],
   "source": [
    "# Read the file book_data.csv as a dataFrame\n",
    "df = pd.read_csv('data/book_data.csv')\n",
    "\n",
    "# Print the first 5 lines of the dataFrame.\n",
    "df.head()"
   ]
  },
  {
   "cell_type": "markdown",
   "metadata": {},
   "source": [
    "An important part of training a machine learning model is splitting the data into training, validation, and test subsets. You will use the `train_test_split()` function from the `sklearn` library ([documentation](https://scikit-learn.org/stable/modules/generated/sklearn.model_selection.train_test_split.html))."
   ]
  },
  {
   "cell_type": "markdown",
   "metadata": {},
   "source": [
    "## Code Cell 6"
   ]
  },
  {
   "cell_type": "code",
   "execution_count": 7,
   "metadata": {
    "tags": []
   },
   "outputs": [
    {
     "name": "stdout",
     "output_type": "stream",
     "text": [
      "Length of train_data is: (3999, 5)\n",
      "Length of test_data is: (1000, 5)\n"
     ]
    }
   ],
   "source": [
    "# Import train_test_split module from Scikit-learn \n",
    "# To learn more about data split, \n",
    "# go to https://scikit-learn.org/stable/modules/generated/sklearn.model_selection.train_test_split.html\n",
    "\n",
    "from sklearn.model_selection import train_test_split\n",
    "train, test = train_test_split(df,test_size=0.2)\n",
    "\n",
    "print(f\"Length of train_data is: {train.shape}\")\n",
    "print(f\"Length of test_data is: {test.shape}\")"
   ]
  },
  {
   "cell_type": "markdown",
   "metadata": {},
   "source": [
    "## Code Cell 7"
   ]
  },
  {
   "cell_type": "code",
   "execution_count": 8,
   "metadata": {
    "tags": []
   },
   "outputs": [],
   "source": [
    "# Converting the array to the data frame\n",
    "train_df = pd.DataFrame(train)\n",
    "test_df = pd.DataFrame(test)\n",
    "\n",
    "# Save the train_df frames as train_data.csv\n",
    "train_df.to_csv('data/train_data.csv', header=False, index = False)\n",
    "\n",
    "\n",
    "# Save the test_df frames as test_data.csv\n",
    "test_df.to_csv('data/test_data.csv', header=False, index = False)"
   ]
  },
  {
   "cell_type": "markdown",
   "metadata": {},
   "source": [
    "## Code Cell 8"
   ]
  },
  {
   "cell_type": "code",
   "execution_count": 9,
   "metadata": {
    "tags": []
   },
   "outputs": [],
   "source": [
    "%%sh\n",
    "\n",
    "# Move the train and test data to data/train and data/test folder respectively\n",
    "\n",
    "cd data/\n",
    "mkdir test\n",
    "mkdir train\n",
    "mv train_data.csv train/\n",
    "mv test_data.csv test/"
   ]
  },
  {
   "cell_type": "markdown",
   "metadata": {},
   "source": [
    "# Part 3: Using your Algorithm in Amazon SageMaker\n",
    "\n",
    "Once you have your container packaged and data reviewed, you can use it to train models and use the model for hosting .\n",
    "\n",
    "## Set up the environment\n",
    "\n",
    "Here we specify a bucket to use and the role that will be used for working with SageMaker."
   ]
  },
  {
   "cell_type": "markdown",
   "metadata": {},
   "source": [
    "## Code Cell 9"
   ]
  },
  {
   "cell_type": "code",
   "execution_count": 13,
   "metadata": {
    "tags": []
   },
   "outputs": [],
   "source": [
    "# S3 bucket name and prefix\n",
    "bucket_name = \"lab-data-bucket-8f952830\"\n",
    "prefix = \"DEMO-scikit-book-price\"\n",
    "\n",
    "# Import boto3 and define IAM role\n",
    "import boto3\n",
    "from sagemaker import get_execution_role\n",
    "\n",
    "role = get_execution_role()"
   ]
  },
  {
   "cell_type": "markdown",
   "metadata": {},
   "source": [
    "## Create the session\n",
    "\n",
    "The session remembers our connection parameters to SageMaker. We'll use it to perform all of our SageMaker operations."
   ]
  },
  {
   "cell_type": "markdown",
   "metadata": {},
   "source": [
    "## Code Cell 10"
   ]
  },
  {
   "cell_type": "code",
   "execution_count": 14,
   "metadata": {
    "tags": []
   },
   "outputs": [],
   "source": [
    "import sagemaker as sage\n",
    "from time import gmtime, strftime\n",
    "\n",
    "sess = sage.Session()"
   ]
  },
  {
   "cell_type": "markdown",
   "metadata": {},
   "source": [
    "## Upload the data for training\n",
    "\n",
    "When training large models with huge amounts of data, you'll typically use big data tools, like Amazon Athena, AWS Glue, or Amazon EMR, to create your data in S3. For the purposes of this example, we're using fictitious book ratings data, which we have included. \n",
    "\n",
    "We can use use the tools provided by the SageMaker Python SDK to upload the data to a default bucket. "
   ]
  },
  {
   "cell_type": "markdown",
   "metadata": {},
   "source": [
    "## Code Cell 11"
   ]
  },
  {
   "cell_type": "code",
   "execution_count": 15,
   "metadata": {
    "tags": []
   },
   "outputs": [],
   "source": [
    "WORK_DIRECTORY = \"data/train\"\n",
    "\n",
    "data_location = sess.upload_data(WORK_DIRECTORY, bucket=bucket_name, key_prefix=prefix)"
   ]
  },
  {
   "cell_type": "markdown",
   "metadata": {},
   "source": [
    "## Create an estimator and fit the model\n",
    "\n",
    "In order to use SageMaker to fit our algorithm, we'll create an `Estimator` that defines how to use the container to train. This includes the configuration we need to invoke SageMaker training:\n",
    "\n",
    "* The __container name__. This is constructed as in the shell commands above.\n",
    "* The __role__. As defined above.\n",
    "* The __instance count__ which is the number of machines to use for training.\n",
    "* The __instance type__ which is the type of machine to use for training.\n",
    "* The __output path__ determines where the model artifact will be written.\n",
    "* The __session__ is the SageMaker session object that we defined above.\n",
    "\n",
    "Then we use fit() on the estimator to train against the data that we uploaded above."
   ]
  },
  {
   "cell_type": "markdown",
   "metadata": {},
   "source": [
    "## Code Cell 12"
   ]
  },
  {
   "cell_type": "code",
   "execution_count": 16,
   "metadata": {
    "tags": []
   },
   "outputs": [
    {
     "name": "stdout",
     "output_type": "stream",
     "text": [
      "s3://lab-data-bucket-8f952830/output\n"
     ]
    }
   ],
   "source": [
    "output_path=f\"s3://{bucket_name}/output\"\n",
    "print(output_path)"
   ]
  },
  {
   "cell_type": "markdown",
   "metadata": {},
   "source": [
    "## Code Cell 13"
   ]
  },
  {
   "cell_type": "code",
   "execution_count": 17,
   "metadata": {
    "tags": []
   },
   "outputs": [
    {
     "name": "stderr",
     "output_type": "stream",
     "text": [
      "INFO:sagemaker:Creating training-job with name: sagemaker-linear-regression-2025-05-25-23-47-23-595\n"
     ]
    },
    {
     "name": "stdout",
     "output_type": "stream",
     "text": [
      "336362130621.dkr.ecr.us-east-1.amazonaws.com/sagemaker-linear-regression:latest\n",
      "2025-05-25 23:47:25 Starting - Starting the training job...\n",
      "2025-05-25 23:47:49 Starting - Preparing the instances for training...\n",
      "2025-05-25 23:48:22 Downloading - Downloading input data...\n",
      "2025-05-25 23:48:47 Training - Training image download completed. Training in progress..\u001b[34mStarting the training.\u001b[0m\n",
      "\u001b[34mTraining complete.\u001b[0m\n",
      "\n",
      "2025-05-25 23:49:16 Uploading - Uploading generated training model\n",
      "2025-05-25 23:49:16 Completed - Training job completed\n",
      "Training seconds: 54\n",
      "Billable seconds: 54\n"
     ]
    }
   ],
   "source": [
    "account = sess.boto_session.client(\"sts\").get_caller_identity()[\"Account\"]\n",
    "region = sess.boto_session.region_name\n",
    "image = f\"{account}.dkr.ecr.{region}.amazonaws.com/sagemaker-linear-regression:latest\"\n",
    "print(image)\n",
    "\n",
    "linear_regression = sage.estimator.Estimator(\n",
    "    image,\n",
    "    role,\n",
    "    1,\n",
    "    \"ml.m4.xlarge\",\n",
    "    output_path=f\"s3://{bucket_name}/output\",\n",
    "    sagemaker_session=sess,\n",
    ")\n",
    "\n",
    "linear_regression.fit(data_location)"
   ]
  },
  {
   "cell_type": "markdown",
   "metadata": {},
   "source": [
    "## Hosting your model\n",
    "You can use a trained model to get real time predictions using HTTP endpoint. Follow these steps to walk you through the process."
   ]
  },
  {
   "cell_type": "markdown",
   "metadata": {},
   "source": [
    "### Deploy the model\n",
    "\n",
    "Deploying the model to SageMaker hosting just requires a `deploy` call on the fitted model. This call takes an instance count, instance type, and optionally serializer and deserializer functions. These are used when the resulting predictor is created on the endpoint."
   ]
  },
  {
   "cell_type": "markdown",
   "metadata": {},
   "source": [
    "## Code Cell 14"
   ]
  },
  {
   "cell_type": "code",
   "execution_count": 18,
   "metadata": {
    "tags": []
   },
   "outputs": [
    {
     "name": "stderr",
     "output_type": "stream",
     "text": [
      "INFO:sagemaker:Creating model with name: sagemaker-linear-regression-2025-05-26-00-01-26-295\n",
      "INFO:sagemaker:Creating endpoint-config with name sagemaker-linear-regression-2025-05-26-00-01-26-295\n",
      "INFO:sagemaker:Creating endpoint with name sagemaker-linear-regression-2025-05-26-00-01-26-295\n"
     ]
    },
    {
     "name": "stdout",
     "output_type": "stream",
     "text": [
      "-------!"
     ]
    }
   ],
   "source": [
    "from sagemaker.serializers import CSVSerializer\n",
    "predictor = linear_regression.deploy(1, \"ml.m5.large\", serializer=CSVSerializer())"
   ]
  },
  {
   "cell_type": "markdown",
   "metadata": {},
   "source": [
    "# Part 4: Validate the Endpoint"
   ]
  },
  {
   "cell_type": "markdown",
   "metadata": {},
   "source": [
    "### Use test data for a prediction\n",
    "\n",
    "In order to do some predictions, we'll use test data and do predictions against it. This is a way to see how the mechanism works."
   ]
  },
  {
   "cell_type": "markdown",
   "metadata": {},
   "source": [
    "## Code Cell 15"
   ]
  },
  {
   "cell_type": "code",
   "execution_count": 19,
   "metadata": {
    "tags": []
   },
   "outputs": [],
   "source": [
    "test_data = pd.read_csv(\"data/test/test_data.csv\")"
   ]
  },
  {
   "cell_type": "markdown",
   "metadata": {},
   "source": [
    "## Code Cell 16"
   ]
  },
  {
   "cell_type": "code",
   "execution_count": 20,
   "metadata": {
    "tags": []
   },
   "outputs": [],
   "source": [
    "x_data = test_data.iloc[:,1:4]\n",
    "y_data = test_data.iloc[:,-1]"
   ]
  },
  {
   "cell_type": "markdown",
   "metadata": {},
   "source": [
    "Prediction is as easy as calling predict with the predictor we got back from deploy and the data we want to do predictions with. The serializers take care of doing the data conversions for us."
   ]
  },
  {
   "cell_type": "markdown",
   "metadata": {},
   "source": [
    "## Code Cell 17"
   ]
  },
  {
   "cell_type": "code",
   "execution_count": null,
   "metadata": {
    "tags": []
   },
   "outputs": [],
   "source": [
    "predictions = predictor.predict(x_data.values).decode(\"utf-8\")"
   ]
  },
  {
   "cell_type": "markdown",
   "metadata": {},
   "source": [
    "## Code Cell 18"
   ]
  },
  {
   "cell_type": "code",
   "execution_count": null,
   "metadata": {
    "tags": []
   },
   "outputs": [],
   "source": [
    "# Converting the recived prediction results into a list.\n",
    "\n",
    "def Convert(string):\n",
    "    l = list(string.split(\"\\n\"))\n",
    "    return l\n",
    "\n",
    "predictions = Convert(predictions)\n",
    "\n",
    "# Removing the last empty value\n",
    "predictions.pop()\n",
    "\n",
    "# Print the predicton value as a list\n",
    "print(predictions)"
   ]
  },
  {
   "cell_type": "markdown",
   "metadata": {},
   "source": [
    "#### Review the predicted result and the test result in a scatter plot\n",
    "\n",
    "Scatter plot is a graph in which the values of two variables are plotted along two axes, the pattern of the resulting points revealing any correlation present."
   ]
  },
  {
   "cell_type": "markdown",
   "metadata": {},
   "source": [
    "## Code Cell 19"
   ]
  },
  {
   "cell_type": "code",
   "execution_count": null,
   "metadata": {
    "tags": []
   },
   "outputs": [],
   "source": [
    "%matplotlib inline\n",
    "import matplotlib.pyplot as plt"
   ]
  },
  {
   "cell_type": "markdown",
   "metadata": {},
   "source": [
    "## Code Cell 20"
   ]
  },
  {
   "cell_type": "code",
   "execution_count": null,
   "metadata": {
    "tags": []
   },
   "outputs": [],
   "source": [
    "# Convert the y_data array to a list\n",
    "y_list = y_data.tolist()"
   ]
  },
  {
   "cell_type": "markdown",
   "metadata": {},
   "source": [
    "## Code Cell 21"
   ]
  },
  {
   "cell_type": "code",
   "execution_count": null,
   "metadata": {
    "tags": []
   },
   "outputs": [],
   "source": [
    "plt.scatter(predictions, y_list)"
   ]
  },
  {
   "cell_type": "markdown",
   "metadata": {},
   "source": [
    "### Optional cleanup\n",
    "When you're done with the endpoint, you'll want to clean it up."
   ]
  },
  {
   "cell_type": "markdown",
   "metadata": {},
   "source": [
    "## Code Cell 22"
   ]
  },
  {
   "cell_type": "code",
   "execution_count": null,
   "metadata": {},
   "outputs": [],
   "source": [
    "# predictor.delete_model()\n",
    "# predictor.delete_endpoint()"
   ]
  }
 ],
 "metadata": {
  "availableInstances": [
   {
    "_defaultOrder": 0,
    "_isFastLaunch": true,
    "category": "General purpose",
    "gpuNum": 0,
    "hideHardwareSpecs": false,
    "memoryGiB": 4,
    "name": "ml.t3.medium",
    "vcpuNum": 2
   },
   {
    "_defaultOrder": 1,
    "_isFastLaunch": false,
    "category": "General purpose",
    "gpuNum": 0,
    "hideHardwareSpecs": false,
    "memoryGiB": 8,
    "name": "ml.t3.large",
    "vcpuNum": 2
   },
   {
    "_defaultOrder": 2,
    "_isFastLaunch": false,
    "category": "General purpose",
    "gpuNum": 0,
    "hideHardwareSpecs": false,
    "memoryGiB": 16,
    "name": "ml.t3.xlarge",
    "vcpuNum": 4
   },
   {
    "_defaultOrder": 3,
    "_isFastLaunch": false,
    "category": "General purpose",
    "gpuNum": 0,
    "hideHardwareSpecs": false,
    "memoryGiB": 32,
    "name": "ml.t3.2xlarge",
    "vcpuNum": 8
   },
   {
    "_defaultOrder": 4,
    "_isFastLaunch": true,
    "category": "General purpose",
    "gpuNum": 0,
    "hideHardwareSpecs": false,
    "memoryGiB": 8,
    "name": "ml.m5.large",
    "vcpuNum": 2
   },
   {
    "_defaultOrder": 5,
    "_isFastLaunch": false,
    "category": "General purpose",
    "gpuNum": 0,
    "hideHardwareSpecs": false,
    "memoryGiB": 16,
    "name": "ml.m5.xlarge",
    "vcpuNum": 4
   },
   {
    "_defaultOrder": 6,
    "_isFastLaunch": false,
    "category": "General purpose",
    "gpuNum": 0,
    "hideHardwareSpecs": false,
    "memoryGiB": 32,
    "name": "ml.m5.2xlarge",
    "vcpuNum": 8
   },
   {
    "_defaultOrder": 7,
    "_isFastLaunch": false,
    "category": "General purpose",
    "gpuNum": 0,
    "hideHardwareSpecs": false,
    "memoryGiB": 64,
    "name": "ml.m5.4xlarge",
    "vcpuNum": 16
   },
   {
    "_defaultOrder": 8,
    "_isFastLaunch": false,
    "category": "General purpose",
    "gpuNum": 0,
    "hideHardwareSpecs": false,
    "memoryGiB": 128,
    "name": "ml.m5.8xlarge",
    "vcpuNum": 32
   },
   {
    "_defaultOrder": 9,
    "_isFastLaunch": false,
    "category": "General purpose",
    "gpuNum": 0,
    "hideHardwareSpecs": false,
    "memoryGiB": 192,
    "name": "ml.m5.12xlarge",
    "vcpuNum": 48
   },
   {
    "_defaultOrder": 10,
    "_isFastLaunch": false,
    "category": "General purpose",
    "gpuNum": 0,
    "hideHardwareSpecs": false,
    "memoryGiB": 256,
    "name": "ml.m5.16xlarge",
    "vcpuNum": 64
   },
   {
    "_defaultOrder": 11,
    "_isFastLaunch": false,
    "category": "General purpose",
    "gpuNum": 0,
    "hideHardwareSpecs": false,
    "memoryGiB": 384,
    "name": "ml.m5.24xlarge",
    "vcpuNum": 96
   },
   {
    "_defaultOrder": 12,
    "_isFastLaunch": false,
    "category": "General purpose",
    "gpuNum": 0,
    "hideHardwareSpecs": false,
    "memoryGiB": 8,
    "name": "ml.m5d.large",
    "vcpuNum": 2
   },
   {
    "_defaultOrder": 13,
    "_isFastLaunch": false,
    "category": "General purpose",
    "gpuNum": 0,
    "hideHardwareSpecs": false,
    "memoryGiB": 16,
    "name": "ml.m5d.xlarge",
    "vcpuNum": 4
   },
   {
    "_defaultOrder": 14,
    "_isFastLaunch": false,
    "category": "General purpose",
    "gpuNum": 0,
    "hideHardwareSpecs": false,
    "memoryGiB": 32,
    "name": "ml.m5d.2xlarge",
    "vcpuNum": 8
   },
   {
    "_defaultOrder": 15,
    "_isFastLaunch": false,
    "category": "General purpose",
    "gpuNum": 0,
    "hideHardwareSpecs": false,
    "memoryGiB": 64,
    "name": "ml.m5d.4xlarge",
    "vcpuNum": 16
   },
   {
    "_defaultOrder": 16,
    "_isFastLaunch": false,
    "category": "General purpose",
    "gpuNum": 0,
    "hideHardwareSpecs": false,
    "memoryGiB": 128,
    "name": "ml.m5d.8xlarge",
    "vcpuNum": 32
   },
   {
    "_defaultOrder": 17,
    "_isFastLaunch": false,
    "category": "General purpose",
    "gpuNum": 0,
    "hideHardwareSpecs": false,
    "memoryGiB": 192,
    "name": "ml.m5d.12xlarge",
    "vcpuNum": 48
   },
   {
    "_defaultOrder": 18,
    "_isFastLaunch": false,
    "category": "General purpose",
    "gpuNum": 0,
    "hideHardwareSpecs": false,
    "memoryGiB": 256,
    "name": "ml.m5d.16xlarge",
    "vcpuNum": 64
   },
   {
    "_defaultOrder": 19,
    "_isFastLaunch": false,
    "category": "General purpose",
    "gpuNum": 0,
    "hideHardwareSpecs": false,
    "memoryGiB": 384,
    "name": "ml.m5d.24xlarge",
    "vcpuNum": 96
   },
   {
    "_defaultOrder": 20,
    "_isFastLaunch": false,
    "category": "General purpose",
    "gpuNum": 0,
    "hideHardwareSpecs": true,
    "memoryGiB": 0,
    "name": "ml.geospatial.interactive",
    "supportedImageNames": [
     "sagemaker-geospatial-v1-0"
    ],
    "vcpuNum": 0
   },
   {
    "_defaultOrder": 21,
    "_isFastLaunch": true,
    "category": "Compute optimized",
    "gpuNum": 0,
    "hideHardwareSpecs": false,
    "memoryGiB": 4,
    "name": "ml.c5.large",
    "vcpuNum": 2
   },
   {
    "_defaultOrder": 22,
    "_isFastLaunch": false,
    "category": "Compute optimized",
    "gpuNum": 0,
    "hideHardwareSpecs": false,
    "memoryGiB": 8,
    "name": "ml.c5.xlarge",
    "vcpuNum": 4
   },
   {
    "_defaultOrder": 23,
    "_isFastLaunch": false,
    "category": "Compute optimized",
    "gpuNum": 0,
    "hideHardwareSpecs": false,
    "memoryGiB": 16,
    "name": "ml.c5.2xlarge",
    "vcpuNum": 8
   },
   {
    "_defaultOrder": 24,
    "_isFastLaunch": false,
    "category": "Compute optimized",
    "gpuNum": 0,
    "hideHardwareSpecs": false,
    "memoryGiB": 32,
    "name": "ml.c5.4xlarge",
    "vcpuNum": 16
   },
   {
    "_defaultOrder": 25,
    "_isFastLaunch": false,
    "category": "Compute optimized",
    "gpuNum": 0,
    "hideHardwareSpecs": false,
    "memoryGiB": 72,
    "name": "ml.c5.9xlarge",
    "vcpuNum": 36
   },
   {
    "_defaultOrder": 26,
    "_isFastLaunch": false,
    "category": "Compute optimized",
    "gpuNum": 0,
    "hideHardwareSpecs": false,
    "memoryGiB": 96,
    "name": "ml.c5.12xlarge",
    "vcpuNum": 48
   },
   {
    "_defaultOrder": 27,
    "_isFastLaunch": false,
    "category": "Compute optimized",
    "gpuNum": 0,
    "hideHardwareSpecs": false,
    "memoryGiB": 144,
    "name": "ml.c5.18xlarge",
    "vcpuNum": 72
   },
   {
    "_defaultOrder": 28,
    "_isFastLaunch": false,
    "category": "Compute optimized",
    "gpuNum": 0,
    "hideHardwareSpecs": false,
    "memoryGiB": 192,
    "name": "ml.c5.24xlarge",
    "vcpuNum": 96
   },
   {
    "_defaultOrder": 29,
    "_isFastLaunch": true,
    "category": "Accelerated computing",
    "gpuNum": 1,
    "hideHardwareSpecs": false,
    "memoryGiB": 16,
    "name": "ml.g4dn.xlarge",
    "vcpuNum": 4
   },
   {
    "_defaultOrder": 30,
    "_isFastLaunch": false,
    "category": "Accelerated computing",
    "gpuNum": 1,
    "hideHardwareSpecs": false,
    "memoryGiB": 32,
    "name": "ml.g4dn.2xlarge",
    "vcpuNum": 8
   },
   {
    "_defaultOrder": 31,
    "_isFastLaunch": false,
    "category": "Accelerated computing",
    "gpuNum": 1,
    "hideHardwareSpecs": false,
    "memoryGiB": 64,
    "name": "ml.g4dn.4xlarge",
    "vcpuNum": 16
   },
   {
    "_defaultOrder": 32,
    "_isFastLaunch": false,
    "category": "Accelerated computing",
    "gpuNum": 1,
    "hideHardwareSpecs": false,
    "memoryGiB": 128,
    "name": "ml.g4dn.8xlarge",
    "vcpuNum": 32
   },
   {
    "_defaultOrder": 33,
    "_isFastLaunch": false,
    "category": "Accelerated computing",
    "gpuNum": 4,
    "hideHardwareSpecs": false,
    "memoryGiB": 192,
    "name": "ml.g4dn.12xlarge",
    "vcpuNum": 48
   },
   {
    "_defaultOrder": 34,
    "_isFastLaunch": false,
    "category": "Accelerated computing",
    "gpuNum": 1,
    "hideHardwareSpecs": false,
    "memoryGiB": 256,
    "name": "ml.g4dn.16xlarge",
    "vcpuNum": 64
   },
   {
    "_defaultOrder": 35,
    "_isFastLaunch": false,
    "category": "Accelerated computing",
    "gpuNum": 1,
    "hideHardwareSpecs": false,
    "memoryGiB": 61,
    "name": "ml.p3.2xlarge",
    "vcpuNum": 8
   },
   {
    "_defaultOrder": 36,
    "_isFastLaunch": false,
    "category": "Accelerated computing",
    "gpuNum": 4,
    "hideHardwareSpecs": false,
    "memoryGiB": 244,
    "name": "ml.p3.8xlarge",
    "vcpuNum": 32
   },
   {
    "_defaultOrder": 37,
    "_isFastLaunch": false,
    "category": "Accelerated computing",
    "gpuNum": 8,
    "hideHardwareSpecs": false,
    "memoryGiB": 488,
    "name": "ml.p3.16xlarge",
    "vcpuNum": 64
   },
   {
    "_defaultOrder": 38,
    "_isFastLaunch": false,
    "category": "Accelerated computing",
    "gpuNum": 8,
    "hideHardwareSpecs": false,
    "memoryGiB": 768,
    "name": "ml.p3dn.24xlarge",
    "vcpuNum": 96
   },
   {
    "_defaultOrder": 39,
    "_isFastLaunch": false,
    "category": "Memory Optimized",
    "gpuNum": 0,
    "hideHardwareSpecs": false,
    "memoryGiB": 16,
    "name": "ml.r5.large",
    "vcpuNum": 2
   },
   {
    "_defaultOrder": 40,
    "_isFastLaunch": false,
    "category": "Memory Optimized",
    "gpuNum": 0,
    "hideHardwareSpecs": false,
    "memoryGiB": 32,
    "name": "ml.r5.xlarge",
    "vcpuNum": 4
   },
   {
    "_defaultOrder": 41,
    "_isFastLaunch": false,
    "category": "Memory Optimized",
    "gpuNum": 0,
    "hideHardwareSpecs": false,
    "memoryGiB": 64,
    "name": "ml.r5.2xlarge",
    "vcpuNum": 8
   },
   {
    "_defaultOrder": 42,
    "_isFastLaunch": false,
    "category": "Memory Optimized",
    "gpuNum": 0,
    "hideHardwareSpecs": false,
    "memoryGiB": 128,
    "name": "ml.r5.4xlarge",
    "vcpuNum": 16
   },
   {
    "_defaultOrder": 43,
    "_isFastLaunch": false,
    "category": "Memory Optimized",
    "gpuNum": 0,
    "hideHardwareSpecs": false,
    "memoryGiB": 256,
    "name": "ml.r5.8xlarge",
    "vcpuNum": 32
   },
   {
    "_defaultOrder": 44,
    "_isFastLaunch": false,
    "category": "Memory Optimized",
    "gpuNum": 0,
    "hideHardwareSpecs": false,
    "memoryGiB": 384,
    "name": "ml.r5.12xlarge",
    "vcpuNum": 48
   },
   {
    "_defaultOrder": 45,
    "_isFastLaunch": false,
    "category": "Memory Optimized",
    "gpuNum": 0,
    "hideHardwareSpecs": false,
    "memoryGiB": 512,
    "name": "ml.r5.16xlarge",
    "vcpuNum": 64
   },
   {
    "_defaultOrder": 46,
    "_isFastLaunch": false,
    "category": "Memory Optimized",
    "gpuNum": 0,
    "hideHardwareSpecs": false,
    "memoryGiB": 768,
    "name": "ml.r5.24xlarge",
    "vcpuNum": 96
   },
   {
    "_defaultOrder": 47,
    "_isFastLaunch": false,
    "category": "Accelerated computing",
    "gpuNum": 1,
    "hideHardwareSpecs": false,
    "memoryGiB": 16,
    "name": "ml.g5.xlarge",
    "vcpuNum": 4
   },
   {
    "_defaultOrder": 48,
    "_isFastLaunch": false,
    "category": "Accelerated computing",
    "gpuNum": 1,
    "hideHardwareSpecs": false,
    "memoryGiB": 32,
    "name": "ml.g5.2xlarge",
    "vcpuNum": 8
   },
   {
    "_defaultOrder": 49,
    "_isFastLaunch": false,
    "category": "Accelerated computing",
    "gpuNum": 1,
    "hideHardwareSpecs": false,
    "memoryGiB": 64,
    "name": "ml.g5.4xlarge",
    "vcpuNum": 16
   },
   {
    "_defaultOrder": 50,
    "_isFastLaunch": false,
    "category": "Accelerated computing",
    "gpuNum": 1,
    "hideHardwareSpecs": false,
    "memoryGiB": 128,
    "name": "ml.g5.8xlarge",
    "vcpuNum": 32
   },
   {
    "_defaultOrder": 51,
    "_isFastLaunch": false,
    "category": "Accelerated computing",
    "gpuNum": 1,
    "hideHardwareSpecs": false,
    "memoryGiB": 256,
    "name": "ml.g5.16xlarge",
    "vcpuNum": 64
   },
   {
    "_defaultOrder": 52,
    "_isFastLaunch": false,
    "category": "Accelerated computing",
    "gpuNum": 4,
    "hideHardwareSpecs": false,
    "memoryGiB": 192,
    "name": "ml.g5.12xlarge",
    "vcpuNum": 48
   },
   {
    "_defaultOrder": 53,
    "_isFastLaunch": false,
    "category": "Accelerated computing",
    "gpuNum": 4,
    "hideHardwareSpecs": false,
    "memoryGiB": 384,
    "name": "ml.g5.24xlarge",
    "vcpuNum": 96
   },
   {
    "_defaultOrder": 54,
    "_isFastLaunch": false,
    "category": "Accelerated computing",
    "gpuNum": 8,
    "hideHardwareSpecs": false,
    "memoryGiB": 768,
    "name": "ml.g5.48xlarge",
    "vcpuNum": 192
   },
   {
    "_defaultOrder": 55,
    "_isFastLaunch": false,
    "category": "Accelerated computing",
    "gpuNum": 8,
    "hideHardwareSpecs": false,
    "memoryGiB": 1152,
    "name": "ml.p4d.24xlarge",
    "vcpuNum": 96
   },
   {
    "_defaultOrder": 56,
    "_isFastLaunch": false,
    "category": "Accelerated computing",
    "gpuNum": 8,
    "hideHardwareSpecs": false,
    "memoryGiB": 1152,
    "name": "ml.p4de.24xlarge",
    "vcpuNum": 96
   },
   {
    "_defaultOrder": 57,
    "_isFastLaunch": false,
    "category": "Accelerated computing",
    "gpuNum": 0,
    "hideHardwareSpecs": false,
    "memoryGiB": 32,
    "name": "ml.trn1.2xlarge",
    "vcpuNum": 8
   },
   {
    "_defaultOrder": 58,
    "_isFastLaunch": false,
    "category": "Accelerated computing",
    "gpuNum": 0,
    "hideHardwareSpecs": false,
    "memoryGiB": 512,
    "name": "ml.trn1.32xlarge",
    "vcpuNum": 128
   },
   {
    "_defaultOrder": 59,
    "_isFastLaunch": false,
    "category": "Accelerated computing",
    "gpuNum": 0,
    "hideHardwareSpecs": false,
    "memoryGiB": 512,
    "name": "ml.trn1n.32xlarge",
    "vcpuNum": 128
   }
  ],
  "instance_type": "ml.t3.medium",
  "kernelspec": {
   "display_name": "Python 3 (ipykernel)",
   "language": "python",
   "name": "python3"
  },
  "language_info": {
   "codemirror_mode": {
    "name": "ipython",
    "version": 3
   },
   "file_extension": ".py",
   "mimetype": "text/x-python",
   "name": "python",
   "nbconvert_exporter": "python",
   "pygments_lexer": "ipython3",
   "version": "3.12.9"
  }
 },
 "nbformat": 4,
 "nbformat_minor": 4
}
