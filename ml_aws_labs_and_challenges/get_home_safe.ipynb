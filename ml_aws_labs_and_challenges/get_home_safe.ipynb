{
 "cells": [
  {
   "cell_type": "markdown",
   "metadata": {},
   "source": [
    "# Get home safe\n",
    "\n",
    "---\n",
    "\n",
    "Your problem is to reach the top of the mountain where you reside. You just realized that your car is under powered to climb. Luckily there's another mountain on the opposite side which can be used to gain momentum, and launch the car to the peak. You will use your Machine Learning approach to solve this problem.\n",
    "\n",
    "**Mountain Car** is a classic control Reinforcement Learning problem that was first introduced by A. Moore in 1991 [1].\n",
    "\n",
    "You will use AI Gym’s MountainCarContinuous-v0 variant to validate your theory.\n",
    "\n",
    "**Details**\n",
    "\n",
    "* **State:** Car’s horizontal position and velocity (can be negative).\n",
    "* **Action:** Magnitude of push (if negative push to left, if positive push to right).\n",
    "* **Reward:** +100 for reaching top of the right hand side mountain, minus the squared sum of actions from start to end.\n",
    "\n",
    "<img src=\"./successful_policy.gif\">\n",
    "\n",
    "[1] A. Moore, Efficient Memory-Based Learning for Robot Control, PhD thesis, University of Cambridge, November 1990.\n",
    "\n",
    "\n",
    "*This notebook is tested using ml.t3.medium notebook instance.*\n",
    "\n",
    "*To keep things simple, the amount of time in each episode from Open AI Gym’s default of 200 environment steps is extended to 10,000 steps.*\n",
    "\n",
    "*This notebook is based on the sample notebook available in https://github.com/aws/amazon-sagemaker-examples/*"
   ]
  },
  {
   "cell_type": "markdown",
   "metadata": {},
   "source": [
    "## Task 1: Pre-requisites "
   ]
  },
  {
   "cell_type": "markdown",
   "metadata": {},
   "source": [
    "### Step 1: Imports\n",
    "\n",
    "To get started, import the Python libraries you need, set up the environment with a few prerequisites for permissions and configurations.\n",
    "\n",
    "#### Code Cell 1"
   ]
  },
  {
   "cell_type": "code",
   "execution_count": 1,
   "metadata": {
    "execution": {
     "iopub.execute_input": "2025-06-14T14:17:10.806616Z",
     "iopub.status.busy": "2025-06-14T14:17:10.806226Z",
     "iopub.status.idle": "2025-06-14T14:17:13.390465Z",
     "shell.execute_reply": "2025-06-14T14:17:13.389628Z",
     "shell.execute_reply.started": "2025-06-14T14:17:10.806586Z"
    },
    "scrolled": true
   },
   "outputs": [
    {
     "name": "stdout",
     "output_type": "stream",
     "text": [
      "sagemaker.config INFO - Not applying SDK defaults from location: /etc/xdg/sagemaker/config.yaml\n",
      "sagemaker.config INFO - Not applying SDK defaults from location: /home/sagemaker-user/.config/sagemaker/config.yaml\n"
     ]
    }
   ],
   "source": [
    "import sagemaker\n",
    "import boto3\n",
    "import sys\n",
    "import os\n",
    "import glob\n",
    "import re\n",
    "import subprocess\n",
    "import numpy as np\n",
    "from IPython.display import HTML\n",
    "import time\n",
    "from time import gmtime, strftime\n",
    "\n",
    "sys.path.append(\"common\")\n",
    "from misc import get_execution_role, wait_for_s3_object\n",
    "from sagemaker.rl import RLEstimator, RLToolkit, RLFramework"
   ]
  },
  {
   "cell_type": "markdown",
   "metadata": {},
   "source": [
    "### Step 2: Set up the S3 bucket and define the variables"
   ]
  },
  {
   "cell_type": "markdown",
   "metadata": {},
   "source": [
    "Set up the linkage and authentication to the S3 bucket that you want to use for checkpoint and the metadata. \n",
    "\n",
    "#### Code Cell 2"
   ]
  },
  {
   "cell_type": "code",
   "execution_count": 2,
   "metadata": {
    "execution": {
     "iopub.execute_input": "2025-06-14T14:19:52.394723Z",
     "iopub.status.busy": "2025-06-14T14:19:52.393997Z",
     "iopub.status.idle": "2025-06-14T14:19:52.598768Z",
     "shell.execute_reply": "2025-06-14T14:19:52.597645Z",
     "shell.execute_reply.started": "2025-06-14T14:19:52.394690Z"
    }
   },
   "outputs": [
    {
     "name": "stdout",
     "output_type": "stream",
     "text": [
      "S3 bucket path: s3://get-home-safe-216537167580-50a65120/\n"
     ]
    }
   ],
   "source": [
    "# Get your bucket name with prifix 'get-home-safe-'\n",
    "client = boto3.client('s3')\n",
    "response = client.list_buckets()\n",
    "\n",
    "for item in response.get('Buckets'):\n",
    "    if re.search('get-home-safe-', item.get('Name')):\n",
    "        s3_bucket = item.get('Name')\n",
    "\n",
    "s3_output_path = \"s3://{}/\".format(s3_bucket)\n",
    "print(\"S3 bucket path: {}\".format(s3_output_path))"
   ]
  },
  {
   "cell_type": "markdown",
   "metadata": {},
   "source": [
    "Define variables for the job prefix for the training jobs.\n",
    "\n",
    "#### Code Cell 3"
   ]
  },
  {
   "cell_type": "code",
   "execution_count": 3,
   "metadata": {
    "execution": {
     "iopub.execute_input": "2025-06-14T14:20:05.783084Z",
     "iopub.status.busy": "2025-06-14T14:20:05.782704Z",
     "iopub.status.idle": "2025-06-14T14:20:05.786802Z",
     "shell.execute_reply": "2025-06-14T14:20:05.785905Z",
     "shell.execute_reply.started": "2025-06-14T14:20:05.783061Z"
    }
   },
   "outputs": [],
   "source": [
    "job_name_prefix = \"get-home-safe\""
   ]
  },
  {
   "cell_type": "markdown",
   "metadata": {},
   "source": [
    "### Step 3: Create an IAM role\n",
    "\n",
    "Get the IAM role using `role = sagemaker.get_execution_role()`. \n",
    "\n",
    "`get_execution_role()` retrieves the IAM role from the notebook instance. You can then pass the role to run different tasks.\n",
    "\n",
    "#### Code Cell 4"
   ]
  },
  {
   "cell_type": "code",
   "execution_count": 4,
   "metadata": {
    "execution": {
     "iopub.execute_input": "2025-06-14T14:20:08.462237Z",
     "iopub.status.busy": "2025-06-14T14:20:08.461925Z",
     "iopub.status.idle": "2025-06-14T14:20:08.556828Z",
     "shell.execute_reply": "2025-06-14T14:20:08.555816Z",
     "shell.execute_reply.started": "2025-06-14T14:20:08.462211Z"
    }
   },
   "outputs": [
    {
     "name": "stdout",
     "output_type": "stream",
     "text": [
      "Using IAM role arn: arn:aws:iam::216537167580:role/sagemaker_studio_role\n"
     ]
    }
   ],
   "source": [
    "role = sagemaker.get_execution_role()\n",
    "print(\"Using IAM role arn: {}\".format(role))"
   ]
  },
  {
   "cell_type": "markdown",
   "metadata": {},
   "source": [
    "## Task 2: Review the relevant functions and wrapper files."
   ]
  },
  {
   "cell_type": "markdown",
   "metadata": {},
   "source": [
    "### Step 1: Review patient_envs.py\n",
    "\n",
    "A `src/patient_envs.py` file is created for the modified environments. Since you are using the Open AI Gym environment and wrappers, you need a function that takes the classic control environments `Continuous_MountainCarEnv` and wraps it with a `TimeLimit` that specifies the `max_episode_steps` to 10,000.\n",
    "\n",
    "#### Code Cell 5"
   ]
  },
  {
   "cell_type": "code",
   "execution_count": 5,
   "metadata": {
    "execution": {
     "iopub.execute_input": "2025-06-14T14:20:12.010523Z",
     "iopub.status.busy": "2025-06-14T14:20:12.009864Z",
     "iopub.status.idle": "2025-06-14T14:20:12.997858Z",
     "shell.execute_reply": "2025-06-14T14:20:12.996770Z",
     "shell.execute_reply.started": "2025-06-14T14:20:12.010491Z"
    }
   },
   "outputs": [
    {
     "name": "stdout",
     "output_type": "stream",
     "text": [
      "\u001b[34mfrom\u001b[39;49;00m\u001b[37m \u001b[39;49;00m\u001b[04m\u001b[36mgym\u001b[39;49;00m\u001b[04m\u001b[36m.\u001b[39;49;00m\u001b[04m\u001b[36menvs\u001b[39;49;00m\u001b[04m\u001b[36m.\u001b[39;49;00m\u001b[04m\u001b[36mclassic_control\u001b[39;49;00m\u001b[04m\u001b[36m.\u001b[39;49;00m\u001b[04m\u001b[36mcontinuous_mountain_car\u001b[39;49;00m\u001b[37m \u001b[39;49;00m\u001b[34mimport\u001b[39;49;00m Continuous_MountainCarEnv\u001b[37m\u001b[39;49;00m\n",
      "\u001b[34mfrom\u001b[39;49;00m\u001b[37m \u001b[39;49;00m\u001b[04m\u001b[36mgym\u001b[39;49;00m\u001b[04m\u001b[36m.\u001b[39;49;00m\u001b[04m\u001b[36mwrappers\u001b[39;49;00m\u001b[04m\u001b[36m.\u001b[39;49;00m\u001b[04m\u001b[36mtime_limit\u001b[39;49;00m\u001b[37m \u001b[39;49;00m\u001b[34mimport\u001b[39;49;00m TimeLimit\u001b[37m\u001b[39;49;00m\n",
      "\u001b[37m\u001b[39;49;00m\n",
      "\u001b[34mdef\u001b[39;49;00m\u001b[37m \u001b[39;49;00m\u001b[32mPatientContinuousMountainCar\u001b[39;49;00m():\u001b[37m\u001b[39;49;00m\n",
      "    env = Continuous_MountainCarEnv()\u001b[37m\u001b[39;49;00m\n",
      "    \u001b[34mreturn\u001b[39;49;00m TimeLimit(env, max_episode_steps=\u001b[34m10000\u001b[39;49;00m)\u001b[37m\u001b[39;49;00m\n"
     ]
    }
   ],
   "source": [
    "!pygmentize src/patient_envs.py"
   ]
  },
  {
   "cell_type": "markdown",
   "metadata": {},
   "source": [
    "### Step 2: Review the preset-mountain-car-continuous-clipped-ppo.py file \n",
    "\n",
    "The presets that configure the RL training jobs are defined in the \"preset-mountain-car-continuous-clipped-ppo.py\" file which is also uploaded on the /src directory. Also see \"preset-mountain-car-dqn.py\" for the discrete environment case. Using the preset file, you can define agent parameters to select the specific agent algorithm. You can also set the environment parameters, define the schedule and visualization parameters, and define the graph manager. The schedule presets will define the number of heat up steps, periodic evaluation steps, training steps between evaluations.\n",
    "\n",
    "These can be overridden at runtime by specifying the RLCOACH_PRESET hyperparameter. Additionally, it can be used to define custom hyperparameters.\n",
    "\n",
    "#### Code Cell 6"
   ]
  },
  {
   "cell_type": "code",
   "execution_count": 6,
   "metadata": {
    "execution": {
     "iopub.execute_input": "2025-06-14T14:20:22.599884Z",
     "iopub.status.busy": "2025-06-14T14:20:22.599144Z",
     "iopub.status.idle": "2025-06-14T14:20:23.542513Z",
     "shell.execute_reply": "2025-06-14T14:20:23.541531Z",
     "shell.execute_reply.started": "2025-06-14T14:20:22.599848Z"
    }
   },
   "outputs": [
    {
     "name": "stdout",
     "output_type": "stream",
     "text": [
      "\u001b[34mfrom\u001b[39;49;00m\u001b[37m \u001b[39;49;00m\u001b[04m\u001b[36mrl_coach\u001b[39;49;00m\u001b[04m\u001b[36m.\u001b[39;49;00m\u001b[04m\u001b[36magents\u001b[39;49;00m\u001b[04m\u001b[36m.\u001b[39;49;00m\u001b[04m\u001b[36mclipped_ppo_agent\u001b[39;49;00m\u001b[37m \u001b[39;49;00m\u001b[34mimport\u001b[39;49;00m ClippedPPOAgentParameters\u001b[37m\u001b[39;49;00m\n",
      "\u001b[34mfrom\u001b[39;49;00m\u001b[37m \u001b[39;49;00m\u001b[04m\u001b[36mrl_coach\u001b[39;49;00m\u001b[04m\u001b[36m.\u001b[39;49;00m\u001b[04m\u001b[36marchitectures\u001b[39;49;00m\u001b[04m\u001b[36m.\u001b[39;49;00m\u001b[04m\u001b[36mlayers\u001b[39;49;00m\u001b[37m \u001b[39;49;00m\u001b[34mimport\u001b[39;49;00m Dense\u001b[37m\u001b[39;49;00m\n",
      "\u001b[34mfrom\u001b[39;49;00m\u001b[37m \u001b[39;49;00m\u001b[04m\u001b[36mrl_coach\u001b[39;49;00m\u001b[04m\u001b[36m.\u001b[39;49;00m\u001b[04m\u001b[36mbase_parameters\u001b[39;49;00m\u001b[37m \u001b[39;49;00m\u001b[34mimport\u001b[39;49;00m PresetValidationParameters, VisualizationParameters\u001b[37m\u001b[39;49;00m\n",
      "\u001b[34mfrom\u001b[39;49;00m\u001b[37m \u001b[39;49;00m\u001b[04m\u001b[36mrl_coach\u001b[39;49;00m\u001b[04m\u001b[36m.\u001b[39;49;00m\u001b[04m\u001b[36mcore_types\u001b[39;49;00m\u001b[37m \u001b[39;49;00m\u001b[34mimport\u001b[39;49;00m (\u001b[37m\u001b[39;49;00m\n",
      "    EnvironmentEpisodes,\u001b[37m\u001b[39;49;00m\n",
      "    EnvironmentSteps,\u001b[37m\u001b[39;49;00m\n",
      "    MaxDumpFilter,\u001b[37m\u001b[39;49;00m\n",
      "    RunPhase,\u001b[37m\u001b[39;49;00m\n",
      "    SelectedPhaseOnlyDumpFilter,\u001b[37m\u001b[39;49;00m\n",
      "    TrainingSteps,\u001b[37m\u001b[39;49;00m\n",
      ")\u001b[37m\u001b[39;49;00m\n",
      "\u001b[34mfrom\u001b[39;49;00m\u001b[37m \u001b[39;49;00m\u001b[04m\u001b[36mrl_coach\u001b[39;49;00m\u001b[04m\u001b[36m.\u001b[39;49;00m\u001b[04m\u001b[36menvironments\u001b[39;49;00m\u001b[04m\u001b[36m.\u001b[39;49;00m\u001b[04m\u001b[36mgym_environment\u001b[39;49;00m\u001b[37m \u001b[39;49;00m\u001b[34mimport\u001b[39;49;00m GymVectorEnvironment\u001b[37m\u001b[39;49;00m\n",
      "\u001b[34mfrom\u001b[39;49;00m\u001b[37m \u001b[39;49;00m\u001b[04m\u001b[36mrl_coach\u001b[39;49;00m\u001b[04m\u001b[36m.\u001b[39;49;00m\u001b[04m\u001b[36mexploration_policies\u001b[39;49;00m\u001b[04m\u001b[36m.\u001b[39;49;00m\u001b[04m\u001b[36me_greedy\u001b[39;49;00m\u001b[37m \u001b[39;49;00m\u001b[34mimport\u001b[39;49;00m EGreedyParameters\u001b[37m\u001b[39;49;00m\n",
      "\u001b[34mfrom\u001b[39;49;00m\u001b[37m \u001b[39;49;00m\u001b[04m\u001b[36mrl_coach\u001b[39;49;00m\u001b[04m\u001b[36m.\u001b[39;49;00m\u001b[04m\u001b[36mfilters\u001b[39;49;00m\u001b[04m\u001b[36m.\u001b[39;49;00m\u001b[04m\u001b[36mobservation\u001b[39;49;00m\u001b[04m\u001b[36m.\u001b[39;49;00m\u001b[04m\u001b[36mobservation_normalization_filter\u001b[39;49;00m\u001b[37m \u001b[39;49;00m\u001b[34mimport\u001b[39;49;00m (\u001b[37m\u001b[39;49;00m\n",
      "    ObservationNormalizationFilter,\u001b[37m\u001b[39;49;00m\n",
      ")\u001b[37m\u001b[39;49;00m\n",
      "\u001b[34mfrom\u001b[39;49;00m\u001b[37m \u001b[39;49;00m\u001b[04m\u001b[36mrl_coach\u001b[39;49;00m\u001b[04m\u001b[36m.\u001b[39;49;00m\u001b[04m\u001b[36mgraph_managers\u001b[39;49;00m\u001b[04m\u001b[36m.\u001b[39;49;00m\u001b[04m\u001b[36mbasic_rl_graph_manager\u001b[39;49;00m\u001b[37m \u001b[39;49;00m\u001b[34mimport\u001b[39;49;00m BasicRLGraphManager\u001b[37m\u001b[39;49;00m\n",
      "\u001b[34mfrom\u001b[39;49;00m\u001b[37m \u001b[39;49;00m\u001b[04m\u001b[36mrl_coach\u001b[39;49;00m\u001b[04m\u001b[36m.\u001b[39;49;00m\u001b[04m\u001b[36mgraph_managers\u001b[39;49;00m\u001b[04m\u001b[36m.\u001b[39;49;00m\u001b[04m\u001b[36mgraph_manager\u001b[39;49;00m\u001b[37m \u001b[39;49;00m\u001b[34mimport\u001b[39;49;00m ScheduleParameters\u001b[37m\u001b[39;49;00m\n",
      "\u001b[34mfrom\u001b[39;49;00m\u001b[37m \u001b[39;49;00m\u001b[04m\u001b[36mrl_coach\u001b[39;49;00m\u001b[04m\u001b[36m.\u001b[39;49;00m\u001b[04m\u001b[36mschedules\u001b[39;49;00m\u001b[37m \u001b[39;49;00m\u001b[34mimport\u001b[39;49;00m LinearSchedule\u001b[37m\u001b[39;49;00m\n",
      "\u001b[37m\u001b[39;49;00m\n",
      "\u001b[37m####################\u001b[39;49;00m\u001b[37m\u001b[39;49;00m\n",
      "\u001b[37m# Graph Scheduling #\u001b[39;49;00m\u001b[37m\u001b[39;49;00m\n",
      "\u001b[37m####################\u001b[39;49;00m\u001b[37m\u001b[39;49;00m\n",
      "\u001b[37m\u001b[39;49;00m\n",
      "schedule_params = ScheduleParameters()\u001b[37m\u001b[39;49;00m\n",
      "schedule_params.improve_steps = EnvironmentEpisodes(\u001b[34m100\u001b[39;49;00m)\u001b[37m\u001b[39;49;00m\n",
      "schedule_params.steps_between_evaluation_periods = EnvironmentEpisodes(\u001b[34m10\u001b[39;49;00m)\u001b[37m\u001b[39;49;00m\n",
      "schedule_params.evaluation_steps = EnvironmentEpisodes(\u001b[34m1\u001b[39;49;00m)\u001b[37m\u001b[39;49;00m\n",
      "schedule_params.heatup_steps = EnvironmentEpisodes(\u001b[34m10\u001b[39;49;00m)\u001b[37m\u001b[39;49;00m\n",
      "\u001b[37m\u001b[39;49;00m\n",
      "\u001b[37m#########\u001b[39;49;00m\u001b[37m\u001b[39;49;00m\n",
      "\u001b[37m# Agent #\u001b[39;49;00m\u001b[37m\u001b[39;49;00m\n",
      "\u001b[37m#########\u001b[39;49;00m\u001b[37m\u001b[39;49;00m\n",
      "agent_params = ClippedPPOAgentParameters()\u001b[37m\u001b[39;49;00m\n",
      "\u001b[37m\u001b[39;49;00m\n",
      "agent_params.network_wrappers[\u001b[33m\"\u001b[39;49;00m\u001b[33mmain\u001b[39;49;00m\u001b[33m\"\u001b[39;49;00m].learning_rate = \u001b[34m0.001\u001b[39;49;00m\u001b[37m\u001b[39;49;00m\n",
      "agent_params.network_wrappers[\u001b[33m\"\u001b[39;49;00m\u001b[33mmain\u001b[39;49;00m\u001b[33m\"\u001b[39;49;00m].input_embedders_parameters[\u001b[37m\u001b[39;49;00m\n",
      "    \u001b[33m\"\u001b[39;49;00m\u001b[33mobservation\u001b[39;49;00m\u001b[33m\"\u001b[39;49;00m\u001b[37m\u001b[39;49;00m\n",
      "].activation_function = \u001b[33m\"\u001b[39;49;00m\u001b[33mtanh\u001b[39;49;00m\u001b[33m\"\u001b[39;49;00m\u001b[37m\u001b[39;49;00m\n",
      "agent_params.network_wrappers[\u001b[33m\"\u001b[39;49;00m\u001b[33mmain\u001b[39;49;00m\u001b[33m\"\u001b[39;49;00m].input_embedders_parameters[\u001b[33m\"\u001b[39;49;00m\u001b[33mobservation\u001b[39;49;00m\u001b[33m\"\u001b[39;49;00m].scheme = [Dense(\u001b[34m32\u001b[39;49;00m)]\u001b[37m\u001b[39;49;00m\n",
      "agent_params.network_wrappers[\u001b[33m\"\u001b[39;49;00m\u001b[33mmain\u001b[39;49;00m\u001b[33m\"\u001b[39;49;00m].middleware_parameters.scheme = [Dense(\u001b[34m32\u001b[39;49;00m)]\u001b[37m\u001b[39;49;00m\n",
      "agent_params.network_wrappers[\u001b[33m\"\u001b[39;49;00m\u001b[33mmain\u001b[39;49;00m\u001b[33m\"\u001b[39;49;00m].middleware_parameters.activation_function = \u001b[33m\"\u001b[39;49;00m\u001b[33mtanh\u001b[39;49;00m\u001b[33m\"\u001b[39;49;00m\u001b[37m\u001b[39;49;00m\n",
      "agent_params.network_wrappers[\u001b[33m\"\u001b[39;49;00m\u001b[33mmain\u001b[39;49;00m\u001b[33m\"\u001b[39;49;00m].batch_size = \u001b[34m256\u001b[39;49;00m\u001b[37m\u001b[39;49;00m\n",
      "agent_params.network_wrappers[\u001b[33m\"\u001b[39;49;00m\u001b[33mmain\u001b[39;49;00m\u001b[33m\"\u001b[39;49;00m].optimizer_epsilon = \u001b[34m1e-5\u001b[39;49;00m\u001b[37m\u001b[39;49;00m\n",
      "agent_params.network_wrappers[\u001b[33m\"\u001b[39;49;00m\u001b[33mmain\u001b[39;49;00m\u001b[33m\"\u001b[39;49;00m].adam_optimizer_beta2 = \u001b[34m0.999\u001b[39;49;00m\u001b[37m\u001b[39;49;00m\n",
      "\u001b[37m\u001b[39;49;00m\n",
      "agent_params.algorithm.clip_likelihood_ratio_using_epsilon = \u001b[34m0.3\u001b[39;49;00m\u001b[37m\u001b[39;49;00m\n",
      "agent_params.algorithm.clipping_decay_schedule = LinearSchedule(\u001b[34m0.5\u001b[39;49;00m, \u001b[34m0.1\u001b[39;49;00m, \u001b[34m10000\u001b[39;49;00m * \u001b[34m50\u001b[39;49;00m)\u001b[37m\u001b[39;49;00m\n",
      "agent_params.algorithm.beta_entropy = \u001b[34m0\u001b[39;49;00m\u001b[37m\u001b[39;49;00m\n",
      "agent_params.algorithm.gae_lambda = \u001b[34m0.95\u001b[39;49;00m\u001b[37m\u001b[39;49;00m\n",
      "agent_params.algorithm.discount = \u001b[34m0.999\u001b[39;49;00m\u001b[37m\u001b[39;49;00m\n",
      "agent_params.algorithm.estimate_state_value_using_gae = \u001b[34mTrue\u001b[39;49;00m\u001b[37m\u001b[39;49;00m\n",
      "\u001b[37m\u001b[39;49;00m\n",
      "agent_params.algorithm.num_steps_between_copying_online_weights_to_target = EnvironmentEpisodes(\u001b[34m10\u001b[39;49;00m)\u001b[37m\u001b[39;49;00m\n",
      "agent_params.algorithm.num_episodes_in_experience_replay = \u001b[34m100\u001b[39;49;00m\u001b[37m\u001b[39;49;00m\n",
      "agent_params.algorithm.num_consecutive_playing_steps = EnvironmentEpisodes(\u001b[34m10\u001b[39;49;00m)\u001b[37m\u001b[39;49;00m\n",
      "agent_params.algorithm.optimization_epochs = \u001b[34m10\u001b[39;49;00m\u001b[37m\u001b[39;49;00m\n",
      "\u001b[37m\u001b[39;49;00m\n",
      "agent_params.pre_network_filter.add_observation_filter(\u001b[37m\u001b[39;49;00m\n",
      "    \u001b[33m\"\u001b[39;49;00m\u001b[33mobservation\u001b[39;49;00m\u001b[33m\"\u001b[39;49;00m,\u001b[37m\u001b[39;49;00m\n",
      "    \u001b[33m\"\u001b[39;49;00m\u001b[33mnormalize_observation\u001b[39;49;00m\u001b[33m\"\u001b[39;49;00m,\u001b[37m\u001b[39;49;00m\n",
      "    ObservationNormalizationFilter(name=\u001b[33m\"\u001b[39;49;00m\u001b[33mnormalize_observation\u001b[39;49;00m\u001b[33m\"\u001b[39;49;00m),\u001b[37m\u001b[39;49;00m\n",
      ")\u001b[37m\u001b[39;49;00m\n",
      "\u001b[37m\u001b[39;49;00m\n",
      "\u001b[37m###############\u001b[39;49;00m\u001b[37m\u001b[39;49;00m\n",
      "\u001b[37m# Environment #\u001b[39;49;00m\u001b[37m\u001b[39;49;00m\n",
      "\u001b[37m###############\u001b[39;49;00m\u001b[37m\u001b[39;49;00m\n",
      "env_params = GymVectorEnvironment(level=\u001b[33m\"\u001b[39;49;00m\u001b[33mpatient_envs:PatientContinuousMountainCar\u001b[39;49;00m\u001b[33m\"\u001b[39;49;00m)\u001b[37m\u001b[39;49;00m\n",
      "\u001b[37m\u001b[39;49;00m\n",
      "\u001b[37m#################\u001b[39;49;00m\u001b[37m\u001b[39;49;00m\n",
      "\u001b[37m# Visualization #\u001b[39;49;00m\u001b[37m\u001b[39;49;00m\n",
      "\u001b[37m#################\u001b[39;49;00m\u001b[37m\u001b[39;49;00m\n",
      "vis_params = VisualizationParameters()\u001b[37m\u001b[39;49;00m\n",
      "vis_params.dump_gifs = \u001b[34mTrue\u001b[39;49;00m\u001b[37m\u001b[39;49;00m\n",
      "vis_params.video_dump_filters = [SelectedPhaseOnlyDumpFilter(RunPhase.TEST), MaxDumpFilter()]\u001b[37m\u001b[39;49;00m\n",
      "\u001b[37m\u001b[39;49;00m\n",
      "\u001b[37m########\u001b[39;49;00m\u001b[37m\u001b[39;49;00m\n",
      "\u001b[37m# Test #\u001b[39;49;00m\u001b[37m\u001b[39;49;00m\n",
      "\u001b[37m########\u001b[39;49;00m\u001b[37m\u001b[39;49;00m\n",
      "preset_validation_params = PresetValidationParameters()\u001b[37m\u001b[39;49;00m\n",
      "preset_validation_params.test = \u001b[34mTrue\u001b[39;49;00m\u001b[37m\u001b[39;49;00m\n",
      "preset_validation_params.min_reward_threshold = \u001b[34m150\u001b[39;49;00m\u001b[37m\u001b[39;49;00m\n",
      "preset_validation_params.max_episodes_to_achieve_reward = \u001b[34m250\u001b[39;49;00m\u001b[37m\u001b[39;49;00m\n",
      "\u001b[37m\u001b[39;49;00m\n",
      "graph_manager = BasicRLGraphManager(\u001b[37m\u001b[39;49;00m\n",
      "    agent_params=agent_params,\u001b[37m\u001b[39;49;00m\n",
      "    env_params=env_params,\u001b[37m\u001b[39;49;00m\n",
      "    schedule_params=schedule_params,\u001b[37m\u001b[39;49;00m\n",
      "    vis_params=vis_params,\u001b[37m\u001b[39;49;00m\n",
      "    preset_validation_params=preset_validation_params,\u001b[37m\u001b[39;49;00m\n",
      ")\u001b[37m\u001b[39;49;00m\n"
     ]
    }
   ],
   "source": [
    "!pygmentize src/preset-mountain-car-continuous-clipped-ppo.py"
   ]
  },
  {
   "cell_type": "markdown",
   "metadata": {},
   "source": [
    "### Step 3: Review the train-coach.py file\n",
    "\n",
    "The training code is written in the file “train-coach.py” which is uploaded in the /src directory. \n",
    "We create a custom `SageMakerCoachPresetLauncher` which sets the default preset, maps and ties hyperparameters.\n",
    "\n",
    "#### Code Cell 7"
   ]
  },
  {
   "cell_type": "code",
   "execution_count": 7,
   "metadata": {
    "execution": {
     "iopub.execute_input": "2025-06-14T14:20:27.799354Z",
     "iopub.status.busy": "2025-06-14T14:20:27.798838Z",
     "iopub.status.idle": "2025-06-14T14:20:28.792659Z",
     "shell.execute_reply": "2025-06-14T14:20:28.791364Z",
     "shell.execute_reply.started": "2025-06-14T14:20:27.799320Z"
    }
   },
   "outputs": [
    {
     "name": "stdout",
     "output_type": "stream",
     "text": [
      "\u001b[34mfrom\u001b[39;49;00m\u001b[37m \u001b[39;49;00m\u001b[04m\u001b[36msagemaker_rl\u001b[39;49;00m\u001b[04m\u001b[36m.\u001b[39;49;00m\u001b[04m\u001b[36mcoach_launcher\u001b[39;49;00m\u001b[37m \u001b[39;49;00m\u001b[34mimport\u001b[39;49;00m SageMakerCoachPresetLauncher\u001b[37m\u001b[39;49;00m\n",
      "\u001b[37m\u001b[39;49;00m\n",
      "\u001b[37m\u001b[39;49;00m\n",
      "\u001b[34mclass\u001b[39;49;00m\u001b[37m \u001b[39;49;00m\u001b[04m\u001b[32mMyLauncher\u001b[39;49;00m(SageMakerCoachPresetLauncher):\u001b[37m\u001b[39;49;00m\n",
      "    \u001b[34mdef\u001b[39;49;00m\u001b[37m \u001b[39;49;00m\u001b[32mdefault_preset_name\u001b[39;49;00m(\u001b[36mself\u001b[39;49;00m):\u001b[37m\u001b[39;49;00m\n",
      "\u001b[37m        \u001b[39;49;00m\u001b[33m\"\"\"This points to a .py file that configures everything about the RL job.\u001b[39;49;00m\n",
      "\u001b[33m        It can be overridden at runtime by specifying the RLCOACH_PRESET hyperparameter.\u001b[39;49;00m\n",
      "\u001b[33m        \"\"\"\u001b[39;49;00m\u001b[37m\u001b[39;49;00m\n",
      "        \u001b[34mreturn\u001b[39;49;00m \u001b[33m\"\u001b[39;49;00m\u001b[33mpreset-mountaincarcontinuous-clippedppo.py\u001b[39;49;00m\u001b[33m\"\u001b[39;49;00m\u001b[37m\u001b[39;49;00m\n",
      "\u001b[37m\u001b[39;49;00m\n",
      "    \u001b[34mdef\u001b[39;49;00m\u001b[37m \u001b[39;49;00m\u001b[32mmap_hyperparameter\u001b[39;49;00m(\u001b[36mself\u001b[39;49;00m, name, value):\u001b[37m\u001b[39;49;00m\n",
      "\u001b[37m        \u001b[39;49;00m\u001b[33m\"\"\"Here we configure some shortcut names for hyperparameters that we expect to use frequently.\u001b[39;49;00m\n",
      "\u001b[33m        Essentially anything in the preset file can be overridden through a hyperparameter with a name\u001b[39;49;00m\n",
      "\u001b[33m        like \"rl.agent_params.algorithm.etc\".\u001b[39;49;00m\n",
      "\u001b[33m        \"\"\"\u001b[39;49;00m\u001b[37m\u001b[39;49;00m\n",
      "        \u001b[37m# maps from alias (key) to fully qualified coach parameter (value)\u001b[39;49;00m\u001b[37m\u001b[39;49;00m\n",
      "        mapping = {\u001b[37m\u001b[39;49;00m\n",
      "            \u001b[33m\"\u001b[39;49;00m\u001b[33mevaluation_freq_env_steps\u001b[39;49;00m\u001b[33m\"\u001b[39;49;00m: \u001b[33m\"\u001b[39;49;00m\u001b[33mrl.steps_between_evaluation_periods:EnvironmentSteps\u001b[39;49;00m\u001b[33m\"\u001b[39;49;00m,\u001b[37m\u001b[39;49;00m\n",
      "            \u001b[33m\"\u001b[39;49;00m\u001b[33mevaluation_episodes\u001b[39;49;00m\u001b[33m\"\u001b[39;49;00m: \u001b[33m\"\u001b[39;49;00m\u001b[33mrl.evaluation_steps:EnvironmentEpisodes\u001b[39;49;00m\u001b[33m\"\u001b[39;49;00m,\u001b[37m\u001b[39;49;00m\n",
      "            \u001b[33m\"\u001b[39;49;00m\u001b[33mimprove_steps\u001b[39;49;00m\u001b[33m\"\u001b[39;49;00m: \u001b[33m\"\u001b[39;49;00m\u001b[33mrl.improve_steps:EnvironmentSteps\u001b[39;49;00m\u001b[33m\"\u001b[39;49;00m,\u001b[37m\u001b[39;49;00m\n",
      "            \u001b[33m\"\u001b[39;49;00m\u001b[33mdiscount\u001b[39;49;00m\u001b[33m\"\u001b[39;49;00m: \u001b[33m\"\u001b[39;49;00m\u001b[33mrl.agent_params.algorithm.discount\u001b[39;49;00m\u001b[33m\"\u001b[39;49;00m,\u001b[37m\u001b[39;49;00m\n",
      "            \u001b[33m\"\u001b[39;49;00m\u001b[33mgae_lambda\u001b[39;49;00m\u001b[33m\"\u001b[39;49;00m: \u001b[33m\"\u001b[39;49;00m\u001b[33mrl.agent_params.algorithm.gae_lambda\u001b[39;49;00m\u001b[33m\"\u001b[39;49;00m,\u001b[37m\u001b[39;49;00m\n",
      "            \u001b[33m\"\u001b[39;49;00m\u001b[33mtraining_freq_env_steps\u001b[39;49;00m\u001b[33m\"\u001b[39;49;00m: \u001b[33m\"\u001b[39;49;00m\u001b[33mrl.agent_params.algorithm.num_consecutive_playing_steps:EnvironmentSteps\u001b[39;49;00m\u001b[33m\"\u001b[39;49;00m,\u001b[37m\u001b[39;49;00m\n",
      "            \u001b[33m\"\u001b[39;49;00m\u001b[33mtraining_learning_rate\u001b[39;49;00m\u001b[33m\"\u001b[39;49;00m: \u001b[33m\"\u001b[39;49;00m\u001b[33mrl.agent_params.network_wrappers.main.learning_rate\u001b[39;49;00m\u001b[33m\"\u001b[39;49;00m,\u001b[37m\u001b[39;49;00m\n",
      "            \u001b[33m\"\u001b[39;49;00m\u001b[33mtraining_batch_size\u001b[39;49;00m\u001b[33m\"\u001b[39;49;00m: \u001b[33m\"\u001b[39;49;00m\u001b[33mrl.agent_params.network_wrappers.main.batch_size\u001b[39;49;00m\u001b[33m\"\u001b[39;49;00m,\u001b[37m\u001b[39;49;00m\n",
      "            \u001b[33m\"\u001b[39;49;00m\u001b[33mtraining_epochs\u001b[39;49;00m\u001b[33m\"\u001b[39;49;00m: \u001b[33m\"\u001b[39;49;00m\u001b[33mrl.agent_params.algorithm.optimization_epochs\u001b[39;49;00m\u001b[33m\"\u001b[39;49;00m,\u001b[37m\u001b[39;49;00m\n",
      "        }\u001b[37m\u001b[39;49;00m\n",
      "        \u001b[34mif\u001b[39;49;00m name \u001b[35min\u001b[39;49;00m mapping:\u001b[37m\u001b[39;49;00m\n",
      "            \u001b[36mself\u001b[39;49;00m.apply_hyperparameter(mapping[name], value)\u001b[37m\u001b[39;49;00m\n",
      "        \u001b[34melse\u001b[39;49;00m:\u001b[37m\u001b[39;49;00m\n",
      "            \u001b[36msuper\u001b[39;49;00m().map_hyperparameter(name, value)\u001b[37m\u001b[39;49;00m\n",
      "\u001b[37m\u001b[39;49;00m\n",
      "    \u001b[34mdef\u001b[39;49;00m\u001b[37m \u001b[39;49;00m\u001b[32mget_config_args\u001b[39;49;00m(\u001b[36mself\u001b[39;49;00m, parser):\u001b[37m\u001b[39;49;00m\n",
      "        args = \u001b[36msuper\u001b[39;49;00m().get_config_args(parser)\u001b[37m\u001b[39;49;00m\n",
      "\u001b[37m\u001b[39;49;00m\n",
      "        \u001b[37m# Above line creates `self.hyperparameters` which is a collection of hyperparameters\u001b[39;49;00m\u001b[37m\u001b[39;49;00m\n",
      "        \u001b[37m# that are to be added to graph manager when it's created. At this stage they are\u001b[39;49;00m\u001b[37m\u001b[39;49;00m\n",
      "        \u001b[37m# fully qualified names since already passed through `map_hyperparameter`.\u001b[39;49;00m\u001b[37m\u001b[39;49;00m\n",
      "\u001b[37m\u001b[39;49;00m\n",
      "        \u001b[37m# Keeps target network the same for all epochs of a single 'policy training' stage.\u001b[39;49;00m\u001b[37m\u001b[39;49;00m\n",
      "        src_hp = \u001b[33m\"\u001b[39;49;00m\u001b[33mrl.agent_params.algorithm.num_consecutive_playing_steps:EnvironmentSteps\u001b[39;49;00m\u001b[33m\"\u001b[39;49;00m\u001b[37m\u001b[39;49;00m\n",
      "        target_hp = \u001b[33m\"\u001b[39;49;00m\u001b[33mrl.agent_params.algorithm.num_steps_between_copying_online_weights_to_target:EnvironmentSteps\u001b[39;49;00m\u001b[33m\"\u001b[39;49;00m\u001b[37m\u001b[39;49;00m\n",
      "        \u001b[34mif\u001b[39;49;00m \u001b[36mself\u001b[39;49;00m.hyperparameters.hp_dict.get(src_hp, \u001b[34mFalse\u001b[39;49;00m):\u001b[37m\u001b[39;49;00m\n",
      "            src_val = \u001b[36mint\u001b[39;49;00m(\u001b[36mself\u001b[39;49;00m.hyperparameters.hp_dict[src_hp])\u001b[37m\u001b[39;49;00m\n",
      "            \u001b[36mself\u001b[39;49;00m.hyperparameters.hp_dict[target_hp] = src_val\u001b[37m\u001b[39;49;00m\n",
      "\u001b[37m\u001b[39;49;00m\n",
      "        \u001b[37m# Evaluate after each 'policy training' stage\u001b[39;49;00m\u001b[37m\u001b[39;49;00m\n",
      "        src_hp = \u001b[33m\"\u001b[39;49;00m\u001b[33mrl.agent_params.algorithm.num_consecutive_playing_steps:EnvironmentSteps\u001b[39;49;00m\u001b[33m\"\u001b[39;49;00m\u001b[37m\u001b[39;49;00m\n",
      "        target_hp = \u001b[33m\"\u001b[39;49;00m\u001b[33mrl.steps_between_evaluation_periods:EnvironmentSteps\u001b[39;49;00m\u001b[33m\"\u001b[39;49;00m\u001b[37m\u001b[39;49;00m\n",
      "        \u001b[34mif\u001b[39;49;00m \u001b[36mself\u001b[39;49;00m.hyperparameters.hp_dict.get(src_hp, \u001b[34mFalse\u001b[39;49;00m):\u001b[37m\u001b[39;49;00m\n",
      "            src_val = \u001b[36mint\u001b[39;49;00m(\u001b[36mself\u001b[39;49;00m.hyperparameters.hp_dict[src_hp])\u001b[37m\u001b[39;49;00m\n",
      "            \u001b[36mself\u001b[39;49;00m.hyperparameters.hp_dict[target_hp] = src_val\u001b[37m\u001b[39;49;00m\n",
      "\u001b[37m\u001b[39;49;00m\n",
      "        \u001b[34mreturn\u001b[39;49;00m args\u001b[37m\u001b[39;49;00m\n",
      "\u001b[37m\u001b[39;49;00m\n",
      "\u001b[37m\u001b[39;49;00m\n",
      "\u001b[34mif\u001b[39;49;00m \u001b[31m__name__\u001b[39;49;00m == \u001b[33m\"\u001b[39;49;00m\u001b[33m__main__\u001b[39;49;00m\u001b[33m\"\u001b[39;49;00m:\u001b[37m\u001b[39;49;00m\n",
      "    MyLauncher.train_main()\u001b[37m\u001b[39;49;00m\n"
     ]
    }
   ],
   "source": [
    "!pygmentize src/train-coach.py"
   ]
  },
  {
   "cell_type": "markdown",
   "metadata": {},
   "source": [
    "## Task 3: Train the RL model using the Python SDK Script mode"
   ]
  },
  {
   "cell_type": "markdown",
   "metadata": {},
   "source": [
    "### Step 1: Create a training job"
   ]
  },
  {
   "cell_type": "markdown",
   "metadata": {},
   "source": [
    "\n",
    "When using SageMaker for training, you can select a GPU or CPU instance. The RLEstimator is used for training RL jobs. \n",
    "\n",
    "1. Specify the source directory where the environment, presets and training code is uploaded.\n",
    "2. Specify the entry point as the training code \n",
    "3. Specify the choice of RL toolkit and framework. This automatically resolves to the ECR path for the RL Container. \n",
    "4. Define the training parameters such as the instance count, job name, S3 path for output and job name. \n",
    "5. Specify the hyperparameters for the RL agent algorithm. The RLCOACH_PRESET can be used to specify the RL agent algorithm you want to use. \n",
    "6. Define the metrics definitions that you are interested in capturing in your logs. These can also be visualized in CloudWatch and SageMaker Notebooks. \n",
    "\n",
    "You are using variant of Proximal Policy Optimization (PPO) called Clipped PPO, which removes the need for complex KL divergence calculations.\n",
    "\n",
    "#### Code Cell 8"
   ]
  },
  {
   "cell_type": "code",
   "execution_count": 8,
   "metadata": {
    "execution": {
     "iopub.execute_input": "2025-06-14T14:20:32.700598Z",
     "iopub.status.busy": "2025-06-14T14:20:32.700091Z",
     "iopub.status.idle": "2025-06-14T14:29:27.194790Z",
     "shell.execute_reply": "2025-06-14T14:29:27.193666Z",
     "shell.execute_reply.started": "2025-06-14T14:20:32.700563Z"
    }
   },
   "outputs": [
    {
     "name": "stderr",
     "output_type": "stream",
     "text": [
      "INFO:sagemaker:image_uri is not presented, retrieving image_uri based on instance_type, framework etc.\n",
      "INFO:sagemaker.image_uris:Defaulting to only available Python version: py3\n",
      "INFO:sagemaker:Creating training-job with name: get-home-safe-2025-06-14-14-20-32-741\n"
     ]
    },
    {
     "name": "stdout",
     "output_type": "stream",
     "text": [
      "2025-06-14 14:20:37 Starting - Starting the training job...\n",
      "2025-06-14 14:20:50 Starting - Preparing the instances for training...\n",
      "2025-06-14 14:21:32 Downloading - Downloading the training image...\n",
      "2025-06-14 14:21:47 Training - Training image download completed. Training in progress.\u001b[34mbash: cannot set terminal process group (-1): Inappropriate ioctl for device\u001b[0m\n",
      "\u001b[34mbash: no job control in this shell\u001b[0m\n",
      "\u001b[34m2025-06-14 14:21:56,728 sagemaker-containers INFO     Imported framework sagemaker_mxnet_container.training\u001b[0m\n",
      "\u001b[34m2025-06-14 14:21:56,732 sagemaker-containers INFO     No GPUs detected (normal if no gpus installed)\u001b[0m\n",
      "\u001b[34m2025-06-14 14:21:56,747 sagemaker_mxnet_container.training INFO     MXNet training environment: {'SM_MODULE_DIR': 's3://get-home-safe-216537167580-50a65120/get-home-safe-2025-06-14-14-20-32-741/source/sourcedir.tar.gz', 'SM_RESOURCE_CONFIG': '{\"current_group_name\":\"homogeneousCluster\",\"current_host\":\"algo-1\",\"current_instance_type\":\"ml.m5.xlarge\",\"hosts\":[\"algo-1\"],\"instance_groups\":[{\"hosts\":[\"algo-1\"],\"instance_group_name\":\"homogeneousCluster\",\"instance_type\":\"ml.m5.xlarge\"}],\"network_interface_name\":\"eth0\",\"topology\":null}', 'SM_CURRENT_HOST': 'algo-1', 'SM_OUTPUT_DATA_DIR': '/opt/ml/output/data', 'SM_HP_SAVE_MODEL': '1', 'SM_OUTPUT_DIR': '/opt/ml/output', 'SM_HP_EVALUATION_EPISODES': '3', 'SM_NETWORK_INTERFACE_NAME': 'eth0', 'SM_HP_IMPROVE_STEPS': '100000', 'SM_TRAINING_ENV': '{\"additional_framework_parameters\":{\"sagemaker_estimator\":\"RLEstimator\"},\"channel_input_dirs\":{},\"current_host\":\"algo-1\",\"framework_module\":\"sagemaker_mxnet_container.training:main\",\"hosts\":[\"algo-1\"],\"hyperparameters\":{\"RLCOACH_PRESET\":\"preset-mountain-car-continuous-clipped-ppo\",\"discount\":0.995,\"evaluation_episodes\":3,\"gae_lambda\":0.997,\"improve_steps\":100000,\"save_model\":1,\"training_batch_size\":256,\"training_epochs\":10,\"training_freq_env_steps\":75000,\"training_learning_rate\":0.005},\"input_config_dir\":\"/opt/ml/input/config\",\"input_data_config\":{},\"input_dir\":\"/opt/ml/input\",\"job_name\":\"get-home-safe-2025-06-14-14-20-32-741\",\"log_level\":20,\"model_dir\":\"/opt/ml/model\",\"module_dir\":\"s3://get-home-safe-216537167580-50a65120/get-home-safe-2025-06-14-14-20-32-741/source/sourcedir.tar.gz\",\"module_name\":\"train-coach\",\"network_interface_name\":\"eth0\",\"num_cpus\":4,\"num_gpus\":0,\"output_data_dir\":\"/opt/ml/output/data\",\"output_dir\":\"/opt/ml/output\",\"output_intermediate_dir\":\"/opt/ml/output/intermediate\",\"resource_config\":{\"current_group_name\":\"homogeneousCluster\",\"current_host\":\"algo-1\",\"current_instance_type\":\"ml.m5.xlarge\",\"hosts\":[\"algo-1\"],\"instance_groups\":[{\"hosts\":[\"algo-1\"],\"instance_group_name\":\"homogeneousCluster\",\"instance_type\":\"ml.m5.xlarge\"}],\"network_interface_name\":\"eth0\",\"topology\":null},\"user_entry_point\":\"train-coach.py\"}', 'SM_NUM_GPUS': '0', 'SM_INPUT_CONFIG_DIR': '/opt/ml/input/config', 'SM_HP_GAE_LAMBDA': '0.997', 'SM_HP_TRAINING_FREQ_ENV_STEPS': '75000', 'SM_HP_DISCOUNT': '0.995', 'SM_MODULE_NAME': 'train-coach', 'SM_INPUT_DATA_CONFIG': '{}', 'SM_HP_RLCOACH_PRESET': 'preset-mountain-car-continuous-clipped-ppo', 'SM_HP_TRAINING_LEARNING_RATE': '0.005', 'SM_USER_ENTRY_POINT': 'train-coach.py', 'SM_MODEL_DIR': '/opt/ml/model', 'SM_INPUT_DIR': '/opt/ml/input', 'SM_FRAMEWORK_PARAMS': '{\"sagemaker_estimator\":\"RLEstimator\"}', 'SM_LOG_LEVEL': '20', 'SM_HOSTS': '[\"algo-1\"]', 'SM_NUM_CPUS': '4', 'SM_HP_TRAINING_EPOCHS': '10', 'SM_HP_TRAINING_BATCH_SIZE': '256', 'SM_OUTPUT_INTERMEDIATE_DIR': '/opt/ml/output/intermediate', 'SM_HPS': '{\"RLCOACH_PRESET\":\"preset-mountain-car-continuous-clipped-ppo\",\"discount\":0.995,\"evaluation_episodes\":3,\"gae_lambda\":0.997,\"improve_steps\":100000,\"save_model\":1,\"training_batch_size\":256,\"training_epochs\":10,\"training_freq_env_steps\":75000,\"training_learning_rate\":0.005}', 'SM_USER_ARGS': '[\"--RLCOACH_PRESET\",\"preset-mountain-car-continuous-clipped-ppo\",\"--discount\",\"0.995\",\"--evaluation_episodes\",\"3\",\"--gae_lambda\",\"0.997\",\"--improve_steps\",\"100000\",\"--save_model\",\"1\",\"--training_batch_size\",\"256\",\"--training_epochs\",\"10\",\"--training_freq_env_steps\",\"75000\",\"--training_learning_rate\",\"0.005\"]', 'SM_CHANNELS': '[]', 'SM_FRAMEWORK_MODULE': 'sagemaker_mxnet_container.training:main'}\u001b[0m\n",
      "\u001b[34m2025-06-14 14:21:56,966 sagemaker-containers INFO     Module train-coach does not provide a setup.py. \u001b[0m\n",
      "\u001b[34mGenerating setup.py\u001b[0m\n",
      "\u001b[34m2025-06-14 14:21:56,967 sagemaker-containers INFO     Generating setup.cfg\u001b[0m\n",
      "\u001b[34m2025-06-14 14:21:56,967 sagemaker-containers INFO     Generating MANIFEST.in\u001b[0m\n",
      "\u001b[34m2025-06-14 14:21:56,967 sagemaker-containers INFO     Installing module with the following command:\u001b[0m\n",
      "\u001b[34m/usr/bin/python -m pip install -U . \u001b[0m\n",
      "\u001b[34mProcessing /opt/ml/code\u001b[0m\n",
      "\u001b[34mBuilding wheels for collected packages: train-coach\n",
      "  Running setup.py bdist_wheel for train-coach: started\u001b[0m\n",
      "\u001b[34m  Running setup.py bdist_wheel for train-coach: finished with status 'done'\n",
      "  Stored in directory: /tmp/pip-ephem-wheel-cache-nmqx0980/wheels/35/24/16/37574d11bf9bde50616c67372a334f94fa8356bc7164af8ca3\u001b[0m\n",
      "\u001b[34mSuccessfully built train-coach\u001b[0m\n",
      "\u001b[34mInstalling collected packages: train-coach\u001b[0m\n",
      "\u001b[34mSuccessfully installed train-coach-1.0.0\u001b[0m\n",
      "\u001b[34mYou are using pip version 18.1, however version 20.3.4 is available.\u001b[0m\n",
      "\u001b[34mYou should consider upgrading via the 'pip install --upgrade pip' command.\u001b[0m\n",
      "\u001b[34m2025-06-14 14:21:58,467 sagemaker-containers INFO     No GPUs detected (normal if no gpus installed)\u001b[0m\n",
      "\u001b[34m2025-06-14 14:21:58,485 sagemaker-containers INFO     Invoking user script\u001b[0m\n",
      "\u001b[34mTraining Env:\u001b[0m\n",
      "\u001b[34m{\n",
      "    \"resource_config\": {\n",
      "        \"current_instance_type\": \"ml.m5.xlarge\",\n",
      "        \"network_interface_name\": \"eth0\",\n",
      "        \"topology\": null,\n",
      "        \"instance_groups\": [\n",
      "            {\n",
      "                \"instance_type\": \"ml.m5.xlarge\",\n",
      "                \"hosts\": [\n",
      "                    \"algo-1\"\n",
      "                ],\n",
      "                \"instance_group_name\": \"homogeneousCluster\"\n",
      "            }\n",
      "        ],\n",
      "        \"current_host\": \"algo-1\",\n",
      "        \"current_group_name\": \"homogeneousCluster\",\n",
      "        \"hosts\": [\n",
      "            \"algo-1\"\n",
      "        ]\n",
      "    },\n",
      "    \"module_name\": \"train-coach\",\n",
      "    \"output_data_dir\": \"/opt/ml/output/data\",\n",
      "    \"input_dir\": \"/opt/ml/input\",\n",
      "    \"hyperparameters\": {\n",
      "        \"training_epochs\": 10,\n",
      "        \"gae_lambda\": 0.997,\n",
      "        \"training_learning_rate\": 0.005,\n",
      "        \"RLCOACH_PRESET\": \"preset-mountain-car-continuous-clipped-ppo\",\n",
      "        \"training_freq_env_steps\": 75000,\n",
      "        \"improve_steps\": 100000,\n",
      "        \"save_model\": 1,\n",
      "        \"evaluation_episodes\": 3,\n",
      "        \"discount\": 0.995,\n",
      "        \"training_batch_size\": 256\n",
      "    },\n",
      "    \"model_dir\": \"/opt/ml/model\",\n",
      "    \"framework_module\": \"sagemaker_mxnet_container.training:main\",\n",
      "    \"hosts\": [\n",
      "        \"algo-1\"\n",
      "    ],\n",
      "    \"output_intermediate_dir\": \"/opt/ml/output/intermediate\",\n",
      "    \"module_dir\": \"s3://get-home-safe-216537167580-50a65120/get-home-safe-2025-06-14-14-20-32-741/source/sourcedir.tar.gz\",\n",
      "    \"channel_input_dirs\": {},\n",
      "    \"network_interface_name\": \"eth0\",\n",
      "    \"current_host\": \"algo-1\",\n",
      "    \"input_config_dir\": \"/opt/ml/input/config\",\n",
      "    \"log_level\": 20,\n",
      "    \"output_dir\": \"/opt/ml/output\",\n",
      "    \"additional_framework_parameters\": {\n",
      "        \"sagemaker_estimator\": \"RLEstimator\"\n",
      "    },\n",
      "    \"user_entry_point\": \"train-coach.py\",\n",
      "    \"input_data_config\": {},\n",
      "    \"num_gpus\": 0,\n",
      "    \"num_cpus\": 4,\n",
      "    \"job_name\": \"get-home-safe-2025-06-14-14-20-32-741\"\u001b[0m\n",
      "\u001b[34m}\u001b[0m\n",
      "\u001b[34mEnvironment variables:\u001b[0m\n",
      "\u001b[34mSM_HPS={\"RLCOACH_PRESET\":\"preset-mountain-car-continuous-clipped-ppo\",\"discount\":0.995,\"evaluation_episodes\":3,\"gae_lambda\":0.997,\"improve_steps\":100000,\"save_model\":1,\"training_batch_size\":256,\"training_epochs\":10,\"training_freq_env_steps\":75000,\"training_learning_rate\":0.005}\u001b[0m\n",
      "\u001b[34mSM_CURRENT_HOST=algo-1\u001b[0m\n",
      "\u001b[34mPYTHONPATH=/usr/local/bin:/usr/lib/python35.zip:/usr/lib/python3.5:/usr/lib/python3.5/plat-x86_64-linux-gnu:/usr/lib/python3.5/lib-dynload:/usr/local/lib/python3.5/dist-packages:/usr/lib/python3/dist-packages\u001b[0m\n",
      "\u001b[34mSM_OUTPUT_DATA_DIR=/opt/ml/output/data\u001b[0m\n",
      "\u001b[34mSM_TRAINING_ENV={\"additional_framework_parameters\":{\"sagemaker_estimator\":\"RLEstimator\"},\"channel_input_dirs\":{},\"current_host\":\"algo-1\",\"framework_module\":\"sagemaker_mxnet_container.training:main\",\"hosts\":[\"algo-1\"],\"hyperparameters\":{\"RLCOACH_PRESET\":\"preset-mountain-car-continuous-clipped-ppo\",\"discount\":0.995,\"evaluation_episodes\":3,\"gae_lambda\":0.997,\"improve_steps\":100000,\"save_model\":1,\"training_batch_size\":256,\"training_epochs\":10,\"training_freq_env_steps\":75000,\"training_learning_rate\":0.005},\"input_config_dir\":\"/opt/ml/input/config\",\"input_data_config\":{},\"input_dir\":\"/opt/ml/input\",\"job_name\":\"get-home-safe-2025-06-14-14-20-32-741\",\"log_level\":20,\"model_dir\":\"/opt/ml/model\",\"module_dir\":\"s3://get-home-safe-216537167580-50a65120/get-home-safe-2025-06-14-14-20-32-741/source/sourcedir.tar.gz\",\"module_name\":\"train-coach\",\"network_interface_name\":\"eth0\",\"num_cpus\":4,\"num_gpus\":0,\"output_data_dir\":\"/opt/ml/output/data\",\"output_dir\":\"/opt/ml/output\",\"output_intermediate_dir\":\"/opt/ml/output/intermediate\",\"resource_config\":{\"current_group_name\":\"homogeneousCluster\",\"current_host\":\"algo-1\",\"current_instance_type\":\"ml.m5.xlarge\",\"hosts\":[\"algo-1\"],\"instance_groups\":[{\"hosts\":[\"algo-1\"],\"instance_group_name\":\"homogeneousCluster\",\"instance_type\":\"ml.m5.xlarge\"}],\"network_interface_name\":\"eth0\",\"topology\":null},\"user_entry_point\":\"train-coach.py\"}\u001b[0m\n",
      "\u001b[34mSM_NUM_GPUS=0\u001b[0m\n",
      "\u001b[34mSM_INPUT_CONFIG_DIR=/opt/ml/input/config\u001b[0m\n",
      "\u001b[34mSM_HP_GAE_LAMBDA=0.997\u001b[0m\n",
      "\u001b[34mSM_HP_TRAINING_FREQ_ENV_STEPS=75000\u001b[0m\n",
      "\u001b[34mSM_HP_TRAINING_BATCH_SIZE=256\u001b[0m\n",
      "\u001b[34mSM_USER_ENTRY_POINT=train-coach.py\u001b[0m\n",
      "\u001b[34mSM_MODEL_DIR=/opt/ml/model\u001b[0m\n",
      "\u001b[34mSM_LOG_LEVEL=20\u001b[0m\n",
      "\u001b[34mSM_HP_TRAINING_LEARNING_RATE=0.005\u001b[0m\n",
      "\u001b[34mSM_FRAMEWORK_PARAMS={\"sagemaker_estimator\":\"RLEstimator\"}\u001b[0m\n",
      "\u001b[34mSM_HP_TRAINING_EPOCHS=10\u001b[0m\n",
      "\u001b[34mSM_HP_DISCOUNT=0.995\u001b[0m\n",
      "\u001b[34mSM_USER_ARGS=[\"--RLCOACH_PRESET\",\"preset-mountain-car-continuous-clipped-ppo\",\"--discount\",\"0.995\",\"--evaluation_episodes\",\"3\",\"--gae_lambda\",\"0.997\",\"--improve_steps\",\"100000\",\"--save_model\",\"1\",\"--training_batch_size\",\"256\",\"--training_epochs\",\"10\",\"--training_freq_env_steps\",\"75000\",\"--training_learning_rate\",\"0.005\"]\u001b[0m\n",
      "\u001b[34mSM_FRAMEWORK_MODULE=sagemaker_mxnet_container.training:main\u001b[0m\n",
      "\u001b[34mSM_MODULE_DIR=s3://get-home-safe-216537167580-50a65120/get-home-safe-2025-06-14-14-20-32-741/source/sourcedir.tar.gz\u001b[0m\n",
      "\u001b[34mSM_RESOURCE_CONFIG={\"current_group_name\":\"homogeneousCluster\",\"current_host\":\"algo-1\",\"current_instance_type\":\"ml.m5.xlarge\",\"hosts\":[\"algo-1\"],\"instance_groups\":[{\"hosts\":[\"algo-1\"],\"instance_group_name\":\"homogeneousCluster\",\"instance_type\":\"ml.m5.xlarge\"}],\"network_interface_name\":\"eth0\",\"topology\":null}\u001b[0m\n",
      "\u001b[34mSM_HP_SAVE_MODEL=1\u001b[0m\n",
      "\u001b[34mSM_OUTPUT_DIR=/opt/ml/output\u001b[0m\n",
      "\u001b[34mSM_NETWORK_INTERFACE_NAME=eth0\u001b[0m\n",
      "\u001b[34mSM_HP_IMPROVE_STEPS=100000\u001b[0m\n",
      "\u001b[34mSM_INPUT_DATA_CONFIG={}\u001b[0m\n",
      "\u001b[34mSM_MODULE_NAME=train-coach\u001b[0m\n",
      "\u001b[34mSM_HP_RLCOACH_PRESET=preset-mountain-car-continuous-clipped-ppo\u001b[0m\n",
      "\u001b[34mSM_INPUT_DIR=/opt/ml/input\u001b[0m\n",
      "\u001b[34mSM_HOSTS=[\"algo-1\"]\u001b[0m\n",
      "\u001b[34mSM_NUM_CPUS=4\u001b[0m\n",
      "\u001b[34mSM_OUTPUT_INTERMEDIATE_DIR=/opt/ml/output/intermediate\u001b[0m\n",
      "\u001b[34mSM_HP_EVALUATION_EPISODES=3\u001b[0m\n",
      "\u001b[34mSM_CHANNELS=[]\u001b[0m\n",
      "\u001b[34mInvoking script with the following command:\u001b[0m\n",
      "\u001b[34m/usr/bin/python -m train-coach --RLCOACH_PRESET preset-mountain-car-continuous-clipped-ppo --discount 0.995 --evaluation_episodes 3 --gae_lambda 0.997 --improve_steps 100000 --save_model 1 --training_batch_size 256 --training_epochs 10 --training_freq_env_steps 75000 --training_learning_rate 0.005\u001b[0m\n",
      "\u001b[34m#033[93mWarning: failed to import the following packages - tensorflow#033[0m\u001b[0m\n",
      "\u001b[34mApplying RL hyperparameter rl.agent_params.algorithm.discount=0.995\u001b[0m\n",
      "\u001b[34mApplying RL hyperparameter rl.evaluation_steps:EnvironmentEpisodes=3\u001b[0m\n",
      "\u001b[34mApplying RL hyperparameter rl.agent_params.algorithm.gae_lambda=0.997\u001b[0m\n",
      "\u001b[34mApplying RL hyperparameter rl.improve_steps:EnvironmentSteps=100000\u001b[0m\n",
      "\u001b[34mApplying RL hyperparameter rl.agent_params.network_wrappers.main.batch_size=256\u001b[0m\n",
      "\u001b[34mApplying RL hyperparameter rl.agent_params.algorithm.optimization_epochs=10\u001b[0m\n",
      "\u001b[34mApplying RL hyperparameter rl.agent_params.algorithm.num_consecutive_playing_steps:EnvironmentSteps=75000\u001b[0m\n",
      "\u001b[34mApplying RL hyperparameter rl.agent_params.network_wrappers.main.learning_rate=0.005\u001b[0m\n",
      "\u001b[34mLoading preset preset-mountain-car-continuous-clipped-ppo from /opt/ml/code\u001b[0m\n",
      "\u001b[34m## Creating graph - name: BasicRLGraphManager\u001b[0m\n",
      "\u001b[34m/usr/local/lib/python3.5/dist-packages/gym/envs/registration.py:14: PkgResourcesDeprecationWarning: Parameters to load are deprecated.  Call .resolve and .require separately.\n",
      "  result = entry_point.load(False)\u001b[0m\n",
      "\u001b[34m## Creating agent - name: agent\u001b[0m\n",
      "\u001b[34mRequested devices [gpu(0)] not available. Default to CPU context.\u001b[0m\n",
      "\u001b[34mRequested devices [gpu(0)] not available. Default to CPU context.\u001b[0m\n",
      "\u001b[34m/usr/local/lib/python3.5/dist-packages/mxnet/gluon/block.py:303: UserWarning: \"PPOHead._loss\" is an unregistered container with Blocks. Note that Blocks inside the list, tuple or dict will not be registered automatically. Make sure to register them using register_child() or switching to nn.Sequential/nn.HybridSequential instead. \n",
      "  ret.update(cld.collect_params(select=select))\u001b[0m\n",
      "\u001b[34m/usr/local/lib/python3.5/dist-packages/mxnet/gluon/block.py:303: UserWarning: \"PPOHead._loss\" is an unregistered container with Blocks. Note that Blocks inside the list, tuple or dict will not be registered automatically. Make sure to register them using register_child() or switching to nn.Sequential/nn.HybridSequential instead. \n",
      "  ret.update(cld.collect_params(select=select))\u001b[0m\n",
      "\u001b[34m/usr/local/lib/python3.5/dist-packages/mxnet/gluon/block.py:303: UserWarning: \"PPOHead._loss\" is an unregistered container with Blocks. Note that Blocks inside the list, tuple or dict will not be registered automatically. Make sure to register them using register_child() or switching to nn.Sequential/nn.HybridSequential instead. \n",
      "  ret.update(cld.collect_params(select=select))\u001b[0m\n",
      "\u001b[34m## simple_rl_graph: Starting heatup\u001b[0m\n",
      "\u001b[34mHeatup> Name=main_level/agent, Worker=0, Episode=1, Total reward=-333.77, Steps=10000, Training iteration=0\u001b[0m\n",
      "\u001b[34mHeatup> Name=main_level/agent, Worker=0, Episode=2, Total reward=-332.08, Steps=20000, Training iteration=0\u001b[0m\n",
      "\u001b[34mHeatup> Name=main_level/agent, Worker=0, Episode=3, Total reward=-336.06, Steps=30000, Training iteration=0\u001b[0m\n",
      "\u001b[34mHeatup> Name=main_level/agent, Worker=0, Episode=4, Total reward=-334.27, Steps=40000, Training iteration=0\u001b[0m\n",
      "\u001b[34mHeatup> Name=main_level/agent, Worker=0, Episode=5, Total reward=-334.87, Steps=50000, Training iteration=0\u001b[0m\n",
      "\u001b[34mHeatup> Name=main_level/agent, Worker=0, Episode=6, Total reward=-329.97, Steps=60000, Training iteration=0\u001b[0m\n",
      "\u001b[34mHeatup> Name=main_level/agent, Worker=0, Episode=7, Total reward=-84.18, Steps=65528, Training iteration=0\u001b[0m\n",
      "\u001b[34mHeatup> Name=main_level/agent, Worker=0, Episode=8, Total reward=-330.1, Steps=75528, Training iteration=0\u001b[0m\n",
      "\u001b[34mHeatup> Name=main_level/agent, Worker=0, Episode=9, Total reward=-206.28, Steps=84679, Training iteration=0\u001b[0m\n",
      "\u001b[34mHeatup> Name=main_level/agent, Worker=0, Episode=10, Total reward=-84.93, Steps=90156, Training iteration=0\u001b[0m\n",
      "\u001b[34m## Starting to improve simple_rl_graph task index 0\u001b[0m\n",
      "\u001b[34mCheckpoint> Saving in path=['/opt/ml/output/data/checkpoint/0_Step-1.ckpt.main_level.agent.main.online.onnx', '/opt/ml/output/data/checkpoint/0_Step-1.ckpt.main_level.agent.main.online']\u001b[0m\n",
      "\u001b[34mCheckpoint> Saving in path=['/opt/ml/output/data/checkpoint/1_Step-8818.ckpt.main_level.agent.main.online.onnx', '/opt/ml/output/data/checkpoint/1_Step-8818.ckpt.main_level.agent.main.online']\u001b[0m\n",
      "\u001b[34mTraining> Name=main_level/agent, Worker=0, Episode=11, Total reward=-373.77, Steps=99452, Training iteration=0\u001b[0m\n",
      "\u001b[34m/usr/local/lib/python3.5/dist-packages/mxnet/gluon/block.py:303: UserWarning: \"PPOHead._loss\" is an unregistered container with Blocks. Note that Blocks inside the list, tuple or dict will not be registered automatically. Make sure to register them using register_child() or switching to nn.Sequential/nn.HybridSequential instead. \n",
      "  ret.update(cld.collect_params(select=select))\u001b[0m\n",
      "\u001b[34m/usr/local/lib/python3.5/dist-packages/rl_coach/architectures/mxnet_components/heads/head.py:95: UserWarning: Parameter clippedppolosscontinuous0_kl_coefficient is not used by any computation. Is this intended?\n",
      "  outputs = super(HeadLoss, self).forward(*args)\u001b[0m\n",
      "\u001b[34mPolicy training> Surrogate loss=0.02396070957183838, KL divergence=[0.], Entropy=[0.], training epoch=0, learning_rate=0.005\u001b[0m\n",
      "\u001b[34mPolicy training> Surrogate loss=0.023620732128620148, KL divergence=[0.], Entropy=[0.], training epoch=1, learning_rate=0.005\u001b[0m\n",
      "\u001b[34mPolicy training> Surrogate loss=0.023548228666186333, KL divergence=[0.], Entropy=[0.], training epoch=2, learning_rate=0.005\u001b[0m\n",
      "\u001b[34mPolicy training> Surrogate loss=0.023731157183647156, KL divergence=[0.], Entropy=[0.], training epoch=3, learning_rate=0.005\u001b[0m\n",
      "\u001b[34mPolicy training> Surrogate loss=0.023691430687904358, KL divergence=[0.], Entropy=[0.], training epoch=4, learning_rate=0.005\u001b[0m\n",
      "\u001b[34mPolicy training> Surrogate loss=0.023575156927108765, KL divergence=[0.], Entropy=[0.], training epoch=5, learning_rate=0.005\u001b[0m\n",
      "\u001b[34mPolicy training> Surrogate loss=0.023621302098035812, KL divergence=[0.], Entropy=[0.], training epoch=6, learning_rate=0.005\u001b[0m\n",
      "\u001b[34mPolicy training> Surrogate loss=0.02379494719207287, KL divergence=[0.], Entropy=[0.], training epoch=7, learning_rate=0.005\u001b[0m\n",
      "\u001b[34mPolicy training> Surrogate loss=0.023600595071911812, KL divergence=[0.], Entropy=[0.], training epoch=8, learning_rate=0.005\u001b[0m\n",
      "\u001b[34mPolicy training> Surrogate loss=0.02384197525680065, KL divergence=[0.], Entropy=[0.], training epoch=9, learning_rate=0.005\u001b[0m\n",
      "\u001b[34mCheckpoint> Saving in path=['/opt/ml/output/data/checkpoint/2_Step-9296.ckpt.main_level.agent.main.online.onnx', '/opt/ml/output/data/checkpoint/2_Step-9296.ckpt.main_level.agent.main.online']\u001b[0m\n",
      "\u001b[34mTraining> Name=main_level/agent, Worker=0, Episode=12, Total reward=63.76, Steps=100081, Training iteration=1\u001b[0m\n",
      "\u001b[34mTraining> Name=main_level/agent, Worker=0, Episode=13, Total reward=-3.94, Steps=101819, Training iteration=1\u001b[0m\n",
      "\u001b[34mTraining> Name=main_level/agent, Worker=0, Episode=14, Total reward=2.46, Steps=103448, Training iteration=1\u001b[0m\n",
      "\u001b[34mTraining> Name=main_level/agent, Worker=0, Episode=15, Total reward=30.17, Steps=104623, Training iteration=1\u001b[0m\n",
      "\u001b[34mTraining> Name=main_level/agent, Worker=0, Episode=16, Total reward=45.0, Steps=105597, Training iteration=1\u001b[0m\n",
      "\u001b[34mTraining> Name=main_level/agent, Worker=0, Episode=17, Total reward=28.82, Steps=106860, Training iteration=1\u001b[0m\n",
      "\u001b[34mCheckpoint> Saving in path=['/opt/ml/output/data/checkpoint/3_Step-17245.ckpt.main_level.agent.main.online.onnx', '/opt/ml/output/data/checkpoint/3_Step-17245.ckpt.main_level.agent.main.online']\u001b[0m\n",
      "\u001b[34mTraining> Name=main_level/agent, Worker=0, Episode=18, Total reward=21.71, Steps=108205, Training iteration=1\u001b[0m\n",
      "\u001b[34mTraining> Name=main_level/agent, Worker=0, Episode=19, Total reward=11.13, Steps=109671, Training iteration=1\u001b[0m\n",
      "\u001b[34mTraining> Name=main_level/agent, Worker=0, Episode=20, Total reward=8.47, Steps=111198, Training iteration=1\u001b[0m\n",
      "\u001b[34mTraining> Name=main_level/agent, Worker=0, Episode=21, Total reward=33.34, Steps=112352, Training iteration=1\u001b[0m\n",
      "\u001b[34mTraining> Name=main_level/agent, Worker=0, Episode=22, Total reward=69.76, Steps=112861, Training iteration=1\u001b[0m\n",
      "\u001b[34mTraining> Name=main_level/agent, Worker=0, Episode=23, Total reward=31.67, Steps=113972, Training iteration=1\u001b[0m\n",
      "\u001b[34mTraining> Name=main_level/agent, Worker=0, Episode=24, Total reward=46.86, Steps=114886, Training iteration=1\u001b[0m\n",
      "\u001b[34mCheckpoint> Saving in path=['/opt/ml/output/data/checkpoint/4_Step-25131.ckpt.main_level.agent.main.online.onnx', '/opt/ml/output/data/checkpoint/4_Step-25131.ckpt.main_level.agent.main.online']\u001b[0m\n",
      "\u001b[34mTraining> Name=main_level/agent, Worker=0, Episode=25, Total reward=-23.28, Steps=116962, Training iteration=1\u001b[0m\n",
      "\u001b[34mTraining> Name=main_level/agent, Worker=0, Episode=26, Total reward=68.03, Steps=117491, Training iteration=1\u001b[0m\n",
      "\u001b[34mTraining> Name=main_level/agent, Worker=0, Episode=27, Total reward=53.98, Steps=118278, Training iteration=1\u001b[0m\n",
      "\u001b[34mTraining> Name=main_level/agent, Worker=0, Episode=28, Total reward=58.58, Steps=118977, Training iteration=1\u001b[0m\n",
      "\u001b[34mTraining> Name=main_level/agent, Worker=0, Episode=29, Total reward=52.48, Steps=119827, Training iteration=1\u001b[0m\n",
      "\u001b[34mTraining> Name=main_level/agent, Worker=0, Episode=30, Total reward=70.27, Steps=120309, Training iteration=1\u001b[0m\n",
      "\u001b[34mTraining> Name=main_level/agent, Worker=0, Episode=31, Total reward=21.68, Steps=121685, Training iteration=1\u001b[0m\n",
      "\u001b[34mTraining> Name=main_level/agent, Worker=0, Episode=32, Total reward=42.32, Steps=122681, Training iteration=1\u001b[0m\n",
      "\u001b[34mCheckpoint> Saving in path=['/opt/ml/output/data/checkpoint/5_Step-33014.ckpt.main_level.agent.main.online.onnx', '/opt/ml/output/data/checkpoint/5_Step-33014.ckpt.main_level.agent.main.online']\u001b[0m\n",
      "\u001b[34mTraining> Name=main_level/agent, Worker=0, Episode=33, Total reward=17.46, Steps=124082, Training iteration=1\u001b[0m\n",
      "\u001b[34mTraining> Name=main_level/agent, Worker=0, Episode=34, Total reward=13.55, Steps=125564, Training iteration=1\u001b[0m\n",
      "\u001b[34mTraining> Name=main_level/agent, Worker=0, Episode=35, Total reward=55.73, Steps=126324, Training iteration=1\u001b[0m\n",
      "\u001b[34mTraining> Name=main_level/agent, Worker=0, Episode=36, Total reward=53.34, Steps=127139, Training iteration=1\u001b[0m\n",
      "\u001b[34mTraining> Name=main_level/agent, Worker=0, Episode=37, Total reward=55.88, Steps=127883, Training iteration=1\u001b[0m\n",
      "\u001b[34mTraining> Name=main_level/agent, Worker=0, Episode=38, Total reward=13.92, Steps=129378, Training iteration=1\u001b[0m\n",
      "\u001b[34mTraining> Name=main_level/agent, Worker=0, Episode=39, Total reward=20.93, Steps=130727, Training iteration=1\u001b[0m\n",
      "\u001b[34mCheckpoint> Saving in path=['/opt/ml/output/data/checkpoint/6_Step-40878.ckpt.main_level.agent.main.online.onnx', '/opt/ml/output/data/checkpoint/6_Step-40878.ckpt.main_level.agent.main.online']\u001b[0m\n",
      "\u001b[34mTraining> Name=main_level/agent, Worker=0, Episode=40, Total reward=32.32, Steps=131873, Training iteration=1\u001b[0m\n",
      "\u001b[34mTraining> Name=main_level/agent, Worker=0, Episode=41, Total reward=76.51, Steps=132263, Training iteration=1\u001b[0m\n",
      "\u001b[34mTraining> Name=main_level/agent, Worker=0, Episode=42, Total reward=42.52, Steps=133262, Training iteration=1\u001b[0m\n",
      "\u001b[34mTraining> Name=main_level/agent, Worker=0, Episode=43, Total reward=70.96, Steps=133781, Training iteration=1\u001b[0m\n",
      "\u001b[34mTraining> Name=main_level/agent, Worker=0, Episode=44, Total reward=39.38, Steps=134793, Training iteration=1\u001b[0m\n",
      "\u001b[34mTraining> Name=main_level/agent, Worker=0, Episode=45, Total reward=30.43, Steps=135946, Training iteration=1\u001b[0m\n",
      "\u001b[34mTraining> Name=main_level/agent, Worker=0, Episode=46, Total reward=41.43, Steps=136966, Training iteration=1\u001b[0m\n",
      "\u001b[34mTraining> Name=main_level/agent, Worker=0, Episode=47, Total reward=48.55, Steps=137859, Training iteration=1\u001b[0m\n",
      "\u001b[34mTraining> Name=main_level/agent, Worker=0, Episode=48, Total reward=77.81, Steps=138258, Training iteration=1\u001b[0m\n",
      "\u001b[34mCheckpoint> Saving in path=['/opt/ml/output/data/checkpoint/7_Step-48675.ckpt.main_level.agent.main.online.onnx', '/opt/ml/output/data/checkpoint/7_Step-48675.ckpt.main_level.agent.main.online']\u001b[0m\n",
      "\u001b[34mTraining> Name=main_level/agent, Worker=0, Episode=49, Total reward=45.75, Steps=139200, Training iteration=1\u001b[0m\n",
      "\u001b[34mTraining> Name=main_level/agent, Worker=0, Episode=50, Total reward=46.21, Steps=140087, Training iteration=1\u001b[0m\n",
      "\u001b[34mTraining> Name=main_level/agent, Worker=0, Episode=51, Total reward=37.91, Steps=141087, Training iteration=1\u001b[0m\n",
      "\u001b[34mTraining> Name=main_level/agent, Worker=0, Episode=52, Total reward=49.85, Steps=141943, Training iteration=1\u001b[0m\n",
      "\u001b[34mTraining> Name=main_level/agent, Worker=0, Episode=53, Total reward=62.31, Steps=142565, Training iteration=1\u001b[0m\n",
      "\u001b[34mTraining> Name=main_level/agent, Worker=0, Episode=54, Total reward=67.34, Steps=143147, Training iteration=1\u001b[0m\n",
      "\u001b[34mTraining> Name=main_level/agent, Worker=0, Episode=55, Total reward=47.79, Steps=144051, Training iteration=1\u001b[0m\n",
      "\u001b[34mTraining> Name=main_level/agent, Worker=0, Episode=56, Total reward=39.82, Steps=145105, Training iteration=1\u001b[0m\n",
      "\u001b[34mTraining> Name=main_level/agent, Worker=0, Episode=57, Total reward=27.06, Steps=146291, Training iteration=1\u001b[0m\n",
      "\u001b[34mCheckpoint> Saving in path=['/opt/ml/output/data/checkpoint/8_Step-56307.ckpt.main_level.agent.main.online.onnx', '/opt/ml/output/data/checkpoint/8_Step-56307.ckpt.main_level.agent.main.online']\u001b[0m\n",
      "\u001b[34mTraining> Name=main_level/agent, Worker=0, Episode=58, Total reward=45.8, Steps=147189, Training iteration=1\u001b[0m\n",
      "\u001b[34mTraining> Name=main_level/agent, Worker=0, Episode=59, Total reward=-30.44, Steps=149410, Training iteration=1\u001b[0m\n",
      "\u001b[34mTraining> Name=main_level/agent, Worker=0, Episode=60, Total reward=62.97, Steps=150028, Training iteration=1\u001b[0m\n",
      "\u001b[34mTraining> Name=main_level/agent, Worker=0, Episode=61, Total reward=0.13, Steps=151779, Training iteration=1\u001b[0m\n",
      "\u001b[34mTraining> Name=main_level/agent, Worker=0, Episode=62, Total reward=56.7, Steps=152516, Training iteration=1\u001b[0m\n",
      "\u001b[34mTraining> Name=main_level/agent, Worker=0, Episode=63, Total reward=8.61, Steps=154009, Training iteration=1\u001b[0m\n",
      "\u001b[34mCheckpoint> Saving in path=['/opt/ml/output/data/checkpoint/9_Step-64174.ckpt.main_level.agent.main.online.onnx', '/opt/ml/output/data/checkpoint/9_Step-64174.ckpt.main_level.agent.main.online']\u001b[0m\n",
      "\u001b[34mTraining> Name=main_level/agent, Worker=0, Episode=64, Total reward=53.8, Steps=154808, Training iteration=1\u001b[0m\n",
      "\u001b[34mTraining> Name=main_level/agent, Worker=0, Episode=65, Total reward=48.85, Steps=155666, Training iteration=1\u001b[0m\n",
      "\u001b[34mTraining> Name=main_level/agent, Worker=0, Episode=66, Total reward=47.97, Steps=156546, Training iteration=1\u001b[0m\n",
      "\u001b[34mTraining> Name=main_level/agent, Worker=0, Episode=67, Total reward=56.61, Steps=157326, Training iteration=1\u001b[0m\n",
      "\u001b[34mTraining> Name=main_level/agent, Worker=0, Episode=68, Total reward=36.63, Steps=158456, Training iteration=1\u001b[0m\n",
      "\u001b[34mTraining> Name=main_level/agent, Worker=0, Episode=69, Total reward=41.43, Steps=159466, Training iteration=1\u001b[0m\n",
      "\u001b[34mTraining> Name=main_level/agent, Worker=0, Episode=70, Total reward=23.56, Steps=160737, Training iteration=1\u001b[0m\n",
      "\u001b[34mTraining> Name=main_level/agent, Worker=0, Episode=71, Total reward=54.18, Steps=161483, Training iteration=1\u001b[0m\n",
      "\u001b[34mCheckpoint> Saving in path=['/opt/ml/output/data/checkpoint/10_Step-71994.ckpt.main_level.agent.main.online.onnx', '/opt/ml/output/data/checkpoint/10_Step-71994.ckpt.main_level.agent.main.online']\u001b[0m\n",
      "\u001b[34mTraining> Name=main_level/agent, Worker=0, Episode=72, Total reward=38.3, Steps=162485, Training iteration=1\u001b[0m\n",
      "\u001b[34mTraining> Name=main_level/agent, Worker=0, Episode=73, Total reward=62.41, Steps=163141, Training iteration=1\u001b[0m\n",
      "\u001b[34mTraining> Name=main_level/agent, Worker=0, Episode=74, Total reward=55.35, Steps=163891, Training iteration=1\u001b[0m\n",
      "\u001b[34mTraining> Name=main_level/agent, Worker=0, Episode=75, Total reward=35.99, Steps=164952, Training iteration=1\u001b[0m\n",
      "\u001b[34m## agent: Starting evaluation phase\u001b[0m\n",
      "\u001b[34mTesting> Name=main_level/agent, Worker=0, Episode=75, Total reward=92.05, Steps=165156, Training iteration=1\u001b[0m\n",
      "\u001b[34mTesting> Name=main_level/agent, Worker=0, Episode=75, Total reward=96.99, Steps=165156, Training iteration=1\u001b[0m\n",
      "\u001b[34mTesting> Name=main_level/agent, Worker=0, Episode=75, Total reward=95.79, Steps=165156, Training iteration=1\u001b[0m\n",
      "\u001b[34m## agent: Finished evaluation phase. Success rate = 0.0, Avg Total Reward = 94.94\u001b[0m\n",
      "\u001b[34mCheckpoint> Saving in path=['/opt/ml/output/data/checkpoint/11_Step-75001.ckpt.main_level.agent.main.online.onnx', '/opt/ml/output/data/checkpoint/11_Step-75001.ckpt.main_level.agent.main.online']\u001b[0m\n",
      "\u001b[34mTraining> Name=main_level/agent, Worker=0, Episode=76, Total reward=14.67, Steps=166599, Training iteration=1\u001b[0m\n",
      "\u001b[34mTraining> Name=main_level/agent, Worker=0, Episode=77, Total reward=62.31, Steps=167254, Training iteration=1\u001b[0m\n",
      "\u001b[34mTraining> Name=main_level/agent, Worker=0, Episode=78, Total reward=35.15, Steps=168323, Training iteration=1\u001b[0m\n",
      "\u001b[34mTraining> Name=main_level/agent, Worker=0, Episode=79, Total reward=62.6, Steps=168966, Training iteration=1\u001b[0m\n",
      "\u001b[34mTraining> Name=main_level/agent, Worker=0, Episode=80, Total reward=26.13, Steps=170220, Training iteration=1\u001b[0m\n",
      "\u001b[34mTraining> Name=main_level/agent, Worker=0, Episode=81, Total reward=44.11, Steps=171177, Training iteration=1\u001b[0m\n",
      "\u001b[34mTraining> Name=main_level/agent, Worker=0, Episode=82, Total reward=77.23, Steps=171559, Training iteration=1\u001b[0m\n",
      "\u001b[34mTraining> Name=main_level/agent, Worker=0, Episode=83, Total reward=58.72, Steps=172260, Training iteration=1\u001b[0m\n",
      "\u001b[34mCheckpoint> Saving in path=['/opt/ml/output/data/checkpoint/12_Step-82787.ckpt.main_level.agent.main.online.onnx', '/opt/ml/output/data/checkpoint/12_Step-82787.ckpt.main_level.agent.main.online']\u001b[0m\n",
      "\u001b[34mTraining> Name=main_level/agent, Worker=0, Episode=84, Total reward=57.14, Steps=173008, Training iteration=1\u001b[0m\n",
      "\u001b[34mTraining> Name=main_level/agent, Worker=0, Episode=85, Total reward=20.71, Steps=174385, Training iteration=1\u001b[0m\n",
      "\u001b[34mTraining> Name=main_level/agent, Worker=0, Episode=86, Total reward=57.13, Steps=175116, Training iteration=1\u001b[0m\n",
      "\u001b[34mPolicy training> Surrogate loss=0.004336285404860973, KL divergence=[0.], Entropy=[0.], training epoch=0, learning_rate=0.005\u001b[0m\n",
      "\u001b[34mPolicy training> Surrogate loss=0.003700682893395424, KL divergence=[0.], Entropy=[0.], training epoch=1, learning_rate=0.005\u001b[0m\n",
      "\u001b[34mPolicy training> Surrogate loss=0.0036333624739199877, KL divergence=[0.], Entropy=[0.], training epoch=2, learning_rate=0.005\u001b[0m\n",
      "\u001b[34mPolicy training> Surrogate loss=0.003372236853465438, KL divergence=[0.], Entropy=[0.], training epoch=3, learning_rate=0.005\u001b[0m\n",
      "\u001b[34mPolicy training> Surrogate loss=0.0032060618977993727, KL divergence=[0.], Entropy=[0.], training epoch=4, learning_rate=0.005\u001b[0m\n",
      "\u001b[34mPolicy training> Surrogate loss=0.0028855225536972284, KL divergence=[0.], Entropy=[0.], training epoch=5, learning_rate=0.005\u001b[0m\n",
      "\u001b[34mPolicy training> Surrogate loss=0.0030368496663868427, KL divergence=[0.], Entropy=[0.], training epoch=6, learning_rate=0.005\u001b[0m\n",
      "\u001b[34mPolicy training> Surrogate loss=0.0028827895876020193, KL divergence=[0.], Entropy=[0.], training epoch=7, learning_rate=0.005\u001b[0m\n",
      "\u001b[34mPolicy training> Surrogate loss=0.002970665693283081, KL divergence=[0.], Entropy=[0.], training epoch=8, learning_rate=0.005\u001b[0m\n",
      "\u001b[34mPolicy training> Surrogate loss=0.0030197519809007645, KL divergence=[0.], Entropy=[0.], training epoch=9, learning_rate=0.005\u001b[0m\n",
      "\u001b[34mCheckpoint> Saving in path=['/opt/ml/output/data/checkpoint/13_Step-84960.ckpt.main_level.agent.main.online.onnx', '/opt/ml/output/data/checkpoint/13_Step-84960.ckpt.main_level.agent.main.online']\u001b[0m\n",
      "\u001b[34mTraining> Name=main_level/agent, Worker=0, Episode=87, Total reward=33.33, Steps=176270, Training iteration=2\u001b[0m\n",
      "\u001b[34mTraining> Name=main_level/agent, Worker=0, Episode=88, Total reward=59.77, Steps=176955, Training iteration=2\u001b[0m\n",
      "\u001b[34mTraining> Name=main_level/agent, Worker=0, Episode=89, Total reward=73.07, Steps=177424, Training iteration=2\u001b[0m\n",
      "\u001b[34mTraining> Name=main_level/agent, Worker=0, Episode=90, Total reward=38.08, Steps=178522, Training iteration=2\u001b[0m\n",
      "\u001b[34mTraining> Name=main_level/agent, Worker=0, Episode=91, Total reward=47.91, Steps=179449, Training iteration=2\u001b[0m\n",
      "\u001b[34mTraining> Name=main_level/agent, Worker=0, Episode=92, Total reward=52.59, Steps=180254, Training iteration=2\u001b[0m\n",
      "\u001b[34mTraining> Name=main_level/agent, Worker=0, Episode=93, Total reward=45.05, Steps=181209, Training iteration=2\u001b[0m\n",
      "\u001b[34mTraining> Name=main_level/agent, Worker=0, Episode=94, Total reward=57.98, Steps=181933, Training iteration=2\u001b[0m\n",
      "\u001b[34mTraining> Name=main_level/agent, Worker=0, Episode=95, Total reward=74.68, Steps=182358, Training iteration=2\u001b[0m\n",
      "\u001b[34mCheckpoint> Saving in path=['/opt/ml/output/data/checkpoint/14_Step-92665.ckpt.main_level.agent.main.online.onnx', '/opt/ml/output/data/checkpoint/14_Step-92665.ckpt.main_level.agent.main.online']\u001b[0m\n",
      "\u001b[34mTraining> Name=main_level/agent, Worker=0, Episode=96, Total reward=71.37, Steps=182839, Training iteration=2\u001b[0m\n",
      "\u001b[34mTraining> Name=main_level/agent, Worker=0, Episode=97, Total reward=74.36, Steps=183278, Training iteration=2\u001b[0m\n",
      "\u001b[34mTraining> Name=main_level/agent, Worker=0, Episode=98, Total reward=64.37, Steps=183875, Training iteration=2\u001b[0m\n",
      "\u001b[34mTraining> Name=main_level/agent, Worker=0, Episode=99, Total reward=78.91, Steps=184207, Training iteration=2\u001b[0m\n",
      "\u001b[34mTraining> Name=main_level/agent, Worker=0, Episode=100, Total reward=81.96, Steps=184530, Training iteration=2\u001b[0m\n",
      "\u001b[34mTraining> Name=main_level/agent, Worker=0, Episode=101, Total reward=68.25, Steps=185051, Training iteration=2\u001b[0m\n",
      "\u001b[34mTraining> Name=main_level/agent, Worker=0, Episode=102, Total reward=50.54, Steps=185877, Training iteration=2\u001b[0m\n",
      "\u001b[34mTraining> Name=main_level/agent, Worker=0, Episode=103, Total reward=71.84, Steps=186346, Training iteration=2\u001b[0m\n",
      "\u001b[34mTraining> Name=main_level/agent, Worker=0, Episode=104, Total reward=56.9, Steps=187081, Training iteration=2\u001b[0m\n",
      "\u001b[34mTraining> Name=main_level/agent, Worker=0, Episode=105, Total reward=42.19, Steps=188067, Training iteration=2\u001b[0m\n",
      "\u001b[34mTraining> Name=main_level/agent, Worker=0, Episode=106, Total reward=52.21, Steps=188882, Training iteration=2\u001b[0m\n",
      "\u001b[34mTraining> Name=main_level/agent, Worker=0, Episode=107, Total reward=68.64, Steps=189399, Training iteration=2\u001b[0m\n",
      "\u001b[34mTraining> Name=main_level/agent, Worker=0, Episode=108, Total reward=69.85, Steps=189892, Training iteration=2\u001b[0m\n",
      "\u001b[34mTraining> Name=main_level/agent, Worker=0, Episode=109, Total reward=71.03, Steps=190406, Training iteration=2\u001b[0m\n",
      "\u001b[34mCheckpoint> Saving in path=['/opt/ml/output/data/checkpoint/15_Step-100250.ckpt.main_level.agent.main.online.onnx', '/opt/ml/output/data/checkpoint/15_Step-100250.ckpt.main_level.agent.main.online']\u001b[0m\n",
      "\u001b[34mTraining> Name=main_level/agent, Worker=0, Episode=110, Total reward=51.5, Steps=191225, Training iteration=2\u001b[0m\n",
      "\u001b[34mTraining> Name=main_level/agent, Worker=0, Episode=111, Total reward=74.11, Steps=191660, Training iteration=2\u001b[0m\n",
      "\u001b[34mTraining> Name=main_level/agent, Worker=0, Episode=112, Total reward=70.57, Steps=192179, Training iteration=2\u001b[0m\n",
      "\u001b[34mTraining> Name=main_level/agent, Worker=0, Episode=113, Total reward=58.78, Steps=192908, Training iteration=2\u001b[0m\n",
      "\u001b[34mTraining> Name=main_level/agent, Worker=0, Episode=114, Total reward=62.87, Steps=193550, Training iteration=2\u001b[0m\n",
      "\u001b[34mTraining> Name=main_level/agent, Worker=0, Episode=115, Total reward=42.24, Steps=194576, Training iteration=2\u001b[0m\n",
      "\u001b[34mTraining> Name=main_level/agent, Worker=0, Episode=116, Total reward=57.84, Steps=195303, Training iteration=2\u001b[0m\n",
      "\u001b[34mTraining> Name=main_level/agent, Worker=0, Episode=117, Total reward=49.46, Steps=196184, Training iteration=2\u001b[0m\n",
      "\u001b[34mTraining> Name=main_level/agent, Worker=0, Episode=118, Total reward=59.94, Steps=196878, Training iteration=2\u001b[0m\n",
      "\u001b[34mTraining> Name=main_level/agent, Worker=0, Episode=119, Total reward=58.55, Steps=197590, Training iteration=2\u001b[0m\n",
      "\u001b[34mCheckpoint> Saving in path=['/opt/ml/output/data/checkpoint/16_Step-108081.ckpt.main_level.agent.main.online.onnx', '/opt/ml/output/data/checkpoint/16_Step-108081.ckpt.main_level.agent.main.online']\u001b[0m\n",
      "\u001b[34mTraining> Name=main_level/agent, Worker=0, Episode=120, Total reward=52.89, Steps=198420, Training iteration=2\u001b[0m\n",
      "\u001b[34mTraining> Name=main_level/agent, Worker=0, Episode=121, Total reward=62.59, Steps=199053, Training iteration=2\u001b[0m\n",
      "\u001b[34mTraining> Name=main_level/agent, Worker=0, Episode=122, Total reward=79.16, Steps=199422, Training iteration=2\u001b[0m\n",
      "\u001b[34mTraining> Name=main_level/agent, Worker=0, Episode=123, Total reward=54.08, Steps=200241, Training iteration=2\u001b[0m\n",
      "\u001b[34mTraining> Name=main_level/agent, Worker=0, Episode=124, Total reward=66.25, Steps=200817, Training iteration=2\u001b[0m\n",
      "\u001b[34mTraining> Name=main_level/agent, Worker=0, Episode=125, Total reward=66.28, Steps=201390, Training iteration=2\u001b[0m\n",
      "\u001b[34mTraining> Name=main_level/agent, Worker=0, Episode=126, Total reward=62.58, Steps=202044, Training iteration=2\u001b[0m\n",
      "\u001b[34mTraining> Name=main_level/agent, Worker=0, Episode=127, Total reward=42.98, Steps=203011, Training iteration=2\u001b[0m\n",
      "\u001b[34mTraining> Name=main_level/agent, Worker=0, Episode=128, Total reward=61.53, Steps=203700, Training iteration=2\u001b[0m\n",
      "\u001b[34mTraining> Name=main_level/agent, Worker=0, Episode=129, Total reward=75.06, Steps=204133, Training iteration=2\u001b[0m\n",
      "\u001b[34mTraining> Name=main_level/agent, Worker=0, Episode=130, Total reward=59.43, Steps=204864, Training iteration=2\u001b[0m\n",
      "\u001b[34mTraining> Name=main_level/agent, Worker=0, Episode=131, Total reward=78.06, Steps=205222, Training iteration=2\u001b[0m\n",
      "\u001b[34mTraining> Name=main_level/agent, Worker=0, Episode=132, Total reward=64.85, Steps=205818, Training iteration=2\u001b[0m\n",
      "\u001b[34mCheckpoint> Saving in path=['/opt/ml/output/data/checkpoint/17_Step-115662.ckpt.main_level.agent.main.online.onnx', '/opt/ml/output/data/checkpoint/17_Step-115662.ckpt.main_level.agent.main.online']\u001b[0m\n",
      "\u001b[34mTraining> Name=main_level/agent, Worker=0, Episode=133, Total reward=58.81, Steps=206502, Training iteration=2\u001b[0m\n",
      "\u001b[34mTraining> Name=main_level/agent, Worker=0, Episode=134, Total reward=41.87, Steps=207497, Training iteration=2\u001b[0m\n",
      "\u001b[34mTraining> Name=main_level/agent, Worker=0, Episode=135, Total reward=54.22, Steps=208292, Training iteration=2\u001b[0m\n",
      "\u001b[34mTraining> Name=main_level/agent, Worker=0, Episode=136, Total reward=69.32, Steps=208855, Training iteration=2\u001b[0m\n",
      "\u001b[34mTraining> Name=main_level/agent, Worker=0, Episode=137, Total reward=48.54, Steps=209732, Training iteration=2\u001b[0m\n",
      "\u001b[34mTraining> Name=main_level/agent, Worker=0, Episode=138, Total reward=76.78, Steps=210121, Training iteration=2\u001b[0m\n",
      "\u001b[34mTraining> Name=main_level/agent, Worker=0, Episode=139, Total reward=53.21, Steps=210931, Training iteration=2\u001b[0m\n",
      "\u001b[34mTraining> Name=main_level/agent, Worker=0, Episode=140, Total reward=67.92, Steps=211505, Training iteration=2\u001b[0m\n",
      "\u001b[34mTraining> Name=main_level/agent, Worker=0, Episode=141, Total reward=65.48, Steps=212119, Training iteration=2\u001b[0m\n",
      "\u001b[34mTraining> Name=main_level/agent, Worker=0, Episode=142, Total reward=63.17, Steps=212740, Training iteration=2\u001b[0m\n",
      "\u001b[34mTraining> Name=main_level/agent, Worker=0, Episode=143, Total reward=72.95, Steps=213197, Training iteration=2\u001b[0m\n",
      "\u001b[34mCheckpoint> Saving in path=['/opt/ml/output/data/checkpoint/18_Step-123378.ckpt.main_level.agent.main.online.onnx', '/opt/ml/output/data/checkpoint/18_Step-123378.ckpt.main_level.agent.main.online']\u001b[0m\n",
      "\u001b[34mTraining> Name=main_level/agent, Worker=0, Episode=144, Total reward=72.71, Steps=213669, Training iteration=2\u001b[0m\n",
      "\u001b[34mTraining> Name=main_level/agent, Worker=0, Episode=145, Total reward=66.17, Steps=214246, Training iteration=2\u001b[0m\n",
      "\u001b[34mTraining> Name=main_level/agent, Worker=0, Episode=146, Total reward=42.61, Steps=215199, Training iteration=2\u001b[0m\n",
      "\u001b[34mTraining> Name=main_level/agent, Worker=0, Episode=147, Total reward=85.26, Steps=215440, Training iteration=2\u001b[0m\n",
      "\u001b[34mTraining> Name=main_level/agent, Worker=0, Episode=148, Total reward=65.79, Steps=216033, Training iteration=2\u001b[0m\n",
      "\u001b[34mTraining> Name=main_level/agent, Worker=0, Episode=149, Total reward=37.49, Steps=217125, Training iteration=2\u001b[0m\n",
      "\u001b[34mTraining> Name=main_level/agent, Worker=0, Episode=150, Total reward=65.17, Steps=217729, Training iteration=2\u001b[0m\n",
      "\u001b[34mTraining> Name=main_level/agent, Worker=0, Episode=151, Total reward=40.35, Steps=218739, Training iteration=2\u001b[0m\n",
      "\u001b[34mTraining> Name=main_level/agent, Worker=0, Episode=152, Total reward=75.61, Steps=219157, Training iteration=2\u001b[0m\n",
      "\u001b[34mTraining> Name=main_level/agent, Worker=0, Episode=153, Total reward=63.07, Steps=219795, Training iteration=2\u001b[0m\n",
      "\u001b[34mTraining> Name=main_level/agent, Worker=0, Episode=154, Total reward=62.9, Steps=220442, Training iteration=2\u001b[0m\n",
      "\u001b[34mTraining> Name=main_level/agent, Worker=0, Episode=155, Total reward=58.24, Steps=221187, Training iteration=2\u001b[0m\n",
      "\u001b[34mCheckpoint> Saving in path=['/opt/ml/output/data/checkpoint/19_Step-131079.ckpt.main_level.agent.main.online.onnx', '/opt/ml/output/data/checkpoint/19_Step-131079.ckpt.main_level.agent.main.online']\u001b[0m\n",
      "\u001b[34mTraining> Name=main_level/agent, Worker=0, Episode=156, Total reward=35.68, Steps=222293, Training iteration=2\u001b[0m\n",
      "\u001b[34mTraining> Name=main_level/agent, Worker=0, Episode=157, Total reward=19.81, Steps=223686, Training iteration=2\u001b[0m\n",
      "\u001b[34mTraining> Name=main_level/agent, Worker=0, Episode=158, Total reward=70.49, Steps=224176, Training iteration=2\u001b[0m\n",
      "\u001b[34mTraining> Name=main_level/agent, Worker=0, Episode=159, Total reward=61.78, Steps=224836, Training iteration=2\u001b[0m\n",
      "\u001b[34mTraining> Name=main_level/agent, Worker=0, Episode=160, Total reward=55.35, Steps=225608, Training iteration=2\u001b[0m\n",
      "\u001b[34mTraining> Name=main_level/agent, Worker=0, Episode=161, Total reward=63.22, Steps=226213, Training iteration=2\u001b[0m\n",
      "\u001b[34mTraining> Name=main_level/agent, Worker=0, Episode=162, Total reward=61.68, Steps=226867, Training iteration=2\u001b[0m\n",
      "\u001b[34mTraining> Name=main_level/agent, Worker=0, Episode=163, Total reward=51.2, Steps=227724, Training iteration=2\u001b[0m\n",
      "\u001b[34mTraining> Name=main_level/agent, Worker=0, Episode=164, Total reward=50.16, Steps=228587, Training iteration=2\u001b[0m\n",
      "\u001b[34mCheckpoint> Saving in path=['/opt/ml/output/data/checkpoint/20_Step-138869.ckpt.main_level.agent.main.online.onnx', '/opt/ml/output/data/checkpoint/20_Step-138869.ckpt.main_level.agent.main.online']\u001b[0m\n",
      "\u001b[34mTraining> Name=main_level/agent, Worker=0, Episode=165, Total reward=67.37, Steps=229148, Training iteration=2\u001b[0m\n",
      "\u001b[34mTraining> Name=main_level/agent, Worker=0, Episode=166, Total reward=49.17, Steps=229997, Training iteration=2\u001b[0m\n",
      "\u001b[34mTraining> Name=main_level/agent, Worker=0, Episode=167, Total reward=56.91, Steps=230754, Training iteration=2\u001b[0m\n",
      "\u001b[34mTraining> Name=main_level/agent, Worker=0, Episode=168, Total reward=66.8, Steps=231330, Training iteration=2\u001b[0m\n",
      "\u001b[34mTraining> Name=main_level/agent, Worker=0, Episode=169, Total reward=51.16, Steps=232167, Training iteration=2\u001b[0m\n",
      "\u001b[34mTraining> Name=main_level/agent, Worker=0, Episode=170, Total reward=62.08, Steps=232853, Training iteration=2\u001b[0m\n",
      "\u001b[34mTraining> Name=main_level/agent, Worker=0, Episode=171, Total reward=50.24, Steps=233716, Training iteration=2\u001b[0m\n",
      "\u001b[34mTraining> Name=main_level/agent, Worker=0, Episode=172, Total reward=52.61, Steps=234559, Training iteration=2\u001b[0m\n",
      "\u001b[34mTraining> Name=main_level/agent, Worker=0, Episode=173, Total reward=50.3, Steps=235414, Training iteration=2\u001b[0m\n",
      "\u001b[34mTraining> Name=main_level/agent, Worker=0, Episode=174, Total reward=48.19, Steps=236304, Training iteration=2\u001b[0m\n",
      "\u001b[34mTraining> Name=main_level/agent, Worker=0, Episode=175, Total reward=80.99, Steps=236622, Training iteration=2\u001b[0m\n",
      "\u001b[34mCheckpoint> Saving in path=['/opt/ml/output/data/checkpoint/21_Step-146509.ckpt.main_level.agent.main.online.onnx', '/opt/ml/output/data/checkpoint/21_Step-146509.ckpt.main_level.agent.main.online']\u001b[0m\n",
      "\u001b[34mTraining> Name=main_level/agent, Worker=0, Episode=176, Total reward=65.96, Steps=237221, Training iteration=2\u001b[0m\n",
      "\u001b[34mTraining> Name=main_level/agent, Worker=0, Episode=177, Total reward=62.48, Steps=237854, Training iteration=2\u001b[0m\n",
      "\u001b[34mTraining> Name=main_level/agent, Worker=0, Episode=178, Total reward=72.6, Steps=238332, Training iteration=2\u001b[0m\n",
      "\u001b[34mTraining> Name=main_level/agent, Worker=0, Episode=179, Total reward=72.88, Steps=238798, Training iteration=2\u001b[0m\n",
      "\u001b[34mTraining> Name=main_level/agent, Worker=0, Episode=180, Total reward=46.46, Steps=239725, Training iteration=2\u001b[0m\n",
      "\u001b[34m## agent: Starting evaluation phase\u001b[0m\n",
      "\u001b[34mTesting> Name=main_level/agent, Worker=0, Episode=180, Total reward=97.61, Steps=240156, Training iteration=2\u001b[0m\n",
      "\u001b[34mTesting> Name=main_level/agent, Worker=0, Episode=180, Total reward=98.06, Steps=240156, Training iteration=2\u001b[0m\n",
      "\u001b[34mTesting> Name=main_level/agent, Worker=0, Episode=180, Total reward=98.01, Steps=240156, Training iteration=2\u001b[0m\n",
      "\u001b[34m## agent: Finished evaluation phase. Success rate = 0.0, Avg Total Reward = 97.89\u001b[0m\n",
      "\u001b[34mONNX correction applied to continuous PPO agent.\u001b[0m\n",
      "\u001b[34m2025-06-14 14:28:54,069 sagemaker-containers INFO     Reporting training SUCCESS\u001b[0m\n",
      "\n",
      "2025-06-14 14:29:12 Uploading - Uploading generated training model\n",
      "2025-06-14 14:29:12 Completed - Training job completed\n",
      "Training seconds: 481\n",
      "Billable seconds: 481\n"
     ]
    }
   ],
   "source": [
    "# Define the instance type and epochs\n",
    "instance_type = \"ml.m5.xlarge\"\n",
    "epochs = 10\n",
    "learning_rate = 0.005\n",
    "\n",
    "# Define the training jobs parameters and hyper parameters.\n",
    "estimator = RLEstimator(\n",
    "    entry_point=\"train-coach.py\",\n",
    "    source_dir=\"src\",\n",
    "    dependencies=[\"common/sagemaker_rl\"],\n",
    "    toolkit=RLToolkit.COACH,\n",
    "    toolkit_version=\"0.11.0\",\n",
    "    framework=RLFramework.MXNET,\n",
    "    role=role,\n",
    "    instance_type=instance_type,\n",
    "    instance_count=1,\n",
    "    output_path=s3_output_path,\n",
    "    base_job_name=job_name_prefix,\n",
    "    hyperparameters={\n",
    "        \"RLCOACH_PRESET\": \"preset-mountain-car-continuous-clipped-ppo\",\n",
    "        \"discount\": 0.995,\n",
    "        \"gae_lambda\": 0.997,\n",
    "        \"evaluation_episodes\": 3,\n",
    "        \"improve_steps\": 100000,\n",
    "        \"training_freq_env_steps\": 75000,\n",
    "        \"training_learning_rate\": learning_rate,\n",
    "        \"training_batch_size\": 256,\n",
    "        \"training_epochs\": epochs,\n",
    "        \"save_model\": 1,\n",
    "    },\n",
    ")\n",
    "\n",
    "estimator.fit()"
   ]
  },
  {
   "cell_type": "markdown",
   "metadata": {},
   "source": [
    "### Step 2: Store intermediate training output and model checkpoints \n",
    "\n",
    "The output from the training job above is stored on S3. The intermediate folder contains gifs and metadata of the training.\n",
    "\n",
    "#### Code Cell 9"
   ]
  },
  {
   "cell_type": "code",
   "execution_count": 9,
   "metadata": {
    "execution": {
     "iopub.execute_input": "2025-06-14T14:30:14.939046Z",
     "iopub.status.busy": "2025-06-14T14:30:14.938467Z",
     "iopub.status.idle": "2025-06-14T14:30:14.948446Z",
     "shell.execute_reply": "2025-06-14T14:30:14.947376Z",
     "shell.execute_reply.started": "2025-06-14T14:30:14.939014Z"
    }
   },
   "outputs": [
    {
     "name": "stdout",
     "output_type": "stream",
     "text": [
      "Job name: get-home-safe-2025-06-14-14-20-32-741\n",
      "S3 job path: s3://get-home-safe-216537167580-50a65120/get-home-safe-2025-06-14-14-20-32-741\n",
      "Output.tar.gz location: s3://get-home-safe-216537167580-50a65120/get-home-safe-2025-06-14-14-20-32-741/output/output.tar.gz\n",
      "Intermediate folder path: s3://get-home-safe-216537167580-50a65120/get-home-safe-2025-06-14-14-20-32-741/output/intermediate/\n",
      "Create local folder /tmp/get-home-safe-2025-06-14-14-20-32-741\n"
     ]
    }
   ],
   "source": [
    "job_name = estimator._current_job_name\n",
    "print(\"Job name: {}\".format(job_name))\n",
    "\n",
    "s3_url = \"s3://{}/{}\".format(s3_bucket, job_name)\n",
    "\n",
    "output_tar_key = \"{}/output/output.tar.gz\".format(job_name)\n",
    "\n",
    "intermediate_folder_key = \"{}/output/intermediate/\".format(job_name)\n",
    "output_url = \"s3://{}/{}\".format(s3_bucket, output_tar_key)\n",
    "intermediate_url = \"s3://{}/{}\".format(s3_bucket, intermediate_folder_key)\n",
    "\n",
    "print(\"S3 job path: {}\".format(s3_url))\n",
    "print(\"Output.tar.gz location: {}\".format(output_url))\n",
    "print(\"Intermediate folder path: {}\".format(intermediate_url))\n",
    "\n",
    "tmp_dir = \"/tmp/{}\".format(job_name)\n",
    "os.system(\"mkdir {}\".format(tmp_dir))\n",
    "print(\"Create local folder {}\".format(tmp_dir))"
   ]
  },
  {
   "cell_type": "markdown",
   "metadata": {},
   "source": [
    "## Task 4: Visualization"
   ]
  },
  {
   "cell_type": "markdown",
   "metadata": {},
   "source": [
    "### Step 1: Plot metrics for training job\n",
    "We can pull the reward metric of the training and plot it to see the performance of the model over time.\n",
    "\n",
    "#### Code Cell 10"
   ]
  },
  {
   "cell_type": "code",
   "execution_count": 10,
   "metadata": {
    "execution": {
     "iopub.execute_input": "2025-06-14T14:30:19.880234Z",
     "iopub.status.busy": "2025-06-14T14:30:19.879790Z",
     "iopub.status.idle": "2025-06-14T14:30:24.585975Z",
     "shell.execute_reply": "2025-06-14T14:30:24.585121Z",
     "shell.execute_reply.started": "2025-06-14T14:30:19.880196Z"
    }
   },
   "outputs": [
    {
     "name": "stdout",
     "output_type": "stream",
     "text": [
      "Requirement already satisfied: matplotlib in /opt/conda/lib/python3.12/site-packages (3.10.3)\n",
      "Requirement already satisfied: contourpy>=1.0.1 in /opt/conda/lib/python3.12/site-packages (from matplotlib) (1.3.2)\n",
      "Requirement already satisfied: cycler>=0.10 in /opt/conda/lib/python3.12/site-packages (from matplotlib) (0.12.1)\n",
      "Requirement already satisfied: fonttools>=4.22.0 in /opt/conda/lib/python3.12/site-packages (from matplotlib) (4.57.0)\n",
      "Requirement already satisfied: kiwisolver>=1.3.1 in /opt/conda/lib/python3.12/site-packages (from matplotlib) (1.4.8)\n",
      "Requirement already satisfied: numpy>=1.23 in /opt/conda/lib/python3.12/site-packages (from matplotlib) (1.26.4)\n",
      "Requirement already satisfied: packaging>=20.0 in /opt/conda/lib/python3.12/site-packages (from matplotlib) (24.2)\n",
      "Requirement already satisfied: pillow>=8 in /opt/conda/lib/python3.12/site-packages (from matplotlib) (11.2.1)\n",
      "Requirement already satisfied: pyparsing>=2.3.1 in /opt/conda/lib/python3.12/site-packages (from matplotlib) (3.2.3)\n",
      "Requirement already satisfied: python-dateutil>=2.7 in /opt/conda/lib/python3.12/site-packages (from matplotlib) (2.9.0.post0)\n",
      "Requirement already satisfied: six>=1.5 in /opt/conda/lib/python3.12/site-packages (from python-dateutil>=2.7->matplotlib) (1.17.0)\n",
      "Note: you may need to restart the kernel to use updated packages.\n"
     ]
    },
    {
     "name": "stderr",
     "output_type": "stream",
     "text": [
      "INFO:matplotlib.font_manager:generated new fontManager\n"
     ]
    },
    {
     "name": "stdout",
     "output_type": "stream",
     "text": [
      "Waiting for s3://get-home-safe-216537167580-50a65120/get-home-safe-2025-06-14-14-20-32-741/output/intermediate/worker_0.simple_rl_graph.main_level.main_level.agent_0.csv...\n",
      "Downloading get-home-safe-2025-06-14-14-20-32-741/output/intermediate/worker_0.simple_rl_graph.main_level.main_level.agent_0.csv\n"
     ]
    },
    {
     "data": {
      "image/png": "[encoded data removed]",
      "text/plain": [
       "<Figure size 1200x500 with 1 Axes>"
      ]
     },
     "metadata": {},
     "output_type": "display_data"
    }
   ],
   "source": [
    "%pip install matplotlib\n",
    "%matplotlib inline\n",
    "import pandas as pd\n",
    "\n",
    "csv_file_name = \"worker_0.simple_rl_graph.main_level.main_level.agent_0.csv\"\n",
    "key = os.path.join(intermediate_folder_key, csv_file_name)\n",
    "wait_for_s3_object(s3_bucket, key, tmp_dir)\n",
    "\n",
    "csv_file = \"{}/{}\".format(tmp_dir, csv_file_name)\n",
    "df = pd.read_csv(csv_file)\n",
    "df = df.dropna(subset=[\"Training Reward\"])\n",
    "x_axis = \"Episode #\"\n",
    "y_axis = \"Training Reward\"\n",
    "\n",
    "if len(df) > 0:\n",
    "    plt = df.plot(x=x_axis, y=y_axis, figsize=(12, 5), legend=True, style=\"b-\")\n",
    "    plt.set_ylabel(y_axis)\n",
    "    plt.set_xlabel(x_axis)"
   ]
  },
  {
   "cell_type": "markdown",
   "metadata": {},
   "source": [
    "### Step 2: Visualize the rendered gifs\n",
    "The latest gif file found in the gifs directory is displayed. You can replace the tmp.gif file below to visualize other files generated.\n",
    "\n",
    "#### Code Cell 11"
   ]
  },
  {
   "cell_type": "code",
   "execution_count": 11,
   "metadata": {
    "execution": {
     "iopub.execute_input": "2025-06-14T14:30:29.996012Z",
     "iopub.status.busy": "2025-06-14T14:30:29.995564Z",
     "iopub.status.idle": "2025-06-14T14:30:31.001859Z",
     "shell.execute_reply": "2025-06-14T14:30:31.001049Z",
     "shell.execute_reply.started": "2025-06-14T14:30:29.995978Z"
    },
    "scrolled": true
   },
   "outputs": [
    {
     "name": "stdout",
     "output_type": "stream",
     "text": [
      "Waiting for s3://get-home-safe-216537167580-50a65120/get-home-safe-2025-06-14-14-20-32-741/output/intermediate/gifs...\n",
      "Downloading get-home-safe-2025-06-14-14-20-32-741/output/intermediate/gifs/2025-06-14-14-25-33_episode-77_score-92.04621727260404.gif\n",
      "Downloading get-home-safe-2025-06-14-14-20-32-741/output/intermediate/gifs/2025-06-14-14-25-40_episode-78_score-96.9891866049305.gif\n",
      "Downloading get-home-safe-2025-06-14-14-20-32-741/output/intermediate/gifs/2025-06-14-14-28-47_episode-186_score-97.61220127050797.gif\n",
      "Downloading get-home-safe-2025-06-14-14-20-32-741/output/intermediate/gifs/2025-06-14-14-28-50_episode-187_score-98.05955508330175.gif\n",
      "Copied gifs files to /tmp/get-home-safe-2025-06-14-14-20-32-741\n"
     ]
    }
   ],
   "source": [
    "key = os.path.join(intermediate_folder_key, \"gifs\")\n",
    "wait_for_s3_object(s3_bucket, key, tmp_dir)\n",
    "print(\"Copied gifs files to {}\".format(tmp_dir))"
   ]
  },
  {
   "cell_type": "markdown",
   "metadata": {},
   "source": [
    "#### Code Cell 12"
   ]
  },
  {
   "cell_type": "code",
   "execution_count": 12,
   "metadata": {
    "execution": {
     "iopub.execute_input": "2025-06-14T14:30:35.914836Z",
     "iopub.status.busy": "2025-06-14T14:30:35.914510Z",
     "iopub.status.idle": "2025-06-14T14:30:35.922729Z",
     "shell.execute_reply": "2025-06-14T14:30:35.922031Z",
     "shell.execute_reply.started": "2025-06-14T14:30:35.914812Z"
    }
   },
   "outputs": [
    {
     "name": "stdout",
     "output_type": "stream",
     "text": [
      "GIFs found:\n",
      "2025-06-14-14-25-33_episode-77_score-92.04621727260404.gif\n",
      "2025-06-14-14-25-40_episode-78_score-96.9891866049305.gif\n",
      "2025-06-14-14-28-47_episode-186_score-97.61220127050797.gif\n",
      "2025-06-14-14-28-50_episode-187_score-98.05955508330175.gif\n"
     ]
    }
   ],
   "source": [
    "glob_pattern = os.path.join(\"{}/*.gif\".format(tmp_dir))\n",
    "gifs = [file for file in glob.iglob(glob_pattern, recursive=True)]\n",
    "extract_episode = lambda string: int(\n",
    "    re.search(\".*episode-(\\d*)_.*\", string, re.IGNORECASE).group(1)\n",
    ")\n",
    "gifs.sort(key=extract_episode)\n",
    "print(\"GIFs found:\\n{}\".format(\"\\n\".join([os.path.basename(gif) for gif in gifs])))"
   ]
  },
  {
   "cell_type": "markdown",
   "metadata": {},
   "source": [
    "#### Code Cell 13"
   ]
  },
  {
   "cell_type": "code",
   "execution_count": 13,
   "metadata": {
    "execution": {
     "iopub.execute_input": "2025-06-14T14:30:39.721089Z",
     "iopub.status.busy": "2025-06-14T14:30:39.720290Z",
     "iopub.status.idle": "2025-06-14T14:30:39.734271Z",
     "shell.execute_reply": "2025-06-14T14:30:39.733428Z",
     "shell.execute_reply.started": "2025-06-14T14:30:39.721056Z"
    }
   },
   "outputs": [
    {
     "name": "stdout",
     "output_type": "stream",
     "text": [
      "Selected GIF: 2025-06-14-14-28-50_episode-187_score-98.05955508330175.gif\n"
     ]
    },
    {
     "data": {
      "text/html": [
       "<img src=\"./src/tmp/2025-06-14-14-28-50_episode-187_score-98.05955508330175.gif.gif\">"
      ],
      "text/plain": [
       "<IPython.core.display.HTML object>"
      ]
     },
     "execution_count": 13,
     "metadata": {},
     "output_type": "execute_result"
    }
   ],
   "source": [
    "# visualize a specific episode\n",
    "gif_index = -1  # since you want last gif\n",
    "gif_filepath = gifs[gif_index]\n",
    "gif_filename = os.path.basename(gif_filepath)\n",
    "print(\"Selected GIF: {}\".format(gif_filename))\n",
    "os.system(\"mkdir -p ./src/tmp/ && cp {} ./src/tmp/{}.gif\".format(gif_filepath, gif_filename))\n",
    "HTML('<img src=\"./src/tmp/{}.gif\">'.format(gif_filename))"
   ]
  },
  {
   "cell_type": "markdown",
   "metadata": {},
   "source": [
    "## Task 5: Model deployment"
   ]
  },
  {
   "cell_type": "markdown",
   "metadata": {},
   "source": [
    "Since you specified MXNet when configuring the RLEstimator, the MXNet deployment container will be used for hosting.\n",
    "\n",
    "#### Code Cell 14"
   ]
  },
  {
   "cell_type": "code",
   "execution_count": 14,
   "metadata": {
    "execution": {
     "iopub.execute_input": "2025-06-14T14:31:10.176704Z",
     "iopub.status.busy": "2025-06-14T14:31:10.176198Z",
     "iopub.status.idle": "2025-06-14T14:33:43.117346Z",
     "shell.execute_reply": "2025-06-14T14:33:43.116428Z",
     "shell.execute_reply.started": "2025-06-14T14:31:10.176667Z"
    }
   },
   "outputs": [
    {
     "name": "stderr",
     "output_type": "stream",
     "text": [
      "INFO:sagemaker:Created S3 bucket: sagemaker-us-east-1-216537167580\n",
      "INFO:sagemaker:Creating model with name: get-home-safe-2025-06-14-14-31-10-178\n",
      "INFO:sagemaker:Creating endpoint-config with name get-home-safe-2025-06-14-14-31-10-178\n",
      "INFO:sagemaker:Creating endpoint with name get-home-safe-2025-06-14-14-31-10-178\n"
     ]
    },
    {
     "name": "stdout",
     "output_type": "stream",
     "text": [
      "----!"
     ]
    }
   ],
   "source": [
    "predictor = estimator.deploy(\n",
    "    initial_instance_count=1, instance_type='ml.m5.large', entry_point=\"deploy-mxnet-coach.py\"\n",
    ")"
   ]
  },
  {
   "cell_type": "markdown",
   "metadata": {},
   "source": [
    "You can test the endpoint with 2 samples observations. Starting with the car on the right side, but starting to fall back down the hill.\n",
    "\n",
    "#### Code Cell 15"
   ]
  },
  {
   "cell_type": "code",
   "execution_count": null,
   "metadata": {},
   "outputs": [],
   "source": [
    "output = predictor.predict(np.array([0.5, -0.5]))\n",
    "action = output[1][0]\n",
    "action"
   ]
  },
  {
   "cell_type": "markdown",
   "metadata": {},
   "source": [
    "You will see the policy decides to move the car to the left (negative value). And similarly in the other direction.\n",
    "\n",
    "#### Code Cell 16"
   ]
  },
  {
   "cell_type": "code",
   "execution_count": null,
   "metadata": {},
   "outputs": [],
   "source": [
    "output = predictor.predict(np.array([-0.5, 0.5]))\n",
    "action = output[1][0]\n",
    "action"
   ]
  },
  {
   "cell_type": "markdown",
   "metadata": {},
   "source": [
    "### Clean up endpoint"
   ]
  },
  {
   "cell_type": "code",
   "execution_count": null,
   "metadata": {},
   "outputs": [],
   "source": [
    "#predictor.delete_endpoint()"
   ]
  },
  {
   "cell_type": "code",
   "execution_count": null,
   "metadata": {},
   "outputs": [],
   "source": []
  }
 ],
 "metadata": {
  "anaconda-cloud": {},
  "instance_type": "ml.t3.medium",
  "kernelspec": {
   "display_name": "Python 3 (ipykernel)",
   "language": "python",
   "name": "python3"
  },
  "language_info": {
   "codemirror_mode": {
    "name": "ipython",
    "version": 3
   },
   "file_extension": ".py",
   "mimetype": "text/x-python",
   "name": "python",
   "nbconvert_exporter": "python",
   "pygments_lexer": "ipython3",
   "version": "3.12.9"
  },
  "notice": "Copyright 2018 Amazon.com, Inc. or its affiliates. All Rights Reserved. Licensed under the Apache License, Version 2.0 (the \"License\"). You may not use this file except in compliance with the License. A copy of the License is located at http://aws.amazon.com/apache2.0/ or in the \"license\" file accompanying this file. This file is distributed on an \"AS IS\" BASIS, WITHOUT WARRANTIES OR CONDITIONS OF ANY KIND, either express or implied. See the License for the specific language governing permissions and limitations under the License."
 },
 "nbformat": 4,
 "nbformat_minor": 4
}
